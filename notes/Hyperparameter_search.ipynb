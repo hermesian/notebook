{
 "cells": [
  {
   "cell_type": "markdown",
   "metadata": {
    "slideshow": {
     "slide_type": "slide"
    }
   },
   "source": [
    "# ハイパーパラメータの探索"
   ]
  },
  {
   "cell_type": "markdown",
   "metadata": {
    "slideshow": {
     "slide_type": "subslide"
    }
   },
   "source": [
    "> <b>ハイパーパラメータとは</b> <br>\n",
    "> 機械学習では２種類のパラメータがある。学習によって更新されるものと、試行毎にユーザが渡すものである。後者はハイパーパラメータ(Hyperparameter)と呼ばれる。\n",
    "\n",
    "機械学習の学習では、このHyperparameterの最適解をどのように得るかが重要。"
   ]
  },
  {
   "cell_type": "markdown",
   "metadata": {},
   "source": [
    "<u>どのくらい大変そうか？</u>\n",
    "\n",
    "(Deep Learningであると層数、学習係数、バッチサイズ,などパラメータいっぱい) x (一回の学習にかかる時間) = ＼(^o^)／"
   ]
  },
  {
   "cell_type": "markdown",
   "metadata": {},
   "source": [
    "<u>どうするのか？</u>\n",
    "\n",
    "1. 学習を並列で行って時間短縮を図る\n",
    "2. ハイパーパラメータを工夫して選ぶ"
   ]
  },
  {
   "cell_type": "markdown",
   "metadata": {},
   "source": [
    "### ベイズ最適化\n",
    "\n",
    "\n",
    "すでに判明しているパラメータセットから次に探索すべきパラメータセットを導く。<br>\n",
    "だけどパラメータがどんな分布を持つかはわからない。そこで関数が何かしらの確率分布に従うと仮定する(ここではガウス分布)。\n",
    "\n",
    "<img src=\"./img/bo1.jpg\" width=\"500\">\n",
    "\n",
    "またパラメータの選択の基準は「獲得関数」で測られる。\n",
    "\n",
    "<img src=\"./img/bo2.jpg\" width=\"500\">\n",
    "\n",
    "この獲得関数はいくつかあって、何を選ぶかが重要。\n",
    "\n",
    "|獲得関数                       |説明                                                                  |\n",
    "|:------------------------------|:---------------------------------------------------------------------|\n",
    "|Probability of Improvement (PI)|これまで得られた中でもっとも良いものを上回る確率が高いものを選ぶ      |\n",
    "|Expected Improvement (EI)      |これまで得られた中でもっとも良いものを上回る幅の期待値が高いものを選ぶ|\n",
    "|Upper Confidence Bound (UCB)   |信頼区間の上限が高いものを選ぶ                                        |"
   ]
  },
  {
   "cell_type": "markdown",
   "metadata": {},
   "source": [
    "### 参考\n",
    "\n",
    "* [A Tutorial on Bayesian Optimization of Expensive Cost Functions, with Application to Active User Modeling and Hierarchical Reinforcement Learning](https://arxiv.org/pdf/1012.2599.pdf)\n",
    "* [ベイズ的最適化の入門と応用 機械学習による機械学習の実験計画](https://www.youtube.com/watch?v=pQHWew4YYao)\n",
    "* [機械学習のためのベイズ最適化](https://book.mynavi.jp/manatee/detail/id=59393)"
   ]
  }
 ],
 "metadata": {
  "kernelspec": {
   "display_name": "Python 3",
   "language": "python",
   "name": "python3"
  },
  "language_info": {
   "codemirror_mode": {
    "name": "ipython",
    "version": 3
   },
   "file_extension": ".py",
   "mimetype": "text/x-python",
   "name": "python",
   "nbconvert_exporter": "python",
   "pygments_lexer": "ipython3",
   "version": "3.5.2"
  }
 },
 "nbformat": 4,
 "nbformat_minor": 1
}
