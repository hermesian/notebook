{
 "cells": [
  {
   "cell_type": "markdown",
   "metadata": {},
   "source": [
    "# Chainer Notebook\n",
    "* ChainerでMNISTサンプルの学習・推論を行う備忘録。\n",
    "* 必要なライブラリを読み込む"
   ]
  },
  {
   "cell_type": "code",
   "execution_count": 1,
   "metadata": {
    "collapsed": false
   },
   "outputs": [],
   "source": [
    "import numpy as np\n",
    "import chainer\n",
    "from chainer import cuda, Function, gradient_check, report, training , utils, Variable\n",
    "from chainer import datasets, iterators, optimizers, serializers\n",
    "from chainer import Link, Chain, ChainList\n",
    "from chainer import computational_graph\n",
    "import chainer.functions as F\n",
    "import chainer.links as L\n",
    "from chainer.training import extensions\n",
    "from sklearn.datasets import fetch_mldata"
   ]
  },
  {
   "cell_type": "markdown",
   "metadata": {},
   "source": [
    "* データセットをロードする"
   ]
  },
  {
   "cell_type": "code",
   "execution_count": 2,
   "metadata": {
    "collapsed": false
   },
   "outputs": [],
   "source": [
    "mnist = fetch_mldata('MNIST original')\n",
    "\n",
    "# 70,000件の784次元ベクトルデータ\n",
    "mnist.data = mnist.data.astype(np.float32)\n",
    "mnist.data /= 255 # 0-1のデータに変換\n",
    "\n",
    "# 正解データ(教師データ)\n",
    "mnist.target = mnist.target.astype(np.int32)"
   ]
  },
  {
   "cell_type": "markdown",
   "metadata": {},
   "source": [
    "* 学習用データと検証用データに分割する"
   ]
  },
  {
   "cell_type": "code",
   "execution_count": 3,
   "metadata": {
    "collapsed": false
   },
   "outputs": [],
   "source": [
    "N = 60000 # 学習データ数\n",
    "x_train, x_test = np.split(mnist.data, [N])\n",
    "y_train, y_test = np.split(mnist.target, [N])\n",
    "N_test = y_test.size # 検証用データ数"
   ]
  },
  {
   "cell_type": "markdown",
   "metadata": {
    "collapsed": true
   },
   "source": [
    "### 多層パーセプトロン(MLP)による学習\n",
    "* 各パラメータの設定"
   ]
  },
  {
   "cell_type": "code",
   "execution_count": 4,
   "metadata": {
    "collapsed": true
   },
   "outputs": [],
   "source": [
    "batch_size = 100\n",
    "n_epoch = 20\n",
    "n_units = 1024"
   ]
  },
  {
   "cell_type": "markdown",
   "metadata": {},
   "source": [
    "* モデルを定義する"
   ]
  },
  {
   "cell_type": "code",
   "execution_count": 5,
   "metadata": {
    "collapsed": true
   },
   "outputs": [],
   "source": [
    "class MLP(chainer.Chain):\n",
    "    \n",
    "    def __init__(self, n_in, n_units, n_out):\n",
    "        super(MLP, self).__init__(\n",
    "            l1=L.Linear(n_in, n_units),    # 入力層\n",
    "            l2=L.Linear(n_units, n_units), # 中間層\n",
    "            l3=L.Linear(n_units, n_out),   # 出力層\n",
    "        )\n",
    "        \n",
    "    def __call__(self, x):\n",
    "        h1 = F.relu(self.l1(x))\n",
    "        h2 = F.relu(self.l2(h1))\n",
    "        return self.l3(h2)"
   ]
  },
  {
   "cell_type": "markdown",
   "metadata": {},
   "source": [
    "最終層の活性関数として, softmax関数を使用し、損失関数として、交差エントロピー関数で評価する。"
   ]
  },
  {
   "cell_type": "code",
   "execution_count": 6,
   "metadata": {
    "collapsed": false
   },
   "outputs": [],
   "source": [
    "model = L.Classifier(MLP(784, n_units, 10))"
   ]
  },
  {
   "cell_type": "markdown",
   "metadata": {},
   "source": [
    "* 最適化手法の選択"
   ]
  },
  {
   "cell_type": "code",
   "execution_count": 7,
   "metadata": {
    "collapsed": true
   },
   "outputs": [],
   "source": [
    "optimizer = optimizers.Adam()\n",
    "optimizer.setup(model)"
   ]
  },
  {
   "cell_type": "markdown",
   "metadata": {},
   "source": [
    "* 学習"
   ]
  },
  {
   "cell_type": "code",
   "execution_count": 8,
   "metadata": {
    "collapsed": false
   },
   "outputs": [],
   "source": [
    "def plot():\n",
    "    with open('graph.dot', 'w') as o:\n",
    "        variable_style = {'shape': 'octagon', 'fillcolor': '#E0E0E0',\n",
    "                                  'style': 'filled'}\n",
    "        function_style = {'shape': 'record', 'fillcolor': '#6495ED',\n",
    "                                  'style': 'filled'}\n",
    "        g = computational_graph.build_computational_graph(\n",
    "            (model.loss,),\n",
    "            variable_style=variable_style,\n",
    "            function_style=function_style)\n",
    "        o.write(g.dump())\n",
    "        \n",
    "    print('graph generated')"
   ]
  },
  {
   "cell_type": "code",
   "execution_count": 9,
   "metadata": {
    "collapsed": false
   },
   "outputs": [
    {
     "name": "stdout",
     "output_type": "stream",
     "text": [
      "('epoch', 1)\n",
      "graph generated\n",
      "('epoch', 2)\n",
      "('epoch', 3)\n",
      "('epoch', 4)\n",
      "('epoch', 5)\n",
      "('epoch', 6)\n",
      "('epoch', 7)\n",
      "('epoch', 8)\n",
      "('epoch', 9)\n",
      "('epoch', 10)\n",
      "('epoch', 11)\n",
      "('epoch', 12)\n",
      "('epoch', 13)\n",
      "('epoch', 14)\n",
      "('epoch', 15)\n",
      "('epoch', 16)\n",
      "('epoch', 17)\n",
      "('epoch', 18)\n",
      "('epoch', 19)\n",
      "('epoch', 20)\n",
      "train mean loss=0.00702655764213, accuracy=0.997983335157, throughput=752.208425374 images/sec\n"
     ]
    }
   ],
   "source": [
    "import six\n",
    "import time\n",
    "for epoch in six.moves.range(1, n_epoch + 1):\n",
    "    print('epoch', epoch)\n",
    "    \n",
    "    # training\n",
    "    perm = np.random.permutation(N) # データをランダムに並び替え\n",
    "    sum_accuracy = 0\n",
    "    sum_loss = 0\n",
    "    start = time.time()\n",
    "    for i in six.moves.range(0, N, batch_size):\n",
    "        x = chainer.Variable(np.asarray(x_train[perm[i:i + batch_size]]))\n",
    "        t = chainer.Variable(np.asarray(y_train[perm[i:i + batch_size]]))\n",
    "        \n",
    "        optimizer.update(model, x, t)\n",
    "        if epoch == 1 and i == 0:\n",
    "            plot()\n",
    "        \n",
    "        # len(t.data)はbatch_sizeと置き換えても同じ\n",
    "        sum_loss += float(model.loss.data) * len(t.data)\n",
    "        sum_accuracy += float(model.accuracy.data) * len(t.data)\n",
    "\n",
    "end = time.time()\n",
    "elapsed_time = end - start\n",
    "throughput = N / elapsed_time\n",
    "print('train mean loss={}, accuracy={}, throughput={} images/sec'.format(\n",
    "       sum_loss / N, sum_accuracy / N, throughput))"
   ]
  },
  {
   "cell_type": "markdown",
   "metadata": {},
   "source": [
    "* 学習したモデルを評価する"
   ]
  },
  {
   "cell_type": "code",
   "execution_count": 10,
   "metadata": {
    "collapsed": false
   },
   "outputs": [
    {
     "name": "stdout",
     "output_type": "stream",
     "text": [
      "test mean loss=0.0861607757364, accuracy=0.985400004983\n"
     ]
    }
   ],
   "source": [
    "sum_accuracy = 0\n",
    "sum_loss = 0\n",
    "for i in six.moves.range(0, N_test, batch_size):\n",
    "    x = chainer.Variable(np.asarray(x_test[i:i + batch_size]), volatile='on')\n",
    "    t = chainer.Variable(np.asarray(y_test[i:i + batch_size]), volatile='on')\n",
    "    \n",
    "    loss = model(x, t)\n",
    "    sum_loss += float(loss.data) * len(t.data)\n",
    "    sum_accuracy += float(model.accuracy.data) * len(t.data)\n",
    "    \n",
    "print('test mean loss={}, accuracy={}'.format(sum_loss / N_test, sum_accuracy / N_test))"
   ]
  },
  {
   "cell_type": "markdown",
   "metadata": {},
   "source": [
    "* モデルをnpz形式で保存する"
   ]
  },
  {
   "cell_type": "code",
   "execution_count": 11,
   "metadata": {
    "collapsed": true
   },
   "outputs": [],
   "source": [
    "serializers.save_npz('mlp.model', model) # モデル\n",
    "serializers.save_npz('mlp.state', optimizer) # 学習状況"
   ]
  },
  {
   "cell_type": "markdown",
   "metadata": {},
   "source": [
    "### 多層パーセプトロン(MLP)による学習\n",
    "* モデルは前と変わらず\n",
    "* v1.11.0で実装されたTrainerを使用\n",
    "* データの読み込みについてもスッキリ書き換えられている\n",
    "    * 60,000は学習データに、10,000は評価データに分けられている"
   ]
  },
  {
   "cell_type": "code",
   "execution_count": 12,
   "metadata": {
    "collapsed": false
   },
   "outputs": [
    {
     "name": "stdout",
     "output_type": "stream",
     "text": [
      "Downloading from http://yann.lecun.com/exdb/mnist/train-images-idx3-ubyte.gz...\n",
      "Downloading from http://yann.lecun.com/exdb/mnist/train-labels-idx1-ubyte.gz...\n",
      "Downloading from http://yann.lecun.com/exdb/mnist/t10k-images-idx3-ubyte.gz...\n",
      "Downloading from http://yann.lecun.com/exdb/mnist/t10k-labels-idx1-ubyte.gz...\n"
     ]
    }
   ],
   "source": [
    "train, test = chainer.datasets.get_mnist()\n",
    "\n",
    "train_iter = chainer.iterators.SerialIterator(train, batch_size) # エポック毎の学習データの並び替えもやってくれる\n",
    "test_iter = chainer.iterators.SerialIterator(test, batch_size, repeat=False, shuffle=False) # repeat=Flaseがないと無限ループ"
   ]
  },
  {
   "cell_type": "markdown",
   "metadata": {},
   "source": [
    "* Trainerの設定"
   ]
  },
  {
   "cell_type": "code",
   "execution_count": 13,
   "metadata": {
    "collapsed": true
   },
   "outputs": [],
   "source": [
    "updater = training.StandardUpdater(train_iter, optimizer)\n",
    "trainer = training.Trainer(updater, (n_epoch, 'epoch'), out='result')"
   ]
  },
  {
   "cell_type": "markdown",
   "metadata": {},
   "source": [
    "* 試験データを用いた評価を設定"
   ]
  },
  {
   "cell_type": "code",
   "execution_count": 14,
   "metadata": {
    "collapsed": true
   },
   "outputs": [],
   "source": [
    "trainer.extend(extensions.Evaluator(test_iter, model))"
   ]
  },
  {
   "cell_type": "markdown",
   "metadata": {},
   "source": [
    "* 計算グラフのダンプを設定"
   ]
  },
  {
   "cell_type": "code",
   "execution_count": 15,
   "metadata": {
    "collapsed": true
   },
   "outputs": [],
   "source": [
    "trainer.extend(extensions.dump_graph('main/loss'))"
   ]
  },
  {
   "cell_type": "markdown",
   "metadata": {},
   "source": [
    "* スナップショットをエポック毎に取得するよう設定"
   ]
  },
  {
   "cell_type": "code",
   "execution_count": 17,
   "metadata": {
    "collapsed": false
   },
   "outputs": [],
   "source": [
    "trainer.extend(extensions.snapshot())"
   ]
  },
  {
   "cell_type": "markdown",
   "metadata": {},
   "source": [
    "* エポック毎に学習状況を標準出力するよう設定"
   ]
  },
  {
   "cell_type": "code",
   "execution_count": 19,
   "metadata": {
    "collapsed": true
   },
   "outputs": [],
   "source": [
    "trainer.extend(extensions.LogReport())\n",
    "trainer.extend(extensions.PrintReport(\n",
    "    ['epoch', 'main/loss', 'validation/main/loss',\n",
    "     'main/accuracy', 'validation/main/accuracy']))"
   ]
  },
  {
   "cell_type": "markdown",
   "metadata": {},
   "source": [
    "* 進捗をバー表示する"
   ]
  },
  {
   "cell_type": "code",
   "execution_count": 20,
   "metadata": {
    "collapsed": true
   },
   "outputs": [],
   "source": [
    "trainer.extend(extensions.ProgressBar())"
   ]
  },
  {
   "cell_type": "markdown",
   "metadata": {},
   "source": [
    "* 学習の実行"
   ]
  },
  {
   "cell_type": "code",
   "execution_count": 21,
   "metadata": {
    "collapsed": false
   },
   "outputs": [
    {
     "name": "stdout",
     "output_type": "stream",
     "text": [
      "\u001b[Jepoch       main/loss   validation/main/loss  main/accuracy  validation/main/accuracy\n",
      "\u001b[J\u001b[J\u001b[J\u001b[J\u001b[J\u001b[J\u001b[J\u001b[J\u001b[J\u001b[J\u001b[J\u001b[J\u001b[J\u001b[J\u001b[J\u001b[J\u001b[J\u001b[J\u001b[J\u001b[J\u001b[J\u001b[J\u001b[J\u001b[J\u001b[J\u001b[J\u001b[J\u001b[J\u001b[J\u001b[J\u001b[J\u001b[J\u001b[J\u001b[J\u001b[J\u001b[J\u001b[J\u001b[J\u001b[J\u001b[J\u001b[J\u001b[J\u001b[J\u001b[J\u001b[J\u001b[J\u001b[J\u001b[J\u001b[J\u001b[J\u001b[J\u001b[J\u001b[J\u001b[J\u001b[J\u001b[J\u001b[J\u001b[J\u001b[J\u001b[J\u001b[J\u001b[J\u001b[J\u001b[J\u001b[J\u001b[J\u001b[J\u001b[J\u001b[J\u001b[J\u001b[J\u001b[J\u001b[J\u001b[J\u001b[J\u001b[J\u001b[J\u001b[J\u001b[J\u001b[J\u001b[J\u001b[J\u001b[J\u001b[J\u001b[J\u001b[J\u001b[J\u001b[J\u001b[J\u001b[J\u001b[J\u001b[J\u001b[J\u001b[J\u001b[J\u001b[J\u001b[J\u001b[J\u001b[J\u001b[J\u001b[J\u001b[J\u001b[J\u001b[J\u001b[J\u001b[J\u001b[J\u001b[J\u001b[J\u001b[J\u001b[J\u001b[J\u001b[J\u001b[J\u001b[J\u001b[J\u001b[J\u001b[J\u001b[J\u001b[J\u001b[J\u001b[J\u001b[J\u001b[J\u001b[J\u001b[J\u001b[J\u001b[J\u001b[J\u001b[J\u001b[J\u001b[J\u001b[J\u001b[J\u001b[J\u001b[J\u001b[J\u001b[J\u001b[J\u001b[J\u001b[J\u001b[J\u001b[J\u001b[J\u001b[J\u001b[J\u001b[J\u001b[J\u001b[J\u001b[J\u001b[J\u001b[J\u001b[J\u001b[J\u001b[J\u001b[J\u001b[J\u001b[J\u001b[J\u001b[J\u001b[J\u001b[J\u001b[J\u001b[J\u001b[J\u001b[J\u001b[J\u001b[J\u001b[J\u001b[J\u001b[J\u001b[J\u001b[J\u001b[J\u001b[J\u001b[J\u001b[J\u001b[J\u001b[J\u001b[J\u001b[J\u001b[J\u001b[J\u001b[J\u001b[J\u001b[J\u001b[J\u001b[J\u001b[J\u001b[J\u001b[J\u001b[J\u001b[J\u001b[J\u001b[J\u001b[J\u001b[J\u001b[J\u001b[J\u001b[J     total [..................................................]  1.67%\n",
      "this epoch [################..................................] 33.33%\n",
      "       200 iter, 0 epoch / 20 epochs\n",
      "    4.7132 iters/sec. Estimated time to finish: 0:41:43.594672.\n",
      "\u001b[4A\u001b[J\u001b[J\u001b[J\u001b[J\u001b[J\u001b[J\u001b[J\u001b[J\u001b[J\u001b[J\u001b[J\u001b[J\u001b[J\u001b[J\u001b[J\u001b[J\u001b[J\u001b[J\u001b[J\u001b[J\u001b[J\u001b[J\u001b[J\u001b[J\u001b[J\u001b[J\u001b[J\u001b[J\u001b[J\u001b[J\u001b[J\u001b[J\u001b[J\u001b[J\u001b[J\u001b[J\u001b[J\u001b[J\u001b[J\u001b[J\u001b[J\u001b[J\u001b[J\u001b[J\u001b[J\u001b[J\u001b[J\u001b[J\u001b[J\u001b[J\u001b[J\u001b[J\u001b[J\u001b[J\u001b[J\u001b[J\u001b[J\u001b[J\u001b[J\u001b[J\u001b[J\u001b[J\u001b[J\u001b[J\u001b[J\u001b[J\u001b[J\u001b[J\u001b[J\u001b[J\u001b[J\u001b[J\u001b[J\u001b[J\u001b[J\u001b[J\u001b[J\u001b[J\u001b[J\u001b[J\u001b[J\u001b[J\u001b[J\u001b[J\u001b[J\u001b[J\u001b[J\u001b[J\u001b[J\u001b[J\u001b[J\u001b[J\u001b[J\u001b[J\u001b[J\u001b[J\u001b[J\u001b[J\u001b[J\u001b[J\u001b[J     total [#.................................................]  2.50%\n",
      "this epoch [#########################.........................] 50.00%\n",
      "       300 iter, 0 epoch / 20 epochs\n",
      "    4.7261 iters/sec. Estimated time to finish: 0:41:15.618736.\n",
      "\u001b[4A\u001b[J\u001b[J\u001b[J\u001b[J\u001b[J\u001b[J\u001b[J\u001b[J\u001b[J\u001b[J\u001b[J\u001b[J\u001b[J\u001b[J\u001b[J\u001b[J\u001b[J\u001b[J\u001b[J\u001b[J\u001b[J\u001b[J\u001b[J\u001b[J\u001b[J\u001b[J\u001b[J\u001b[J\u001b[J\u001b[J\u001b[J\u001b[J\u001b[J\u001b[J\u001b[J\u001b[J\u001b[J\u001b[J\u001b[J\u001b[J\u001b[J\u001b[J\u001b[J\u001b[J\u001b[J\u001b[J\u001b[J\u001b[J\u001b[J\u001b[J\u001b[J\u001b[J\u001b[J\u001b[J\u001b[J\u001b[J\u001b[J\u001b[J\u001b[J\u001b[J\u001b[J\u001b[J\u001b[J\u001b[J\u001b[J\u001b[J\u001b[J\u001b[J\u001b[J\u001b[J\u001b[J\u001b[J\u001b[J\u001b[J\u001b[J\u001b[J\u001b[J\u001b[J\u001b[J\u001b[J\u001b[J\u001b[J\u001b[J\u001b[J\u001b[J\u001b[J\u001b[J\u001b[J\u001b[J\u001b[J\u001b[J\u001b[J\u001b[J\u001b[J\u001b[J\u001b[J\u001b[J\u001b[J\u001b[J\u001b[J\u001b[J     total [#.................................................]  3.33%\n",
      "this epoch [#################################.................] 66.67%\n",
      "       400 iter, 0 epoch / 20 epochs\n",
      "    4.7107 iters/sec. Estimated time to finish: 0:41:02.453220.\n",
      "\u001b[4A\u001b[J\u001b[J\u001b[J\u001b[J\u001b[J\u001b[J\u001b[J\u001b[J\u001b[J\u001b[J\u001b[J\u001b[J\u001b[J\u001b[J\u001b[J\u001b[J\u001b[J\u001b[J\u001b[J\u001b[J\u001b[J\u001b[J\u001b[J\u001b[J\u001b[J\u001b[J\u001b[J\u001b[J\u001b[J\u001b[J\u001b[J\u001b[J\u001b[J\u001b[J\u001b[J\u001b[J\u001b[J\u001b[J\u001b[J\u001b[J\u001b[J\u001b[J\u001b[J\u001b[J\u001b[J\u001b[J\u001b[J\u001b[J\u001b[J\u001b[J\u001b[J\u001b[J\u001b[J\u001b[J\u001b[J\u001b[J\u001b[J\u001b[J\u001b[J\u001b[J\u001b[J\u001b[J\u001b[J\u001b[J\u001b[J\u001b[J\u001b[J\u001b[J\u001b[J\u001b[J\u001b[J\u001b[J\u001b[J\u001b[J\u001b[J\u001b[J\u001b[J\u001b[J\u001b[J\u001b[J\u001b[J\u001b[J\u001b[J\u001b[J\u001b[J\u001b[J\u001b[J\u001b[J\u001b[J\u001b[J\u001b[J\u001b[J\u001b[J\u001b[J\u001b[J\u001b[J\u001b[J\u001b[J\u001b[J\u001b[J\u001b[J     total [##................................................]  4.17%\n",
      "this epoch [#########################################.........] 83.33%\n",
      "       500 iter, 0 epoch / 20 epochs\n",
      "    4.6474 iters/sec. Estimated time to finish: 0:41:14.497780.\n",
      "\u001b[4A\u001b[J\u001b[J\u001b[J\u001b[J\u001b[J\u001b[J\u001b[J\u001b[J\u001b[J\u001b[J\u001b[J\u001b[J\u001b[J\u001b[J\u001b[J\u001b[J\u001b[J\u001b[J\u001b[J\u001b[J\u001b[J\u001b[J\u001b[J\u001b[J\u001b[J\u001b[J\u001b[J\u001b[J\u001b[J\u001b[J\u001b[J\u001b[J\u001b[J\u001b[J\u001b[J\u001b[J\u001b[J\u001b[J\u001b[J\u001b[J\u001b[J\u001b[J\u001b[J\u001b[J\u001b[J\u001b[J\u001b[J\u001b[J\u001b[J\u001b[J\u001b[J\u001b[J\u001b[J\u001b[J\u001b[J\u001b[J\u001b[J\u001b[J\u001b[J\u001b[J\u001b[J\u001b[J\u001b[J\u001b[J\u001b[J\u001b[J\u001b[J\u001b[J\u001b[J\u001b[J\u001b[J\u001b[J\u001b[J\u001b[J\u001b[J\u001b[J\u001b[J\u001b[J\u001b[J\u001b[J\u001b[J\u001b[J\u001b[J\u001b[J\u001b[J\u001b[J\u001b[J\u001b[J\u001b[J\u001b[J\u001b[J\u001b[J\u001b[J\u001b[J\u001b[J\u001b[J\u001b[J\u001b[J\u001b[J\u001b[J1           0.00636149  0.0960109             0.9982         0.9827                    \n",
      "\u001b[J     total [##................................................]  5.00%\n",
      "this epoch [..................................................]  0.00%\n",
      "       600 iter, 1 epoch / 20 epochs\n",
      "    4.4704 iters/sec. Estimated time to finish: 0:42:30.108203.\n",
      "\u001b[4A\u001b[J\u001b[J\u001b[J\u001b[J\u001b[J\u001b[J\u001b[J\u001b[J\u001b[J\u001b[J\u001b[J\u001b[J\u001b[J\u001b[J\u001b[J\u001b[J\u001b[J\u001b[J\u001b[J\u001b[J\u001b[J\u001b[J\u001b[J\u001b[J\u001b[J\u001b[J\u001b[J\u001b[J\u001b[J\u001b[J\u001b[J\u001b[J\u001b[J\u001b[J\u001b[J\u001b[J\u001b[J\u001b[J\u001b[J\u001b[J\u001b[J\u001b[J\u001b[J\u001b[J\u001b[J\u001b[J\u001b[J\u001b[J\u001b[J\u001b[J\u001b[J\u001b[J\u001b[J\u001b[J\u001b[J\u001b[J\u001b[J\u001b[J\u001b[J\u001b[J\u001b[J\u001b[J\u001b[J\u001b[J\u001b[J\u001b[J\u001b[J\u001b[J\u001b[J\u001b[J\u001b[J\u001b[J\u001b[J\u001b[J\u001b[J\u001b[J\u001b[J\u001b[J\u001b[J\u001b[J\u001b[J\u001b[J\u001b[J\u001b[J\u001b[J\u001b[J\u001b[J\u001b[J\u001b[J\u001b[J\u001b[J\u001b[J\u001b[J\u001b[J\u001b[J\u001b[J\u001b[J\u001b[J\u001b[J\u001b[J\u001b[J     total [##................................................]  5.83%\n",
      "this epoch [########..........................................] 16.67%\n",
      "       700 iter, 1 epoch / 20 epochs\n",
      "    4.3865 iters/sec. Estimated time to finish: 0:42:56.088967.\n",
      "\u001b[4A\u001b[J\u001b[J\u001b[J\u001b[J\u001b[J\u001b[J\u001b[J\u001b[J\u001b[J\u001b[J\u001b[J\u001b[J\u001b[J\u001b[J\u001b[J\u001b[J\u001b[J\u001b[J\u001b[J\u001b[J\u001b[J\u001b[J\u001b[J\u001b[J\u001b[J\u001b[J\u001b[J\u001b[J\u001b[J\u001b[J\u001b[J\u001b[J\u001b[J\u001b[J\u001b[J\u001b[J\u001b[J\u001b[J\u001b[J\u001b[J\u001b[J\u001b[J\u001b[J\u001b[J\u001b[J\u001b[J\u001b[J\u001b[J\u001b[J\u001b[J\u001b[J\u001b[J\u001b[J\u001b[J\u001b[J\u001b[J\u001b[J\u001b[J\u001b[J\u001b[J\u001b[J\u001b[J\u001b[J\u001b[J\u001b[J\u001b[J\u001b[J\u001b[J\u001b[J\u001b[J\u001b[J\u001b[J\u001b[J\u001b[J\u001b[J\u001b[J\u001b[J\u001b[J\u001b[J\u001b[J\u001b[J\u001b[J\u001b[J\u001b[J\u001b[J\u001b[J\u001b[J\u001b[J\u001b[J\u001b[J\u001b[J\u001b[J\u001b[J\u001b[J\u001b[J\u001b[J\u001b[J\u001b[J\u001b[J\u001b[J\u001b[J     total [###...............................................]  6.67%\n",
      "this epoch [################..................................] 33.33%\n",
      "       800 iter, 1 epoch / 20 epochs\n",
      "    4.4108 iters/sec. Estimated time to finish: 0:42:19.205776.\n",
      "\u001b[4A\u001b[J\u001b[J\u001b[J\u001b[J\u001b[J\u001b[J\u001b[J\u001b[J\u001b[J\u001b[J\u001b[J\u001b[J\u001b[J\u001b[J\u001b[J\u001b[J\u001b[J\u001b[J\u001b[J\u001b[J\u001b[J\u001b[J\u001b[J\u001b[J\u001b[J\u001b[J\u001b[J\u001b[J\u001b[J\u001b[J\u001b[J\u001b[J\u001b[J\u001b[J\u001b[J\u001b[J\u001b[J\u001b[J\u001b[J\u001b[J\u001b[J\u001b[J\u001b[J\u001b[J\u001b[J\u001b[J\u001b[J\u001b[J\u001b[J\u001b[J\u001b[J\u001b[J\u001b[J\u001b[J\u001b[J\u001b[J\u001b[J\u001b[J\u001b[J\u001b[J\u001b[J\u001b[J\u001b[J\u001b[J\u001b[J\u001b[J\u001b[J\u001b[J\u001b[J\u001b[J\u001b[J\u001b[J\u001b[J\u001b[J\u001b[J\u001b[J\u001b[J\u001b[J\u001b[J\u001b[J\u001b[J\u001b[J\u001b[J\u001b[J\u001b[J\u001b[J\u001b[J\u001b[J\u001b[J\u001b[J\u001b[J\u001b[J\u001b[J\u001b[J\u001b[J\u001b[J\u001b[J\u001b[J\u001b[J\u001b[J\u001b[J     total [###...............................................]  7.50%\n",
      "this epoch [#########################.........................] 50.00%\n",
      "       900 iter, 1 epoch / 20 epochs\n",
      "    4.4268 iters/sec. Estimated time to finish: 0:41:47.481966.\n",
      "\u001b[4A\u001b[J\u001b[J\u001b[J\u001b[J\u001b[J\u001b[J\u001b[J\u001b[J\u001b[J\u001b[J\u001b[J\u001b[J\u001b[J\u001b[J\u001b[J\u001b[J\u001b[J\u001b[J\u001b[J\u001b[J\u001b[J\u001b[J\u001b[J\u001b[J\u001b[J\u001b[J\u001b[J\u001b[J\u001b[J\u001b[J\u001b[J\u001b[J\u001b[J\u001b[J\u001b[J\u001b[J\u001b[J\u001b[J\u001b[J\u001b[J\u001b[J\u001b[J\u001b[J\u001b[J\u001b[J\u001b[J\u001b[J\u001b[J\u001b[J\u001b[J\u001b[J\u001b[J\u001b[J\u001b[J\u001b[J\u001b[J\u001b[J\u001b[J\u001b[J\u001b[J\u001b[J\u001b[J\u001b[J\u001b[J\u001b[J\u001b[J\u001b[J\u001b[J\u001b[J\u001b[J\u001b[J\u001b[J\u001b[J\u001b[J\u001b[J\u001b[J\u001b[J\u001b[J\u001b[J\u001b[J\u001b[J\u001b[J\u001b[J\u001b[J\u001b[J\u001b[J\u001b[J\u001b[J\u001b[J\u001b[J\u001b[J\u001b[J\u001b[J\u001b[J\u001b[J\u001b[J\u001b[J\u001b[J\u001b[J\u001b[J\u001b[J     total [####..............................................]  8.33%\n",
      "this epoch [#################################.................] 66.67%\n",
      "      1000 iter, 1 epoch / 20 epochs\n",
      "    4.4483 iters/sec. Estimated time to finish: 0:41:12.854022.\n",
      "\u001b[4A\u001b[J\u001b[J\u001b[J\u001b[J\u001b[J\u001b[J\u001b[J\u001b[J\u001b[J\u001b[J\u001b[J\u001b[J\u001b[J\u001b[J\u001b[J\u001b[J\u001b[J\u001b[J\u001b[J\u001b[J\u001b[J\u001b[J\u001b[J\u001b[J\u001b[J\u001b[J\u001b[J\u001b[J\u001b[J\u001b[J\u001b[J\u001b[J\u001b[J\u001b[J\u001b[J\u001b[J\u001b[J\u001b[J\u001b[J\u001b[J\u001b[J\u001b[J\u001b[J\u001b[J\u001b[J\u001b[J\u001b[J\u001b[J\u001b[J\u001b[J\u001b[J\u001b[J\u001b[J\u001b[J\u001b[J\u001b[J\u001b[J\u001b[J\u001b[J\u001b[J\u001b[J\u001b[J\u001b[J\u001b[J\u001b[J\u001b[J\u001b[J\u001b[J\u001b[J\u001b[J\u001b[J\u001b[J\u001b[J\u001b[J\u001b[J\u001b[J\u001b[J\u001b[J\u001b[J\u001b[J\u001b[J\u001b[J\u001b[J\u001b[J\u001b[J\u001b[J\u001b[J\u001b[J\u001b[J\u001b[J\u001b[J\u001b[J\u001b[J\u001b[J\u001b[J\u001b[J\u001b[J\u001b[J\u001b[J\u001b[J\u001b[J     total [####..............................................]  9.17%\n",
      "this epoch [#########################################.........] 83.33%\n",
      "      1100 iter, 1 epoch / 20 epochs\n",
      "    4.4701 iters/sec. Estimated time to finish: 0:40:38.427631.\n",
      "\u001b[4A\u001b[J\u001b[J\u001b[J\u001b[J\u001b[J\u001b[J\u001b[J\u001b[J\u001b[J\u001b[J\u001b[J\u001b[J\u001b[J\u001b[J\u001b[J\u001b[J\u001b[J\u001b[J\u001b[J\u001b[J\u001b[J\u001b[J\u001b[J\u001b[J\u001b[J\u001b[J\u001b[J\u001b[J\u001b[J\u001b[J\u001b[J\u001b[J\u001b[J\u001b[J\u001b[J\u001b[J\u001b[J\u001b[J\u001b[J\u001b[J\u001b[J\u001b[J\u001b[J\u001b[J\u001b[J\u001b[J\u001b[J\u001b[J\u001b[J\u001b[J\u001b[J\u001b[J\u001b[J\u001b[J\u001b[J\u001b[J\u001b[J\u001b[J\u001b[J\u001b[J\u001b[J\u001b[J\u001b[J\u001b[J\u001b[J\u001b[J\u001b[J\u001b[J\u001b[J\u001b[J\u001b[J\u001b[J\u001b[J\u001b[J\u001b[J\u001b[J\u001b[J\u001b[J\u001b[J\u001b[J\u001b[J\u001b[J\u001b[J\u001b[J\u001b[J\u001b[J\u001b[J\u001b[J\u001b[J\u001b[J\u001b[J\u001b[J\u001b[J\u001b[J\u001b[J\u001b[J\u001b[J\u001b[J\u001b[J\u001b[J2           0.0117185   0.102634              0.9968         0.9835                    \n",
      "\u001b[J     total [#####.............................................] 10.00%\n",
      "this epoch [..................................................]  0.00%\n",
      "      1200 iter, 2 epoch / 20 epochs\n",
      "     4.439 iters/sec. Estimated time to finish: 0:40:32.958041.\n",
      "\u001b[4A\u001b[J\u001b[J\u001b[J\u001b[J\u001b[J\u001b[J\u001b[J\u001b[J\u001b[J\u001b[J\u001b[J\u001b[J\u001b[J\u001b[J\u001b[J\u001b[J\u001b[J\u001b[J\u001b[J\u001b[J\u001b[J\u001b[J\u001b[J\u001b[J\u001b[J\u001b[J\u001b[J\u001b[J\u001b[J\u001b[J\u001b[J\u001b[J\u001b[J\u001b[J\u001b[J\u001b[J\u001b[J\u001b[J\u001b[J\u001b[J\u001b[J\u001b[J\u001b[J\u001b[J\u001b[J\u001b[J\u001b[J\u001b[J\u001b[J\u001b[J\u001b[J\u001b[J\u001b[J\u001b[J\u001b[J\u001b[J\u001b[J\u001b[J\u001b[J\u001b[J\u001b[J\u001b[J\u001b[J\u001b[J\u001b[J\u001b[J\u001b[J\u001b[J\u001b[J\u001b[J\u001b[J\u001b[J\u001b[J\u001b[J\u001b[J\u001b[J\u001b[J\u001b[J\u001b[J\u001b[J\u001b[J\u001b[J\u001b[J\u001b[J\u001b[J\u001b[J\u001b[J\u001b[J\u001b[J\u001b[J\u001b[J\u001b[J\u001b[J\u001b[J\u001b[J\u001b[J\u001b[J\u001b[J\u001b[J\u001b[J\u001b[J     total [#####.............................................] 10.83%\n",
      "this epoch [########..........................................] 16.67%\n",
      "      1300 iter, 2 epoch / 20 epochs\n",
      "    4.4046 iters/sec. Estimated time to finish: 0:40:29.303461.\n",
      "\u001b[4A\u001b[J\u001b[J\u001b[J\u001b[J\u001b[J\u001b[J\u001b[J\u001b[J\u001b[J\u001b[J\u001b[J\u001b[J\u001b[J\u001b[J\u001b[J\u001b[J\u001b[J\u001b[J\u001b[J\u001b[J\u001b[J\u001b[J\u001b[J\u001b[J\u001b[J\u001b[J\u001b[J\u001b[J\u001b[J\u001b[J\u001b[J\u001b[J\u001b[J\u001b[J\u001b[J\u001b[J\u001b[J\u001b[J\u001b[J\u001b[J\u001b[J\u001b[J\u001b[J\u001b[J\u001b[J\u001b[J\u001b[J\u001b[J\u001b[J\u001b[J\u001b[J\u001b[J\u001b[J\u001b[J\u001b[J\u001b[J\u001b[J\u001b[J\u001b[J\u001b[J\u001b[J\u001b[J\u001b[J\u001b[J\u001b[J\u001b[J\u001b[J\u001b[J\u001b[J\u001b[J\u001b[J\u001b[J\u001b[J\u001b[J\u001b[J\u001b[J\u001b[J\u001b[J\u001b[J\u001b[J\u001b[J\u001b[J\u001b[J\u001b[J\u001b[J\u001b[J\u001b[J\u001b[J\u001b[J\u001b[J\u001b[J\u001b[J\u001b[J\u001b[J\u001b[J\u001b[J\u001b[J\u001b[J\u001b[J\u001b[J\u001b[J     total [#####.............................................] 11.67%\n",
      "this epoch [################..................................] 33.33%\n",
      "      1400 iter, 2 epoch / 20 epochs\n",
      "    4.4296 iters/sec. Estimated time to finish: 0:39:52.976394.\n",
      "\u001b[4A\u001b[J\u001b[J\u001b[J\u001b[J\u001b[J\u001b[J\u001b[J\u001b[J\u001b[J\u001b[J\u001b[J\u001b[J\u001b[J\u001b[J\u001b[J\u001b[J\u001b[J\u001b[J\u001b[J\u001b[J\u001b[J\u001b[J\u001b[J\u001b[J\u001b[J\u001b[J\u001b[J\u001b[J\u001b[J\u001b[J\u001b[J\u001b[J\u001b[J\u001b[J\u001b[J\u001b[J\u001b[J\u001b[J\u001b[J\u001b[J\u001b[J\u001b[J\u001b[J\u001b[J\u001b[J\u001b[J\u001b[J\u001b[J\u001b[J\u001b[J\u001b[J\u001b[J\u001b[J\u001b[J\u001b[J\u001b[J\u001b[J\u001b[J\u001b[J\u001b[J\u001b[J\u001b[J\u001b[J\u001b[J\u001b[J\u001b[J\u001b[J\u001b[J\u001b[J\u001b[J\u001b[J\u001b[J\u001b[J\u001b[J\u001b[J\u001b[J\u001b[J\u001b[J\u001b[J\u001b[J\u001b[J\u001b[J\u001b[J\u001b[J\u001b[J\u001b[J\u001b[J\u001b[J\u001b[J\u001b[J\u001b[J\u001b[J\u001b[J\u001b[J\u001b[J\u001b[J\u001b[J\u001b[J\u001b[J\u001b[J\u001b[J     total [######............................................] 12.50%\n",
      "this epoch [#########################.........................] 50.00%\n",
      "      1500 iter, 2 epoch / 20 epochs\n",
      "    4.4511 iters/sec. Estimated time to finish: 0:39:18.988650.\n",
      "\u001b[4A\u001b[J\u001b[J\u001b[J\u001b[J\u001b[J\u001b[J\u001b[J\u001b[J\u001b[J\u001b[J\u001b[J\u001b[J\u001b[J\u001b[J\u001b[J\u001b[J\u001b[J\u001b[J\u001b[J\u001b[J\u001b[J\u001b[J\u001b[J\u001b[J\u001b[J\u001b[J\u001b[J\u001b[J\u001b[J\u001b[J\u001b[J\u001b[J\u001b[J\u001b[J\u001b[J\u001b[J\u001b[J\u001b[J\u001b[J\u001b[J\u001b[J\u001b[J\u001b[J\u001b[J\u001b[J\u001b[J\u001b[J\u001b[J\u001b[J\u001b[J\u001b[J\u001b[J\u001b[J\u001b[J\u001b[J\u001b[J\u001b[J\u001b[J\u001b[J\u001b[J\u001b[J\u001b[J\u001b[J\u001b[J\u001b[J\u001b[J\u001b[J\u001b[J\u001b[J\u001b[J\u001b[J\u001b[J\u001b[J\u001b[J\u001b[J\u001b[J\u001b[J\u001b[J\u001b[J\u001b[J\u001b[J\u001b[J\u001b[J\u001b[J\u001b[J\u001b[J\u001b[J\u001b[J\u001b[J\u001b[J\u001b[J\u001b[J\u001b[J\u001b[J\u001b[J\u001b[J\u001b[J\u001b[J\u001b[J\u001b[J\u001b[J     total [######............................................] 13.33%\n",
      "this epoch [#################################.................] 66.67%\n",
      "      1600 iter, 2 epoch / 20 epochs\n",
      "    4.4675 iters/sec. Estimated time to finish: 0:38:47.926002.\n",
      "\u001b[4A\u001b[J\u001b[J\u001b[J\u001b[J\u001b[J\u001b[J\u001b[J\u001b[J\u001b[J\u001b[J\u001b[J\u001b[J\u001b[J\u001b[J\u001b[J\u001b[J\u001b[J\u001b[J\u001b[J\u001b[J\u001b[J\u001b[J\u001b[J\u001b[J\u001b[J\u001b[J\u001b[J\u001b[J\u001b[J\u001b[J\u001b[J\u001b[J\u001b[J\u001b[J\u001b[J\u001b[J\u001b[J\u001b[J\u001b[J\u001b[J\u001b[J\u001b[J\u001b[J\u001b[J\u001b[J\u001b[J\u001b[J\u001b[J\u001b[J\u001b[J\u001b[J\u001b[J\u001b[J\u001b[J\u001b[J\u001b[J\u001b[J\u001b[J\u001b[J\u001b[J\u001b[J\u001b[J\u001b[J\u001b[J\u001b[J\u001b[J\u001b[J\u001b[J\u001b[J\u001b[J\u001b[J\u001b[J\u001b[J\u001b[J\u001b[J\u001b[J\u001b[J\u001b[J\u001b[J\u001b[J\u001b[J\u001b[J\u001b[J\u001b[J\u001b[J\u001b[J\u001b[J\u001b[J\u001b[J\u001b[J\u001b[J\u001b[J\u001b[J\u001b[J\u001b[J\u001b[J\u001b[J\u001b[J\u001b[J\u001b[J\u001b[J     total [#######...........................................] 14.17%\n",
      "this epoch [#########################################.........] 83.33%\n",
      "      1700 iter, 2 epoch / 20 epochs\n",
      "    4.4826 iters/sec. Estimated time to finish: 0:38:17.755177.\n",
      "\u001b[4A\u001b[J\u001b[J\u001b[J\u001b[J\u001b[J\u001b[J\u001b[J\u001b[J\u001b[J\u001b[J\u001b[J\u001b[J\u001b[J\u001b[J\u001b[J\u001b[J\u001b[J\u001b[J\u001b[J\u001b[J\u001b[J\u001b[J\u001b[J\u001b[J\u001b[J\u001b[J\u001b[J\u001b[J\u001b[J\u001b[J\u001b[J\u001b[J\u001b[J\u001b[J\u001b[J\u001b[J\u001b[J\u001b[J\u001b[J\u001b[J\u001b[J\u001b[J\u001b[J\u001b[J\u001b[J\u001b[J\u001b[J\u001b[J\u001b[J\u001b[J\u001b[J\u001b[J\u001b[J\u001b[J\u001b[J\u001b[J\u001b[J\u001b[J\u001b[J\u001b[J\u001b[J\u001b[J\u001b[J\u001b[J\u001b[J\u001b[J\u001b[J\u001b[J\u001b[J\u001b[J\u001b[J\u001b[J\u001b[J\u001b[J\u001b[J\u001b[J\u001b[J\u001b[J\u001b[J\u001b[J\u001b[J\u001b[J\u001b[J\u001b[J\u001b[J\u001b[J\u001b[J\u001b[J\u001b[J\u001b[J\u001b[J\u001b[J\u001b[J\u001b[J\u001b[J\u001b[J\u001b[J\u001b[J\u001b[J\u001b[J3           0.0100654   0.11305               0.997233       0.9825                    \n",
      "\u001b[J     total [#######...........................................] 15.00%\n",
      "this epoch [..................................................]  0.00%\n",
      "      1800 iter, 3 epoch / 20 epochs\n",
      "    4.4598 iters/sec. Estimated time to finish: 0:38:07.095918.\n",
      "\u001b[4A\u001b[J\u001b[J\u001b[J\u001b[J\u001b[J\u001b[J\u001b[J\u001b[J\u001b[J\u001b[J\u001b[J\u001b[J\u001b[J\u001b[J\u001b[J\u001b[J\u001b[J\u001b[J\u001b[J\u001b[J\u001b[J\u001b[J\u001b[J\u001b[J\u001b[J\u001b[J\u001b[J\u001b[J\u001b[J\u001b[J\u001b[J\u001b[J\u001b[J\u001b[J\u001b[J\u001b[J\u001b[J\u001b[J\u001b[J\u001b[J\u001b[J\u001b[J\u001b[J\u001b[J\u001b[J\u001b[J\u001b[J\u001b[J\u001b[J\u001b[J\u001b[J\u001b[J\u001b[J\u001b[J\u001b[J\u001b[J\u001b[J\u001b[J\u001b[J\u001b[J\u001b[J\u001b[J\u001b[J\u001b[J\u001b[J\u001b[J\u001b[J\u001b[J\u001b[J\u001b[J\u001b[J\u001b[J\u001b[J\u001b[J\u001b[J\u001b[J\u001b[J\u001b[J\u001b[J\u001b[J\u001b[J\u001b[J\u001b[J\u001b[J\u001b[J\u001b[J\u001b[J\u001b[J\u001b[J\u001b[J\u001b[J\u001b[J\u001b[J\u001b[J\u001b[J\u001b[J\u001b[J\u001b[J\u001b[J\u001b[J\u001b[J     total [#######...........................................] 15.83%\n",
      "this epoch [########..........................................] 16.67%\n",
      "      1900 iter, 3 epoch / 20 epochs\n",
      "    4.4335 iters/sec. Estimated time to finish: 0:37:58.128752.\n",
      "\u001b[4A\u001b[J\u001b[J\u001b[J\u001b[J\u001b[J\u001b[J\u001b[J\u001b[J\u001b[J\u001b[J\u001b[J\u001b[J\u001b[J\u001b[J\u001b[J\u001b[J\u001b[J\u001b[J\u001b[J\u001b[J\u001b[J\u001b[J\u001b[J\u001b[J\u001b[J\u001b[J\u001b[J\u001b[J\u001b[J\u001b[J\u001b[J\u001b[J\u001b[J\u001b[J\u001b[J\u001b[J\u001b[J\u001b[J\u001b[J\u001b[J\u001b[J\u001b[J\u001b[J\u001b[J\u001b[J\u001b[J\u001b[J\u001b[J\u001b[J\u001b[J\u001b[J\u001b[J\u001b[J\u001b[J\u001b[J\u001b[J\u001b[J\u001b[J\u001b[J\u001b[J\u001b[J\u001b[J\u001b[J\u001b[J\u001b[J\u001b[J\u001b[J\u001b[J\u001b[J\u001b[J\u001b[J\u001b[J\u001b[J\u001b[J\u001b[J\u001b[J\u001b[J\u001b[J\u001b[J\u001b[J\u001b[J\u001b[J\u001b[J\u001b[J\u001b[J\u001b[J\u001b[J\u001b[J\u001b[J\u001b[J\u001b[J\u001b[J\u001b[J\u001b[J\u001b[J\u001b[J\u001b[J\u001b[J\u001b[J\u001b[J\u001b[J     total [########..........................................] 16.67%\n",
      "this epoch [################..................................] 33.33%\n",
      "      2000 iter, 3 epoch / 20 epochs\n",
      "    4.4471 iters/sec. Estimated time to finish: 0:37:28.642437.\n",
      "\u001b[4A\u001b[J\u001b[J\u001b[J\u001b[J\u001b[J\u001b[J\u001b[J\u001b[J\u001b[J\u001b[J\u001b[J\u001b[J\u001b[J\u001b[J\u001b[J\u001b[J\u001b[J\u001b[J\u001b[J\u001b[J\u001b[J\u001b[J\u001b[J\u001b[J\u001b[J\u001b[J\u001b[J\u001b[J\u001b[J\u001b[J\u001b[J\u001b[J\u001b[J\u001b[J\u001b[J\u001b[J\u001b[J\u001b[J\u001b[J\u001b[J\u001b[J\u001b[J\u001b[J\u001b[J\u001b[J\u001b[J\u001b[J\u001b[J\u001b[J\u001b[J\u001b[J\u001b[J\u001b[J\u001b[J\u001b[J\u001b[J\u001b[J\u001b[J\u001b[J\u001b[J\u001b[J\u001b[J\u001b[J\u001b[J\u001b[J\u001b[J\u001b[J\u001b[J\u001b[J\u001b[J\u001b[J\u001b[J\u001b[J\u001b[J\u001b[J\u001b[J\u001b[J\u001b[J\u001b[J\u001b[J\u001b[J\u001b[J\u001b[J\u001b[J\u001b[J\u001b[J\u001b[J\u001b[J\u001b[J\u001b[J\u001b[J\u001b[J\u001b[J\u001b[J\u001b[J\u001b[J\u001b[J\u001b[J\u001b[J\u001b[J\u001b[J     total [########..........................................] 17.50%\n",
      "this epoch [#########################.........................] 50.00%\n",
      "      2100 iter, 3 epoch / 20 epochs\n",
      "    4.4544 iters/sec. Estimated time to finish: 0:37:02.544471.\n",
      "\u001b[4A\u001b[J\u001b[J\u001b[J\u001b[J\u001b[J\u001b[J\u001b[J\u001b[J\u001b[J\u001b[J\u001b[J\u001b[J\u001b[J\u001b[J\u001b[J\u001b[J\u001b[J\u001b[J\u001b[J\u001b[J\u001b[J\u001b[J\u001b[J\u001b[J\u001b[J\u001b[J\u001b[J\u001b[J\u001b[J\u001b[J\u001b[J\u001b[J\u001b[J\u001b[J\u001b[J\u001b[J\u001b[J\u001b[J\u001b[J\u001b[J\u001b[J\u001b[J\u001b[J\u001b[J\u001b[J\u001b[J\u001b[J\u001b[J\u001b[J\u001b[J\u001b[J\u001b[J\u001b[J\u001b[J\u001b[J\u001b[J\u001b[J\u001b[J\u001b[J\u001b[J\u001b[J\u001b[J\u001b[J\u001b[J\u001b[J\u001b[J\u001b[J\u001b[J\u001b[J\u001b[J\u001b[J\u001b[J\u001b[J\u001b[J\u001b[J\u001b[J\u001b[J\u001b[J\u001b[J\u001b[J\u001b[J\u001b[J\u001b[J\u001b[J\u001b[J\u001b[J\u001b[J\u001b[J\u001b[J\u001b[J\u001b[J\u001b[J\u001b[J\u001b[J\u001b[J\u001b[J\u001b[J\u001b[J\u001b[J\u001b[J\u001b[J     total [#########.........................................] 18.33%\n",
      "this epoch [#################################.................] 66.67%\n",
      "      2200 iter, 3 epoch / 20 epochs\n",
      "    4.4582 iters/sec. Estimated time to finish: 0:36:38.188664.\n",
      "\u001b[4A\u001b[J\u001b[J\u001b[J\u001b[J\u001b[J\u001b[J\u001b[J\u001b[J\u001b[J\u001b[J\u001b[J\u001b[J\u001b[J\u001b[J\u001b[J\u001b[J\u001b[J\u001b[J\u001b[J\u001b[J\u001b[J\u001b[J\u001b[J\u001b[J\u001b[J\u001b[J\u001b[J\u001b[J\u001b[J\u001b[J\u001b[J\u001b[J\u001b[J\u001b[J\u001b[J\u001b[J\u001b[J\u001b[J\u001b[J\u001b[J\u001b[J\u001b[J\u001b[J\u001b[J\u001b[J\u001b[J\u001b[J\u001b[J\u001b[J\u001b[J\u001b[J\u001b[J\u001b[J\u001b[J\u001b[J\u001b[J\u001b[J\u001b[J\u001b[J\u001b[J\u001b[J\u001b[J\u001b[J\u001b[J\u001b[J\u001b[J\u001b[J\u001b[J\u001b[J\u001b[J\u001b[J\u001b[J\u001b[J\u001b[J\u001b[J\u001b[J\u001b[J\u001b[J\u001b[J\u001b[J\u001b[J\u001b[J\u001b[J\u001b[J\u001b[J\u001b[J\u001b[J\u001b[J\u001b[J\u001b[J\u001b[J\u001b[J\u001b[J\u001b[J\u001b[J\u001b[J\u001b[J\u001b[J\u001b[J\u001b[J\u001b[J     total [#########.........................................] 19.17%\n",
      "this epoch [#########################################.........] 83.33%\n",
      "      2300 iter, 3 epoch / 20 epochs\n",
      "    4.4611 iters/sec. Estimated time to finish: 0:36:14.359473.\n",
      "\u001b[4A\u001b[J\u001b[J\u001b[J\u001b[J\u001b[J\u001b[J\u001b[J\u001b[J\u001b[J\u001b[J\u001b[J\u001b[J\u001b[J\u001b[J\u001b[J\u001b[J\u001b[J\u001b[J\u001b[J\u001b[J\u001b[J\u001b[J\u001b[J\u001b[J\u001b[J\u001b[J\u001b[J\u001b[J\u001b[J\u001b[J\u001b[J\u001b[J\u001b[J\u001b[J\u001b[J\u001b[J\u001b[J\u001b[J\u001b[J\u001b[J\u001b[J\u001b[J\u001b[J\u001b[J\u001b[J\u001b[J\u001b[J\u001b[J\u001b[J\u001b[J\u001b[J\u001b[J\u001b[J\u001b[J\u001b[J\u001b[J\u001b[J\u001b[J\u001b[J\u001b[J\u001b[J\u001b[J\u001b[J\u001b[J\u001b[J\u001b[J\u001b[J\u001b[J\u001b[J\u001b[J\u001b[J\u001b[J\u001b[J\u001b[J\u001b[J\u001b[J\u001b[J\u001b[J\u001b[J\u001b[J\u001b[J\u001b[J\u001b[J\u001b[J\u001b[J\u001b[J\u001b[J\u001b[J\u001b[J\u001b[J\u001b[J\u001b[J\u001b[J\u001b[J\u001b[J\u001b[J\u001b[J\u001b[J\u001b[J\u001b[J4           0.00691944  0.103847              0.998083       0.9837                    \n",
      "\u001b[J     total [##########........................................] 20.00%\n",
      "this epoch [..................................................]  0.00%\n",
      "      2400 iter, 4 epoch / 20 epochs\n",
      "    4.4369 iters/sec. Estimated time to finish: 0:36:03.669567.\n",
      "\u001b[4A\u001b[J\u001b[J\u001b[J\u001b[J\u001b[J\u001b[J\u001b[J\u001b[J\u001b[J\u001b[J\u001b[J\u001b[J\u001b[J\u001b[J\u001b[J\u001b[J\u001b[J\u001b[J\u001b[J\u001b[J\u001b[J\u001b[J\u001b[J\u001b[J\u001b[J\u001b[J\u001b[J\u001b[J\u001b[J\u001b[J\u001b[J\u001b[J\u001b[J\u001b[J\u001b[J\u001b[J\u001b[J\u001b[J\u001b[J\u001b[J\u001b[J\u001b[J\u001b[J\u001b[J\u001b[J\u001b[J\u001b[J\u001b[J\u001b[J\u001b[J\u001b[J\u001b[J\u001b[J\u001b[J\u001b[J\u001b[J\u001b[J\u001b[J\u001b[J\u001b[J\u001b[J\u001b[J\u001b[J\u001b[J\u001b[J\u001b[J\u001b[J\u001b[J\u001b[J\u001b[J\u001b[J\u001b[J\u001b[J\u001b[J\u001b[J\u001b[J\u001b[J\u001b[J\u001b[J\u001b[J\u001b[J\u001b[J\u001b[J\u001b[J\u001b[J\u001b[J\u001b[J\u001b[J\u001b[J\u001b[J\u001b[J\u001b[J\u001b[J\u001b[J\u001b[J\u001b[J\u001b[J\u001b[J\u001b[J\u001b[J\u001b[J     total [##########........................................] 20.83%\n",
      "this epoch [########..........................................] 16.67%\n",
      "      2500 iter, 4 epoch / 20 epochs\n",
      "    4.4073 iters/sec. Estimated time to finish: 0:35:55.502832.\n",
      "\u001b[4A\u001b[J\u001b[J\u001b[J\u001b[J\u001b[J\u001b[J\u001b[J\u001b[J\u001b[J\u001b[J\u001b[J\u001b[J\u001b[J\u001b[J\u001b[J\u001b[J\u001b[J\u001b[J\u001b[J\u001b[J\u001b[J\u001b[J\u001b[J\u001b[J\u001b[J\u001b[J\u001b[J\u001b[J\u001b[J\u001b[J\u001b[J\u001b[J\u001b[J\u001b[J\u001b[J\u001b[J\u001b[J\u001b[J\u001b[J\u001b[J\u001b[J\u001b[J\u001b[J\u001b[J\u001b[J\u001b[J\u001b[J\u001b[J\u001b[J\u001b[J\u001b[J\u001b[J\u001b[J\u001b[J\u001b[J\u001b[J\u001b[J\u001b[J\u001b[J\u001b[J\u001b[J\u001b[J\u001b[J\u001b[J\u001b[J\u001b[J\u001b[J\u001b[J\u001b[J\u001b[J\u001b[J\u001b[J\u001b[J\u001b[J\u001b[J\u001b[J\u001b[J\u001b[J\u001b[J\u001b[J\u001b[J\u001b[J\u001b[J\u001b[J\u001b[J\u001b[J\u001b[J\u001b[J\u001b[J\u001b[J\u001b[J\u001b[J\u001b[J\u001b[J\u001b[J\u001b[J\u001b[J\u001b[J\u001b[J\u001b[J\u001b[J     total [##########........................................] 21.67%\n",
      "this epoch [################..................................] 33.33%\n",
      "      2600 iter, 4 epoch / 20 epochs\n",
      "    4.4038 iters/sec. Estimated time to finish: 0:35:34.501345.\n",
      "\u001b[4A\u001b[J\u001b[J\u001b[J\u001b[J\u001b[J\u001b[J\u001b[J\u001b[J\u001b[J\u001b[J\u001b[J\u001b[J\u001b[J\u001b[J\u001b[J\u001b[J\u001b[J\u001b[J\u001b[J\u001b[J\u001b[J\u001b[J\u001b[J\u001b[J\u001b[J\u001b[J\u001b[J\u001b[J\u001b[J\u001b[J\u001b[J\u001b[J\u001b[J\u001b[J\u001b[J\u001b[J\u001b[J\u001b[J\u001b[J\u001b[J\u001b[J\u001b[J\u001b[J\u001b[J\u001b[J\u001b[J\u001b[J\u001b[J\u001b[J\u001b[J\u001b[J\u001b[J\u001b[J\u001b[J\u001b[J\u001b[J\u001b[J\u001b[J\u001b[J\u001b[J\u001b[J\u001b[J\u001b[J\u001b[J\u001b[J\u001b[J\u001b[J\u001b[J\u001b[J\u001b[J\u001b[J\u001b[J\u001b[J\u001b[J\u001b[J\u001b[J\u001b[J\u001b[J\u001b[J\u001b[J\u001b[J\u001b[J\u001b[J\u001b[J\u001b[J\u001b[J\u001b[J\u001b[J\u001b[J\u001b[J\u001b[J\u001b[J\u001b[J\u001b[J\u001b[J\u001b[J\u001b[J\u001b[J\u001b[J\u001b[J\u001b[J     total [###########.......................................] 22.50%\n",
      "this epoch [#########################.........................] 50.00%\n",
      "      2700 iter, 4 epoch / 20 epochs\n",
      "    4.3997 iters/sec. Estimated time to finish: 0:35:13.760630.\n",
      "\u001b[4A\u001b[J\u001b[J\u001b[J\u001b[J\u001b[J\u001b[J\u001b[J\u001b[J\u001b[J\u001b[J\u001b[J\u001b[J\u001b[J\u001b[J\u001b[J\u001b[J\u001b[J\u001b[J\u001b[J\u001b[J\u001b[J\u001b[J\u001b[J\u001b[J\u001b[J\u001b[J\u001b[J\u001b[J\u001b[J\u001b[J\u001b[J\u001b[J\u001b[J\u001b[J\u001b[J\u001b[J\u001b[J\u001b[J\u001b[J\u001b[J\u001b[J\u001b[J\u001b[J\u001b[J\u001b[J\u001b[J\u001b[J\u001b[J\u001b[J\u001b[J\u001b[J\u001b[J\u001b[J\u001b[J\u001b[J\u001b[J\u001b[J\u001b[J\u001b[J\u001b[J\u001b[J\u001b[J\u001b[J\u001b[J\u001b[J\u001b[J\u001b[J\u001b[J\u001b[J\u001b[J\u001b[J\u001b[J\u001b[J\u001b[J\u001b[J\u001b[J\u001b[J\u001b[J\u001b[J\u001b[J\u001b[J\u001b[J\u001b[J\u001b[J\u001b[J\u001b[J\u001b[J\u001b[J\u001b[J\u001b[J\u001b[J\u001b[J\u001b[J\u001b[J\u001b[J\u001b[J\u001b[J\u001b[J\u001b[J\u001b[J\u001b[J     total [###########.......................................] 23.33%\n",
      "this epoch [#################################.................] 66.67%\n",
      "      2800 iter, 4 epoch / 20 epochs\n",
      "    4.3934 iters/sec. Estimated time to finish: 0:34:54.042622.\n",
      "\u001b[4A\u001b[J\u001b[J\u001b[J\u001b[J\u001b[J\u001b[J\u001b[J\u001b[J\u001b[J\u001b[J\u001b[J\u001b[J\u001b[J\u001b[J\u001b[J\u001b[J\u001b[J\u001b[J\u001b[J\u001b[J\u001b[J\u001b[J\u001b[J\u001b[J\u001b[J\u001b[J\u001b[J\u001b[J\u001b[J\u001b[J\u001b[J\u001b[J\u001b[J\u001b[J\u001b[J\u001b[J\u001b[J\u001b[J\u001b[J\u001b[J\u001b[J\u001b[J\u001b[J\u001b[J\u001b[J\u001b[J\u001b[J\u001b[J\u001b[J\u001b[J\u001b[J\u001b[J\u001b[J\u001b[J\u001b[J\u001b[J\u001b[J\u001b[J\u001b[J\u001b[J\u001b[J\u001b[J\u001b[J\u001b[J\u001b[J\u001b[J\u001b[J\u001b[J\u001b[J\u001b[J\u001b[J\u001b[J\u001b[J\u001b[J\u001b[J\u001b[J\u001b[J\u001b[J\u001b[J\u001b[J\u001b[J\u001b[J\u001b[J\u001b[J\u001b[J\u001b[J\u001b[J\u001b[J\u001b[J\u001b[J\u001b[J\u001b[J\u001b[J\u001b[J\u001b[J\u001b[J\u001b[J\u001b[J\u001b[J\u001b[J\u001b[J     total [############......................................] 24.17%\n",
      "this epoch [#########################################.........] 83.33%\n",
      "      2900 iter, 4 epoch / 20 epochs\n",
      "    4.3883 iters/sec. Estimated time to finish: 0:34:33.684044.\n",
      "\u001b[4A\u001b[J\u001b[J\u001b[J\u001b[J\u001b[J\u001b[J\u001b[J\u001b[J\u001b[J\u001b[J\u001b[J\u001b[J\u001b[J\u001b[J\u001b[J\u001b[J\u001b[J\u001b[J\u001b[J\u001b[J\u001b[J\u001b[J\u001b[J\u001b[J\u001b[J\u001b[J\u001b[J\u001b[J\u001b[J\u001b[J\u001b[J\u001b[J\u001b[J\u001b[J\u001b[J\u001b[J\u001b[J\u001b[J\u001b[J\u001b[J\u001b[J\u001b[J\u001b[J\u001b[J\u001b[J\u001b[J\u001b[J\u001b[J\u001b[J\u001b[J\u001b[J\u001b[J\u001b[J\u001b[J\u001b[J\u001b[J\u001b[J\u001b[J\u001b[J\u001b[J\u001b[J\u001b[J\u001b[J\u001b[J\u001b[J\u001b[J\u001b[J\u001b[J\u001b[J\u001b[J\u001b[J\u001b[J\u001b[J\u001b[J\u001b[J\u001b[J\u001b[J\u001b[J\u001b[J\u001b[J\u001b[J\u001b[J\u001b[J\u001b[J\u001b[J\u001b[J\u001b[J\u001b[J\u001b[J\u001b[J\u001b[J\u001b[J\u001b[J\u001b[J\u001b[J\u001b[J\u001b[J\u001b[J\u001b[J\u001b[J5           0.0091543   0.118781              0.9976         0.9813                    \n",
      "\u001b[J     total [############......................................] 25.00%\n",
      "this epoch [..................................................]  0.00%\n",
      "      3000 iter, 5 epoch / 20 epochs\n",
      "    4.3668 iters/sec. Estimated time to finish: 0:34:21.026106.\n",
      "\u001b[4A\u001b[J\u001b[J\u001b[J\u001b[J\u001b[J\u001b[J\u001b[J\u001b[J\u001b[J\u001b[J\u001b[J\u001b[J\u001b[J\u001b[J\u001b[J\u001b[J\u001b[J\u001b[J\u001b[J\u001b[J\u001b[J\u001b[J\u001b[J\u001b[J\u001b[J\u001b[J\u001b[J\u001b[J\u001b[J\u001b[J\u001b[J\u001b[J\u001b[J\u001b[J\u001b[J\u001b[J\u001b[J\u001b[J\u001b[J\u001b[J\u001b[J\u001b[J\u001b[J\u001b[J\u001b[J\u001b[J\u001b[J\u001b[J\u001b[J\u001b[J\u001b[J\u001b[J\u001b[J\u001b[J\u001b[J\u001b[J\u001b[J\u001b[J\u001b[J\u001b[J\u001b[J\u001b[J\u001b[J\u001b[J\u001b[J\u001b[J\u001b[J\u001b[J\u001b[J\u001b[J\u001b[J\u001b[J\u001b[J\u001b[J\u001b[J\u001b[J\u001b[J\u001b[J\u001b[J\u001b[J\u001b[J\u001b[J\u001b[J\u001b[J\u001b[J\u001b[J\u001b[J\u001b[J\u001b[J\u001b[J\u001b[J\u001b[J\u001b[J\u001b[J\u001b[J\u001b[J\u001b[J\u001b[J\u001b[J\u001b[J\u001b[J     total [############......................................] 25.83%\n",
      "this epoch [########..........................................] 16.67%\n",
      "      3100 iter, 5 epoch / 20 epochs\n",
      "    4.3428 iters/sec. Estimated time to finish: 0:34:09.355376.\n",
      "\u001b[4A\u001b[J\u001b[J\u001b[J\u001b[J\u001b[J\u001b[J\u001b[J\u001b[J\u001b[J\u001b[J\u001b[J\u001b[J\u001b[J\u001b[J\u001b[J\u001b[J\u001b[J\u001b[J\u001b[J\u001b[J\u001b[J\u001b[J\u001b[J\u001b[J\u001b[J\u001b[J\u001b[J\u001b[J\u001b[J\u001b[J\u001b[J\u001b[J\u001b[J\u001b[J\u001b[J\u001b[J\u001b[J\u001b[J\u001b[J\u001b[J\u001b[J\u001b[J\u001b[J\u001b[J\u001b[J\u001b[J\u001b[J\u001b[J\u001b[J\u001b[J\u001b[J\u001b[J\u001b[J\u001b[J\u001b[J\u001b[J\u001b[J\u001b[J\u001b[J\u001b[J\u001b[J\u001b[J\u001b[J\u001b[J\u001b[J\u001b[J\u001b[J\u001b[J\u001b[J\u001b[J\u001b[J\u001b[J\u001b[J\u001b[J\u001b[J\u001b[J\u001b[J\u001b[J\u001b[J\u001b[J\u001b[J\u001b[J\u001b[J\u001b[J\u001b[J\u001b[J\u001b[J\u001b[J\u001b[J\u001b[J\u001b[J\u001b[J\u001b[J\u001b[J\u001b[J\u001b[J\u001b[J\u001b[J\u001b[J\u001b[J\u001b[J     total [#############.....................................] 26.67%\n",
      "this epoch [################..................................] 33.33%\n",
      "      3200 iter, 5 epoch / 20 epochs\n",
      "    4.3398 iters/sec. Estimated time to finish: 0:33:47.737948.\n",
      "\u001b[4A\u001b[J\u001b[J\u001b[J\u001b[J\u001b[J\u001b[J\u001b[J\u001b[J\u001b[J\u001b[J\u001b[J\u001b[J\u001b[J\u001b[J\u001b[J\u001b[J\u001b[J\u001b[J\u001b[J\u001b[J\u001b[J\u001b[J\u001b[J\u001b[J\u001b[J\u001b[J\u001b[J\u001b[J\u001b[J\u001b[J\u001b[J\u001b[J\u001b[J\u001b[J\u001b[J\u001b[J\u001b[J\u001b[J\u001b[J\u001b[J\u001b[J\u001b[J\u001b[J\u001b[J\u001b[J\u001b[J\u001b[J\u001b[J\u001b[J\u001b[J\u001b[J\u001b[J\u001b[J\u001b[J\u001b[J\u001b[J\u001b[J\u001b[J\u001b[J\u001b[J\u001b[J\u001b[J\u001b[J\u001b[J\u001b[J\u001b[J\u001b[J\u001b[J\u001b[J\u001b[J\u001b[J\u001b[J\u001b[J\u001b[J\u001b[J\u001b[J\u001b[J\u001b[J\u001b[J\u001b[J\u001b[J\u001b[J\u001b[J\u001b[J\u001b[J\u001b[J\u001b[J\u001b[J\u001b[J\u001b[J\u001b[J\u001b[J\u001b[J\u001b[J\u001b[J\u001b[J\u001b[J\u001b[J\u001b[J\u001b[J\u001b[J     total [#############.....................................] 27.50%\n",
      "this epoch [#########################.........................] 50.00%\n",
      "      3300 iter, 5 epoch / 20 epochs\n",
      "    4.3364 iters/sec. Estimated time to finish: 0:33:26.271662.\n",
      "\u001b[4A\u001b[J\u001b[J\u001b[J\u001b[J\u001b[J\u001b[J\u001b[J\u001b[J\u001b[J\u001b[J\u001b[J\u001b[J\u001b[J\u001b[J\u001b[J\u001b[J\u001b[J\u001b[J\u001b[J\u001b[J\u001b[J\u001b[J\u001b[J\u001b[J\u001b[J\u001b[J\u001b[J\u001b[J\u001b[J\u001b[J\u001b[J\u001b[J\u001b[J\u001b[J\u001b[J\u001b[J\u001b[J\u001b[J\u001b[J\u001b[J\u001b[J\u001b[J\u001b[J\u001b[J\u001b[J\u001b[J\u001b[J\u001b[J\u001b[J\u001b[J\u001b[J\u001b[J\u001b[J\u001b[J\u001b[J\u001b[J\u001b[J\u001b[J\u001b[J\u001b[J\u001b[J\u001b[J\u001b[J\u001b[J\u001b[J\u001b[J\u001b[J\u001b[J\u001b[J\u001b[J\u001b[J\u001b[J\u001b[J\u001b[J\u001b[J\u001b[J\u001b[J\u001b[J\u001b[J\u001b[J\u001b[J\u001b[J\u001b[J\u001b[J\u001b[J\u001b[J\u001b[J\u001b[J\u001b[J\u001b[J\u001b[J\u001b[J\u001b[J\u001b[J\u001b[J\u001b[J\u001b[J\u001b[J\u001b[J\u001b[J\u001b[J     total [##############....................................] 28.33%\n",
      "this epoch [#################################.................] 66.67%\n",
      "      3400 iter, 5 epoch / 20 epochs\n",
      "    4.3312 iters/sec. Estimated time to finish: 0:33:05.583944.\n",
      "\u001b[4A\u001b[J\u001b[J\u001b[J\u001b[J\u001b[J\u001b[J\u001b[J\u001b[J\u001b[J\u001b[J\u001b[J\u001b[J\u001b[J\u001b[J\u001b[J\u001b[J\u001b[J\u001b[J\u001b[J\u001b[J\u001b[J\u001b[J\u001b[J\u001b[J\u001b[J\u001b[J\u001b[J\u001b[J\u001b[J\u001b[J\u001b[J\u001b[J\u001b[J\u001b[J\u001b[J\u001b[J\u001b[J\u001b[J\u001b[J\u001b[J\u001b[J\u001b[J\u001b[J\u001b[J\u001b[J\u001b[J\u001b[J\u001b[J\u001b[J\u001b[J\u001b[J\u001b[J\u001b[J\u001b[J\u001b[J\u001b[J\u001b[J\u001b[J\u001b[J\u001b[J\u001b[J\u001b[J\u001b[J\u001b[J\u001b[J\u001b[J\u001b[J\u001b[J\u001b[J\u001b[J\u001b[J\u001b[J\u001b[J\u001b[J\u001b[J\u001b[J\u001b[J\u001b[J\u001b[J\u001b[J\u001b[J\u001b[J\u001b[J\u001b[J\u001b[J\u001b[J\u001b[J\u001b[J\u001b[J\u001b[J\u001b[J\u001b[J\u001b[J\u001b[J\u001b[J\u001b[J\u001b[J\u001b[J\u001b[J\u001b[J\u001b[J     total [##############....................................] 29.17%\n",
      "this epoch [#########################################.........] 83.33%\n",
      "      3500 iter, 5 epoch / 20 epochs\n",
      "    4.3269 iters/sec. Estimated time to finish: 0:32:44.441915.\n",
      "\u001b[4A\u001b[J\u001b[J\u001b[J\u001b[J\u001b[J\u001b[J\u001b[J\u001b[J\u001b[J\u001b[J\u001b[J\u001b[J\u001b[J\u001b[J\u001b[J\u001b[J\u001b[J\u001b[J\u001b[J\u001b[J\u001b[J\u001b[J\u001b[J\u001b[J\u001b[J\u001b[J\u001b[J\u001b[J\u001b[J\u001b[J\u001b[J\u001b[J\u001b[J\u001b[J\u001b[J\u001b[J\u001b[J\u001b[J\u001b[J\u001b[J\u001b[J\u001b[J\u001b[J\u001b[J\u001b[J\u001b[J\u001b[J\u001b[J\u001b[J\u001b[J\u001b[J\u001b[J\u001b[J\u001b[J\u001b[J\u001b[J\u001b[J\u001b[J\u001b[J\u001b[J\u001b[J\u001b[J\u001b[J\u001b[J\u001b[J\u001b[J\u001b[J\u001b[J\u001b[J\u001b[J\u001b[J\u001b[J\u001b[J\u001b[J\u001b[J\u001b[J\u001b[J\u001b[J\u001b[J\u001b[J\u001b[J\u001b[J\u001b[J\u001b[J\u001b[J\u001b[J\u001b[J\u001b[J\u001b[J\u001b[J\u001b[J\u001b[J\u001b[J\u001b[J\u001b[J\u001b[J\u001b[J\u001b[J\u001b[J\u001b[J6           0.00689149  0.112675              0.998017       0.9827                    \n",
      "\u001b[J     total [###############...................................] 30.00%\n",
      "this epoch [..................................................]  0.00%\n",
      "      3600 iter, 6 epoch / 20 epochs\n",
      "    4.3058 iters/sec. Estimated time to finish: 0:32:30.870578.\n",
      "\u001b[4A\u001b[J\u001b[J\u001b[J\u001b[J\u001b[J\u001b[J\u001b[J\u001b[J\u001b[J\u001b[J\u001b[J\u001b[J\u001b[J\u001b[J\u001b[J\u001b[J\u001b[J\u001b[J\u001b[J\u001b[J\u001b[J\u001b[J\u001b[J\u001b[J\u001b[J\u001b[J\u001b[J\u001b[J\u001b[J\u001b[J\u001b[J\u001b[J\u001b[J\u001b[J\u001b[J\u001b[J\u001b[J\u001b[J\u001b[J\u001b[J\u001b[J\u001b[J\u001b[J\u001b[J\u001b[J\u001b[J\u001b[J\u001b[J\u001b[J\u001b[J\u001b[J\u001b[J\u001b[J\u001b[J\u001b[J\u001b[J\u001b[J\u001b[J\u001b[J\u001b[J\u001b[J\u001b[J\u001b[J\u001b[J\u001b[J\u001b[J\u001b[J\u001b[J\u001b[J\u001b[J\u001b[J\u001b[J\u001b[J\u001b[J\u001b[J\u001b[J\u001b[J\u001b[J\u001b[J\u001b[J\u001b[J\u001b[J\u001b[J\u001b[J\u001b[J\u001b[J\u001b[J\u001b[J\u001b[J\u001b[J\u001b[J\u001b[J\u001b[J\u001b[J\u001b[J\u001b[J\u001b[J\u001b[J\u001b[J\u001b[J\u001b[J     total [###############...................................] 30.83%\n",
      "this epoch [########..........................................] 16.67%\n",
      "      3700 iter, 6 epoch / 20 epochs\n",
      "    4.2828 iters/sec. Estimated time to finish: 0:32:17.973838.\n",
      "\u001b[4A\u001b[J\u001b[J\u001b[J\u001b[J\u001b[J\u001b[J\u001b[J\u001b[J\u001b[J\u001b[J\u001b[J\u001b[J\u001b[J\u001b[J\u001b[J\u001b[J\u001b[J\u001b[J\u001b[J\u001b[J\u001b[J\u001b[J\u001b[J\u001b[J\u001b[J\u001b[J\u001b[J\u001b[J\u001b[J\u001b[J\u001b[J\u001b[J\u001b[J\u001b[J\u001b[J\u001b[J\u001b[J\u001b[J\u001b[J\u001b[J\u001b[J\u001b[J\u001b[J\u001b[J\u001b[J\u001b[J\u001b[J\u001b[J\u001b[J\u001b[J\u001b[J\u001b[J\u001b[J\u001b[J\u001b[J\u001b[J\u001b[J\u001b[J\u001b[J\u001b[J\u001b[J\u001b[J\u001b[J\u001b[J\u001b[J\u001b[J\u001b[J\u001b[J\u001b[J\u001b[J\u001b[J\u001b[J\u001b[J\u001b[J\u001b[J\u001b[J\u001b[J\u001b[J\u001b[J\u001b[J\u001b[J\u001b[J\u001b[J\u001b[J\u001b[J\u001b[J\u001b[J\u001b[J\u001b[J\u001b[J\u001b[J\u001b[J\u001b[J\u001b[J\u001b[J\u001b[J\u001b[J\u001b[J\u001b[J\u001b[J\u001b[J     total [###############...................................] 31.67%\n",
      "this epoch [################..................................] 33.33%\n",
      "      3800 iter, 6 epoch / 20 epochs\n",
      "    4.2796 iters/sec. Estimated time to finish: 0:31:56.050423.\n",
      "\u001b[4A\u001b[J\u001b[J\u001b[J\u001b[J\u001b[J\u001b[J\u001b[J\u001b[J\u001b[J\u001b[J\u001b[J\u001b[J\u001b[J\u001b[J\u001b[J\u001b[J\u001b[J\u001b[J\u001b[J\u001b[J\u001b[J\u001b[J\u001b[J\u001b[J\u001b[J\u001b[J\u001b[J\u001b[J\u001b[J\u001b[J\u001b[J\u001b[J\u001b[J\u001b[J\u001b[J\u001b[J\u001b[J\u001b[J\u001b[J\u001b[J\u001b[J\u001b[J\u001b[J\u001b[J\u001b[J\u001b[J\u001b[J\u001b[J\u001b[J\u001b[J\u001b[J\u001b[J\u001b[J\u001b[J\u001b[J\u001b[J\u001b[J\u001b[J\u001b[J\u001b[J\u001b[J\u001b[J\u001b[J\u001b[J\u001b[J\u001b[J\u001b[J\u001b[J\u001b[J\u001b[J\u001b[J\u001b[J\u001b[J\u001b[J\u001b[J\u001b[J\u001b[J\u001b[J\u001b[J\u001b[J\u001b[J\u001b[J\u001b[J\u001b[J\u001b[J\u001b[J\u001b[J\u001b[J\u001b[J\u001b[J\u001b[J\u001b[J\u001b[J\u001b[J\u001b[J\u001b[J\u001b[J\u001b[J\u001b[J\u001b[J\u001b[J     total [################..................................] 32.50%\n",
      "this epoch [#########################.........................] 50.00%\n",
      "      3900 iter, 6 epoch / 20 epochs\n",
      "    4.2751 iters/sec. Estimated time to finish: 0:31:34.703093.\n",
      "\u001b[4A\u001b[J\u001b[J\u001b[J\u001b[J\u001b[J\u001b[J\u001b[J\u001b[J\u001b[J\u001b[J\u001b[J\u001b[J\u001b[J\u001b[J\u001b[J\u001b[J\u001b[J\u001b[J\u001b[J\u001b[J\u001b[J\u001b[J\u001b[J\u001b[J\u001b[J\u001b[J\u001b[J\u001b[J\u001b[J\u001b[J\u001b[J\u001b[J\u001b[J\u001b[J\u001b[J\u001b[J\u001b[J\u001b[J\u001b[J\u001b[J\u001b[J\u001b[J\u001b[J\u001b[J\u001b[J\u001b[J\u001b[J\u001b[J\u001b[J\u001b[J\u001b[J\u001b[J\u001b[J\u001b[J\u001b[J\u001b[J\u001b[J\u001b[J\u001b[J\u001b[J\u001b[J\u001b[J\u001b[J\u001b[J\u001b[J\u001b[J\u001b[J\u001b[J\u001b[J\u001b[J\u001b[J\u001b[J\u001b[J\u001b[J\u001b[J\u001b[J\u001b[J\u001b[J\u001b[J\u001b[J\u001b[J\u001b[J\u001b[J\u001b[J\u001b[J\u001b[J\u001b[J\u001b[J\u001b[J\u001b[J\u001b[J\u001b[J\u001b[J\u001b[J\u001b[J\u001b[J\u001b[J\u001b[J\u001b[J\u001b[J\u001b[J     total [################..................................] 33.33%\n",
      "this epoch [#################################.................] 66.67%\n",
      "      4000 iter, 6 epoch / 20 epochs\n",
      "    4.2714 iters/sec. Estimated time to finish: 0:31:12.924386.\n",
      "\u001b[4A\u001b[J\u001b[J\u001b[J\u001b[J\u001b[J\u001b[J\u001b[J\u001b[J\u001b[J\u001b[J\u001b[J\u001b[J\u001b[J\u001b[J\u001b[J\u001b[J\u001b[J\u001b[J\u001b[J\u001b[J\u001b[J\u001b[J\u001b[J\u001b[J\u001b[J\u001b[J\u001b[J\u001b[J\u001b[J\u001b[J\u001b[J\u001b[J\u001b[J\u001b[J\u001b[J\u001b[J\u001b[J\u001b[J\u001b[J\u001b[J\u001b[J\u001b[J\u001b[J\u001b[J\u001b[J\u001b[J\u001b[J\u001b[J\u001b[J\u001b[J\u001b[J\u001b[J\u001b[J\u001b[J\u001b[J\u001b[J\u001b[J\u001b[J\u001b[J\u001b[J\u001b[J\u001b[J\u001b[J\u001b[J\u001b[J\u001b[J\u001b[J\u001b[J\u001b[J\u001b[J\u001b[J\u001b[J\u001b[J\u001b[J\u001b[J\u001b[J\u001b[J\u001b[J\u001b[J\u001b[J\u001b[J\u001b[J\u001b[J\u001b[J\u001b[J\u001b[J\u001b[J\u001b[J\u001b[J\u001b[J\u001b[J\u001b[J\u001b[J\u001b[J\u001b[J\u001b[J\u001b[J\u001b[J\u001b[J\u001b[J\u001b[J     total [#################.................................] 34.17%\n",
      "this epoch [#########################################.........] 83.33%\n",
      "      4100 iter, 6 epoch / 20 epochs\n",
      "    4.2684 iters/sec. Estimated time to finish: 0:30:50.819665.\n",
      "\u001b[4A\u001b[J\u001b[J\u001b[J\u001b[J\u001b[J\u001b[J\u001b[J\u001b[J\u001b[J\u001b[J\u001b[J\u001b[J\u001b[J\u001b[J\u001b[J\u001b[J\u001b[J\u001b[J\u001b[J\u001b[J\u001b[J\u001b[J\u001b[J\u001b[J\u001b[J\u001b[J\u001b[J\u001b[J\u001b[J\u001b[J\u001b[J\u001b[J\u001b[J\u001b[J\u001b[J\u001b[J\u001b[J\u001b[J\u001b[J\u001b[J\u001b[J\u001b[J\u001b[J\u001b[J\u001b[J\u001b[J\u001b[J\u001b[J\u001b[J\u001b[J\u001b[J\u001b[J\u001b[J\u001b[J\u001b[J\u001b[J\u001b[J\u001b[J\u001b[J\u001b[J\u001b[J\u001b[J\u001b[J\u001b[J\u001b[J\u001b[J\u001b[J\u001b[J\u001b[J\u001b[J\u001b[J\u001b[J\u001b[J\u001b[J\u001b[J\u001b[J\u001b[J\u001b[J\u001b[J\u001b[J\u001b[J\u001b[J\u001b[J\u001b[J\u001b[J\u001b[J\u001b[J\u001b[J\u001b[J\u001b[J\u001b[J\u001b[J\u001b[J\u001b[J\u001b[J\u001b[J\u001b[J\u001b[J\u001b[J\u001b[J7           0.00667083  0.105579              0.99845        0.9847                    \n",
      "\u001b[J     total [#################.................................] 35.00%\n",
      "this epoch [..................................................]  0.00%\n",
      "      4200 iter, 7 epoch / 20 epochs\n",
      "    4.2505 iters/sec. Estimated time to finish: 0:30:35.082377.\n",
      "\u001b[4A\u001b[J\u001b[J\u001b[J\u001b[J\u001b[J\u001b[J\u001b[J\u001b[J\u001b[J\u001b[J\u001b[J\u001b[J\u001b[J\u001b[J\u001b[J\u001b[J\u001b[J\u001b[J\u001b[J\u001b[J\u001b[J\u001b[J\u001b[J\u001b[J\u001b[J\u001b[J\u001b[J\u001b[J\u001b[J\u001b[J\u001b[J\u001b[J\u001b[J\u001b[J\u001b[J\u001b[J\u001b[J\u001b[J\u001b[J\u001b[J\u001b[J\u001b[J\u001b[J\u001b[J\u001b[J\u001b[J\u001b[J\u001b[J\u001b[J\u001b[J\u001b[J\u001b[J\u001b[J\u001b[J\u001b[J\u001b[J\u001b[J\u001b[J\u001b[J\u001b[J\u001b[J\u001b[J\u001b[J\u001b[J\u001b[J\u001b[J\u001b[J\u001b[J\u001b[J\u001b[J\u001b[J\u001b[J\u001b[J\u001b[J\u001b[J\u001b[J\u001b[J\u001b[J\u001b[J\u001b[J\u001b[J\u001b[J\u001b[J\u001b[J\u001b[J\u001b[J\u001b[J\u001b[J\u001b[J\u001b[J\u001b[J\u001b[J\u001b[J\u001b[J\u001b[J\u001b[J\u001b[J\u001b[J\u001b[J\u001b[J\u001b[J     total [#################.................................] 35.83%\n",
      "this epoch [########..........................................] 16.67%\n",
      "      4300 iter, 7 epoch / 20 epochs\n",
      "    4.2323 iters/sec. Estimated time to finish: 0:30:19.336849.\n",
      "\u001b[4A\u001b[J\u001b[J\u001b[J\u001b[J\u001b[J\u001b[J\u001b[J\u001b[J\u001b[J\u001b[J\u001b[J\u001b[J\u001b[J\u001b[J\u001b[J\u001b[J\u001b[J\u001b[J\u001b[J\u001b[J\u001b[J\u001b[J\u001b[J\u001b[J\u001b[J\u001b[J\u001b[J\u001b[J\u001b[J\u001b[J\u001b[J\u001b[J\u001b[J\u001b[J\u001b[J\u001b[J\u001b[J\u001b[J\u001b[J\u001b[J\u001b[J\u001b[J\u001b[J\u001b[J\u001b[J\u001b[J\u001b[J\u001b[J\u001b[J\u001b[J\u001b[J\u001b[J\u001b[J\u001b[J\u001b[J\u001b[J\u001b[J\u001b[J\u001b[J\u001b[J\u001b[J\u001b[J\u001b[J\u001b[J\u001b[J\u001b[J\u001b[J\u001b[J\u001b[J\u001b[J\u001b[J\u001b[J\u001b[J\u001b[J\u001b[J\u001b[J\u001b[J\u001b[J\u001b[J\u001b[J\u001b[J\u001b[J\u001b[J\u001b[J\u001b[J\u001b[J\u001b[J\u001b[J\u001b[J\u001b[J\u001b[J\u001b[J\u001b[J\u001b[J\u001b[J\u001b[J\u001b[J\u001b[J\u001b[J\u001b[J\u001b[J     total [##################................................] 36.67%\n",
      "this epoch [################..................................] 33.33%\n",
      "      4400 iter, 7 epoch / 20 epochs\n",
      "    4.2276 iters/sec. Estimated time to finish: 0:29:57.697453.\n",
      "\u001b[4A\u001b[J\u001b[J\u001b[J\u001b[J\u001b[J\u001b[J\u001b[J\u001b[J\u001b[J\u001b[J\u001b[J\u001b[J\u001b[J\u001b[J\u001b[J\u001b[J\u001b[J\u001b[J\u001b[J\u001b[J\u001b[J\u001b[J\u001b[J\u001b[J\u001b[J\u001b[J\u001b[J\u001b[J\u001b[J\u001b[J\u001b[J\u001b[J\u001b[J\u001b[J\u001b[J\u001b[J\u001b[J\u001b[J\u001b[J\u001b[J\u001b[J\u001b[J\u001b[J\u001b[J\u001b[J\u001b[J\u001b[J\u001b[J\u001b[J\u001b[J\u001b[J\u001b[J\u001b[J\u001b[J\u001b[J\u001b[J\u001b[J\u001b[J\u001b[J\u001b[J\u001b[J\u001b[J\u001b[J\u001b[J\u001b[J\u001b[J\u001b[J\u001b[J\u001b[J\u001b[J\u001b[J\u001b[J\u001b[J\u001b[J\u001b[J\u001b[J\u001b[J\u001b[J\u001b[J\u001b[J\u001b[J\u001b[J\u001b[J\u001b[J\u001b[J\u001b[J\u001b[J\u001b[J\u001b[J\u001b[J\u001b[J\u001b[J\u001b[J\u001b[J\u001b[J\u001b[J\u001b[J\u001b[J\u001b[J\u001b[J\u001b[J     total [##################................................] 37.50%\n",
      "this epoch [#########################.........................] 50.00%\n",
      "      4500 iter, 7 epoch / 20 epochs\n",
      "    4.2242 iters/sec. Estimated time to finish: 0:29:35.494630.\n",
      "\u001b[4A\u001b[J\u001b[J\u001b[J\u001b[J\u001b[J\u001b[J\u001b[J\u001b[J\u001b[J\u001b[J\u001b[J\u001b[J\u001b[J\u001b[J\u001b[J\u001b[J\u001b[J\u001b[J\u001b[J\u001b[J\u001b[J\u001b[J\u001b[J\u001b[J\u001b[J\u001b[J\u001b[J\u001b[J\u001b[J\u001b[J\u001b[J\u001b[J\u001b[J\u001b[J\u001b[J\u001b[J\u001b[J\u001b[J\u001b[J\u001b[J\u001b[J\u001b[J\u001b[J\u001b[J\u001b[J\u001b[J\u001b[J\u001b[J\u001b[J\u001b[J\u001b[J\u001b[J\u001b[J\u001b[J\u001b[J\u001b[J\u001b[J\u001b[J\u001b[J\u001b[J\u001b[J\u001b[J\u001b[J\u001b[J\u001b[J\u001b[J\u001b[J\u001b[J\u001b[J\u001b[J\u001b[J\u001b[J\u001b[J\u001b[J\u001b[J\u001b[J\u001b[J\u001b[J\u001b[J\u001b[J\u001b[J\u001b[J\u001b[J\u001b[J\u001b[J\u001b[J\u001b[J\u001b[J\u001b[J\u001b[J\u001b[J\u001b[J\u001b[J\u001b[J\u001b[J\u001b[J\u001b[J\u001b[J\u001b[J\u001b[J\u001b[J     total [###################...............................] 38.33%\n",
      "this epoch [#################################.................] 66.67%\n",
      "      4600 iter, 7 epoch / 20 epochs\n",
      "    4.2177 iters/sec. Estimated time to finish: 0:29:14.520357.\n",
      "\u001b[4A\u001b[J\u001b[J\u001b[J\u001b[J\u001b[J\u001b[J\u001b[J\u001b[J\u001b[J\u001b[J\u001b[J\u001b[J\u001b[J\u001b[J\u001b[J\u001b[J\u001b[J\u001b[J\u001b[J\u001b[J\u001b[J\u001b[J\u001b[J\u001b[J\u001b[J\u001b[J\u001b[J\u001b[J\u001b[J\u001b[J\u001b[J\u001b[J\u001b[J\u001b[J\u001b[J\u001b[J\u001b[J\u001b[J\u001b[J\u001b[J\u001b[J\u001b[J\u001b[J\u001b[J\u001b[J\u001b[J\u001b[J\u001b[J\u001b[J\u001b[J\u001b[J\u001b[J\u001b[J\u001b[J\u001b[J\u001b[J\u001b[J\u001b[J\u001b[J\u001b[J\u001b[J\u001b[J\u001b[J\u001b[J\u001b[J\u001b[J\u001b[J\u001b[J\u001b[J\u001b[J\u001b[J\u001b[J\u001b[J\u001b[J\u001b[J\u001b[J\u001b[J\u001b[J\u001b[J\u001b[J\u001b[J\u001b[J\u001b[J\u001b[J\u001b[J\u001b[J\u001b[J\u001b[J\u001b[J\u001b[J\u001b[J\u001b[J\u001b[J\u001b[J\u001b[J\u001b[J\u001b[J\u001b[J\u001b[J\u001b[J\u001b[J     total [###################...............................] 39.17%\n",
      "this epoch [#########################################.........] 83.33%\n",
      "      4700 iter, 7 epoch / 20 epochs\n",
      "    4.2126 iters/sec. Estimated time to finish: 0:28:52.876149.\n",
      "\u001b[4A\u001b[J\u001b[J\u001b[J\u001b[J\u001b[J\u001b[J\u001b[J\u001b[J\u001b[J\u001b[J\u001b[J\u001b[J\u001b[J\u001b[J\u001b[J\u001b[J\u001b[J\u001b[J\u001b[J\u001b[J\u001b[J\u001b[J\u001b[J\u001b[J\u001b[J\u001b[J\u001b[J\u001b[J\u001b[J\u001b[J\u001b[J\u001b[J\u001b[J\u001b[J\u001b[J\u001b[J\u001b[J\u001b[J\u001b[J\u001b[J\u001b[J\u001b[J\u001b[J\u001b[J\u001b[J\u001b[J\u001b[J\u001b[J\u001b[J\u001b[J\u001b[J\u001b[J\u001b[J\u001b[J\u001b[J\u001b[J\u001b[J\u001b[J\u001b[J\u001b[J\u001b[J\u001b[J\u001b[J\u001b[J\u001b[J\u001b[J\u001b[J\u001b[J\u001b[J\u001b[J\u001b[J\u001b[J\u001b[J\u001b[J\u001b[J\u001b[J\u001b[J\u001b[J\u001b[J\u001b[J\u001b[J\u001b[J\u001b[J\u001b[J\u001b[J\u001b[J\u001b[J\u001b[J\u001b[J\u001b[J\u001b[J\u001b[J\u001b[J\u001b[J\u001b[J\u001b[J\u001b[J\u001b[J\u001b[J\u001b[J8           0.00927763  0.115839              0.997833       0.9804                    \n",
      "\u001b[J     total [####################..............................] 40.00%\n",
      "this epoch [..................................................]  0.00%\n",
      "      4800 iter, 8 epoch / 20 epochs\n",
      "    4.1973 iters/sec. Estimated time to finish: 0:28:35.379644.\n",
      "\u001b[4A\u001b[J\u001b[J\u001b[J\u001b[J\u001b[J\u001b[J\u001b[J\u001b[J\u001b[J\u001b[J\u001b[J\u001b[J\u001b[J\u001b[J\u001b[J\u001b[J\u001b[J\u001b[J\u001b[J\u001b[J\u001b[J\u001b[J\u001b[J\u001b[J\u001b[J\u001b[J\u001b[J\u001b[J\u001b[J\u001b[J\u001b[J\u001b[J\u001b[J\u001b[J\u001b[J\u001b[J\u001b[J\u001b[J\u001b[J\u001b[J\u001b[J\u001b[J\u001b[J\u001b[J\u001b[J\u001b[J\u001b[J\u001b[J\u001b[J\u001b[J\u001b[J\u001b[J\u001b[J\u001b[J\u001b[J\u001b[J\u001b[J\u001b[J\u001b[J\u001b[J\u001b[J\u001b[J\u001b[J\u001b[J\u001b[J\u001b[J\u001b[J\u001b[J\u001b[J\u001b[J\u001b[J\u001b[J\u001b[J\u001b[J\u001b[J\u001b[J\u001b[J\u001b[J\u001b[J\u001b[J\u001b[J\u001b[J\u001b[J\u001b[J\u001b[J\u001b[J\u001b[J\u001b[J\u001b[J\u001b[J\u001b[J\u001b[J\u001b[J\u001b[J\u001b[J\u001b[J\u001b[J\u001b[J\u001b[J\u001b[J\u001b[J     total [####################..............................] 40.83%\n",
      "this epoch [########..........................................] 16.67%\n",
      "      4900 iter, 8 epoch / 20 epochs\n",
      "    4.1818 iters/sec. Estimated time to finish: 0:28:17.813615.\n",
      "\u001b[4A\u001b[J\u001b[J\u001b[J\u001b[J\u001b[J\u001b[J\u001b[J\u001b[J\u001b[J\u001b[J\u001b[J\u001b[J\u001b[J\u001b[J\u001b[J\u001b[J\u001b[J\u001b[J\u001b[J\u001b[J\u001b[J\u001b[J\u001b[J\u001b[J\u001b[J\u001b[J\u001b[J\u001b[J\u001b[J\u001b[J\u001b[J\u001b[J\u001b[J\u001b[J\u001b[J\u001b[J\u001b[J\u001b[J\u001b[J\u001b[J\u001b[J\u001b[J\u001b[J\u001b[J\u001b[J\u001b[J\u001b[J\u001b[J\u001b[J\u001b[J\u001b[J\u001b[J\u001b[J\u001b[J\u001b[J\u001b[J\u001b[J\u001b[J\u001b[J\u001b[J\u001b[J\u001b[J\u001b[J\u001b[J\u001b[J\u001b[J\u001b[J\u001b[J\u001b[J\u001b[J\u001b[J\u001b[J\u001b[J\u001b[J\u001b[J\u001b[J\u001b[J\u001b[J\u001b[J\u001b[J\u001b[J\u001b[J\u001b[J\u001b[J\u001b[J\u001b[J\u001b[J\u001b[J\u001b[J\u001b[J\u001b[J\u001b[J\u001b[J\u001b[J\u001b[J\u001b[J\u001b[J\u001b[J\u001b[J\u001b[J\u001b[J     total [####################..............................] 41.67%\n",
      "this epoch [################..................................] 33.33%\n",
      "      5000 iter, 8 epoch / 20 epochs\n",
      "    4.1781 iters/sec. Estimated time to finish: 0:27:55.402680.\n",
      "\u001b[4A\u001b[J\u001b[J\u001b[J\u001b[J\u001b[J\u001b[J\u001b[J\u001b[J\u001b[J\u001b[J\u001b[J\u001b[J\u001b[J\u001b[J\u001b[J\u001b[J\u001b[J\u001b[J\u001b[J\u001b[J\u001b[J\u001b[J\u001b[J\u001b[J\u001b[J\u001b[J\u001b[J\u001b[J\u001b[J\u001b[J\u001b[J\u001b[J\u001b[J\u001b[J\u001b[J\u001b[J\u001b[J\u001b[J\u001b[J\u001b[J\u001b[J\u001b[J\u001b[J\u001b[J\u001b[J\u001b[J\u001b[J\u001b[J\u001b[J\u001b[J\u001b[J\u001b[J\u001b[J\u001b[J\u001b[J\u001b[J\u001b[J\u001b[J\u001b[J\u001b[J\u001b[J\u001b[J\u001b[J\u001b[J\u001b[J\u001b[J\u001b[J\u001b[J\u001b[J\u001b[J\u001b[J\u001b[J\u001b[J\u001b[J\u001b[J\u001b[J\u001b[J\u001b[J\u001b[J\u001b[J\u001b[J\u001b[J\u001b[J\u001b[J\u001b[J\u001b[J\u001b[J\u001b[J\u001b[J\u001b[J\u001b[J\u001b[J\u001b[J\u001b[J\u001b[J\u001b[J\u001b[J\u001b[J\u001b[J\u001b[J\u001b[J     total [#####################.............................] 42.50%\n",
      "this epoch [#########################.........................] 50.00%\n",
      "      5100 iter, 8 epoch / 20 epochs\n",
      "    4.1768 iters/sec. Estimated time to finish: 0:27:31.996735.\n",
      "\u001b[4A\u001b[J\u001b[J\u001b[J\u001b[J\u001b[J\u001b[J\u001b[J\u001b[J\u001b[J\u001b[J\u001b[J\u001b[J\u001b[J\u001b[J\u001b[J\u001b[J\u001b[J\u001b[J\u001b[J\u001b[J\u001b[J\u001b[J\u001b[J\u001b[J\u001b[J\u001b[J\u001b[J\u001b[J\u001b[J\u001b[J\u001b[J\u001b[J\u001b[J\u001b[J\u001b[J\u001b[J\u001b[J\u001b[J\u001b[J\u001b[J\u001b[J\u001b[J\u001b[J\u001b[J\u001b[J\u001b[J\u001b[J\u001b[J\u001b[J\u001b[J\u001b[J\u001b[J\u001b[J\u001b[J\u001b[J\u001b[J\u001b[J\u001b[J\u001b[J\u001b[J\u001b[J\u001b[J\u001b[J\u001b[J\u001b[J\u001b[J\u001b[J\u001b[J\u001b[J\u001b[J\u001b[J\u001b[J\u001b[J\u001b[J\u001b[J\u001b[J\u001b[J\u001b[J\u001b[J\u001b[J\u001b[J\u001b[J\u001b[J\u001b[J\u001b[J\u001b[J\u001b[J\u001b[J\u001b[J\u001b[J\u001b[J\u001b[J\u001b[J\u001b[J\u001b[J\u001b[J\u001b[J\u001b[J\u001b[J\u001b[J\u001b[J     total [#####################.............................] 43.33%\n",
      "this epoch [#################################.................] 66.67%\n",
      "      5200 iter, 8 epoch / 20 epochs\n",
      "    4.1751 iters/sec. Estimated time to finish: 0:27:08.712127.\n",
      "\u001b[4A\u001b[J\u001b[J\u001b[J\u001b[J\u001b[J\u001b[J\u001b[J\u001b[J\u001b[J\u001b[J\u001b[J\u001b[J\u001b[J\u001b[J\u001b[J\u001b[J\u001b[J\u001b[J\u001b[J\u001b[J\u001b[J\u001b[J\u001b[J\u001b[J\u001b[J\u001b[J\u001b[J\u001b[J\u001b[J\u001b[J\u001b[J\u001b[J\u001b[J\u001b[J\u001b[J\u001b[J\u001b[J\u001b[J\u001b[J\u001b[J\u001b[J\u001b[J\u001b[J\u001b[J\u001b[J\u001b[J\u001b[J\u001b[J\u001b[J\u001b[J\u001b[J\u001b[J\u001b[J\u001b[J\u001b[J\u001b[J\u001b[J\u001b[J\u001b[J\u001b[J\u001b[J\u001b[J\u001b[J\u001b[J\u001b[J\u001b[J\u001b[J\u001b[J\u001b[J\u001b[J\u001b[J\u001b[J\u001b[J\u001b[J\u001b[J\u001b[J\u001b[J\u001b[J\u001b[J\u001b[J\u001b[J\u001b[J\u001b[J\u001b[J\u001b[J\u001b[J\u001b[J\u001b[J\u001b[J\u001b[J\u001b[J\u001b[J\u001b[J\u001b[J\u001b[J\u001b[J\u001b[J\u001b[J\u001b[J\u001b[J\u001b[J     total [######################............................] 44.17%\n",
      "this epoch [#########################################.........] 83.33%\n",
      "      5300 iter, 8 epoch / 20 epochs\n",
      "     4.172 iters/sec. Estimated time to finish: 0:26:45.953832.\n",
      "\u001b[4A\u001b[J\u001b[J\u001b[J\u001b[J\u001b[J\u001b[J\u001b[J\u001b[J\u001b[J\u001b[J\u001b[J\u001b[J\u001b[J\u001b[J\u001b[J\u001b[J\u001b[J\u001b[J\u001b[J\u001b[J\u001b[J\u001b[J\u001b[J\u001b[J\u001b[J\u001b[J\u001b[J\u001b[J\u001b[J\u001b[J\u001b[J\u001b[J\u001b[J\u001b[J\u001b[J\u001b[J\u001b[J\u001b[J\u001b[J\u001b[J\u001b[J\u001b[J\u001b[J\u001b[J\u001b[J\u001b[J\u001b[J\u001b[J\u001b[J\u001b[J\u001b[J\u001b[J\u001b[J\u001b[J\u001b[J\u001b[J\u001b[J\u001b[J\u001b[J\u001b[J\u001b[J\u001b[J\u001b[J\u001b[J\u001b[J\u001b[J\u001b[J\u001b[J\u001b[J\u001b[J\u001b[J\u001b[J\u001b[J\u001b[J\u001b[J\u001b[J\u001b[J\u001b[J\u001b[J\u001b[J\u001b[J\u001b[J\u001b[J\u001b[J\u001b[J\u001b[J\u001b[J\u001b[J\u001b[J\u001b[J\u001b[J\u001b[J\u001b[J\u001b[J\u001b[J\u001b[J\u001b[J\u001b[J\u001b[J\u001b[J9           0.00599128  0.106945              0.998483       0.9835                    \n",
      "\u001b[J     total [######################............................] 45.00%\n",
      "this epoch [..................................................]  0.00%\n",
      "      5400 iter, 9 epoch / 20 epochs\n",
      "    4.1625 iters/sec. Estimated time to finish: 0:26:25.603548.\n",
      "\u001b[4A\u001b[J\u001b[J\u001b[J\u001b[J\u001b[J\u001b[J\u001b[J\u001b[J\u001b[J\u001b[J\u001b[J\u001b[J\u001b[J\u001b[J\u001b[J\u001b[J\u001b[J\u001b[J\u001b[J\u001b[J\u001b[J\u001b[J\u001b[J\u001b[J\u001b[J\u001b[J\u001b[J\u001b[J\u001b[J\u001b[J\u001b[J\u001b[J\u001b[J\u001b[J\u001b[J\u001b[J\u001b[J\u001b[J\u001b[J\u001b[J\u001b[J\u001b[J\u001b[J\u001b[J\u001b[J\u001b[J\u001b[J\u001b[J\u001b[J\u001b[J\u001b[J\u001b[J\u001b[J\u001b[J\u001b[J\u001b[J\u001b[J\u001b[J\u001b[J\u001b[J\u001b[J\u001b[J\u001b[J\u001b[J\u001b[J\u001b[J\u001b[J\u001b[J\u001b[J\u001b[J\u001b[J\u001b[J\u001b[J\u001b[J\u001b[J\u001b[J\u001b[J\u001b[J\u001b[J\u001b[J\u001b[J\u001b[J\u001b[J\u001b[J\u001b[J\u001b[J\u001b[J\u001b[J\u001b[J\u001b[J\u001b[J\u001b[J\u001b[J\u001b[J\u001b[J\u001b[J\u001b[J\u001b[J\u001b[J\u001b[J\u001b[J     total [######################............................] 45.83%\n",
      "this epoch [########..........................................] 16.67%\n",
      "      5500 iter, 9 epoch / 20 epochs\n",
      "    4.1488 iters/sec. Estimated time to finish: 0:26:06.736917.\n",
      "\u001b[4A\u001b[J\u001b[J\u001b[J\u001b[J\u001b[J\u001b[J\u001b[J\u001b[J\u001b[J\u001b[J\u001b[J\u001b[J\u001b[J\u001b[J\u001b[J\u001b[J\u001b[J\u001b[J\u001b[J\u001b[J\u001b[J\u001b[J\u001b[J\u001b[J\u001b[J\u001b[J\u001b[J\u001b[J\u001b[J\u001b[J\u001b[J\u001b[J\u001b[J\u001b[J\u001b[J\u001b[J\u001b[J\u001b[J\u001b[J\u001b[J\u001b[J\u001b[J\u001b[J\u001b[J\u001b[J\u001b[J\u001b[J\u001b[J\u001b[J\u001b[J\u001b[J\u001b[J\u001b[J\u001b[J\u001b[J\u001b[J\u001b[J\u001b[J\u001b[J\u001b[J\u001b[J\u001b[J\u001b[J\u001b[J\u001b[J\u001b[J\u001b[J\u001b[J\u001b[J\u001b[J\u001b[J\u001b[J\u001b[J\u001b[J\u001b[J\u001b[J\u001b[J\u001b[J\u001b[J\u001b[J\u001b[J\u001b[J\u001b[J\u001b[J\u001b[J\u001b[J\u001b[J\u001b[J\u001b[J\u001b[J\u001b[J\u001b[J\u001b[J\u001b[J\u001b[J\u001b[J\u001b[J\u001b[J\u001b[J\u001b[J\u001b[J     total [#######################...........................] 46.67%\n",
      "this epoch [################..................................] 33.33%\n",
      "      5600 iter, 9 epoch / 20 epochs\n",
      "    4.1511 iters/sec. Estimated time to finish: 0:25:41.753572.\n",
      "\u001b[4A\u001b[J\u001b[J\u001b[J\u001b[J\u001b[J\u001b[J\u001b[J\u001b[J\u001b[J\u001b[J\u001b[J\u001b[J\u001b[J\u001b[J\u001b[J\u001b[J\u001b[J\u001b[J\u001b[J\u001b[J\u001b[J\u001b[J\u001b[J\u001b[J\u001b[J\u001b[J\u001b[J\u001b[J\u001b[J\u001b[J\u001b[J\u001b[J\u001b[J\u001b[J\u001b[J\u001b[J\u001b[J\u001b[J\u001b[J\u001b[J\u001b[J\u001b[J\u001b[J\u001b[J\u001b[J\u001b[J\u001b[J\u001b[J\u001b[J\u001b[J\u001b[J\u001b[J\u001b[J\u001b[J\u001b[J\u001b[J\u001b[J\u001b[J\u001b[J\u001b[J\u001b[J\u001b[J\u001b[J\u001b[J\u001b[J\u001b[J\u001b[J\u001b[J\u001b[J\u001b[J\u001b[J\u001b[J\u001b[J\u001b[J\u001b[J\u001b[J\u001b[J\u001b[J\u001b[J\u001b[J\u001b[J\u001b[J\u001b[J\u001b[J\u001b[J\u001b[J\u001b[J\u001b[J\u001b[J\u001b[J\u001b[J\u001b[J\u001b[J\u001b[J\u001b[J\u001b[J\u001b[J\u001b[J\u001b[J\u001b[J\u001b[J     total [#######################...........................] 47.50%\n",
      "this epoch [#########################.........................] 50.00%\n",
      "      5700 iter, 9 epoch / 20 epochs\n",
      "    4.1551 iters/sec. Estimated time to finish: 0:25:16.198805.\n",
      "\u001b[4A\u001b[J\u001b[J\u001b[J\u001b[J\u001b[J\u001b[J\u001b[J\u001b[J\u001b[J\u001b[J\u001b[J\u001b[J\u001b[J\u001b[J\u001b[J\u001b[J\u001b[J\u001b[J\u001b[J\u001b[J\u001b[J\u001b[J\u001b[J\u001b[J\u001b[J\u001b[J\u001b[J\u001b[J\u001b[J\u001b[J\u001b[J\u001b[J\u001b[J\u001b[J\u001b[J\u001b[J\u001b[J\u001b[J\u001b[J\u001b[J\u001b[J\u001b[J\u001b[J\u001b[J\u001b[J\u001b[J\u001b[J\u001b[J\u001b[J\u001b[J\u001b[J\u001b[J\u001b[J\u001b[J\u001b[J\u001b[J\u001b[J\u001b[J\u001b[J\u001b[J\u001b[J\u001b[J\u001b[J\u001b[J\u001b[J\u001b[J\u001b[J\u001b[J\u001b[J\u001b[J\u001b[J\u001b[J\u001b[J\u001b[J\u001b[J\u001b[J\u001b[J\u001b[J\u001b[J\u001b[J\u001b[J\u001b[J\u001b[J\u001b[J\u001b[J\u001b[J\u001b[J\u001b[J\u001b[J\u001b[J\u001b[J\u001b[J\u001b[J\u001b[J\u001b[J\u001b[J\u001b[J\u001b[J\u001b[J\u001b[J\u001b[J     total [########################..........................] 48.33%\n",
      "this epoch [#################################.................] 66.67%\n",
      "      5800 iter, 9 epoch / 20 epochs\n",
      "    4.1589 iters/sec. Estimated time to finish: 0:24:50.768054.\n",
      "\u001b[4A\u001b[J\u001b[J\u001b[J\u001b[J\u001b[J\u001b[J\u001b[J\u001b[J\u001b[J\u001b[J\u001b[J\u001b[J\u001b[J\u001b[J\u001b[J\u001b[J\u001b[J\u001b[J\u001b[J\u001b[J\u001b[J\u001b[J\u001b[J\u001b[J\u001b[J\u001b[J\u001b[J\u001b[J\u001b[J\u001b[J\u001b[J\u001b[J\u001b[J\u001b[J\u001b[J\u001b[J\u001b[J\u001b[J\u001b[J\u001b[J\u001b[J\u001b[J\u001b[J\u001b[J\u001b[J\u001b[J\u001b[J\u001b[J\u001b[J\u001b[J\u001b[J\u001b[J\u001b[J\u001b[J\u001b[J\u001b[J\u001b[J\u001b[J\u001b[J\u001b[J\u001b[J\u001b[J\u001b[J\u001b[J\u001b[J\u001b[J\u001b[J\u001b[J\u001b[J\u001b[J\u001b[J\u001b[J\u001b[J\u001b[J\u001b[J\u001b[J\u001b[J\u001b[J\u001b[J\u001b[J\u001b[J\u001b[J\u001b[J\u001b[J\u001b[J\u001b[J\u001b[J\u001b[J\u001b[J\u001b[J\u001b[J\u001b[J\u001b[J\u001b[J\u001b[J\u001b[J\u001b[J\u001b[J\u001b[J\u001b[J\u001b[J     total [########################..........................] 49.17%\n",
      "this epoch [#########################################.........] 83.33%\n",
      "      5900 iter, 9 epoch / 20 epochs\n",
      "    4.1645 iters/sec. Estimated time to finish: 0:24:24.772765.\n",
      "\u001b[4A\u001b[J\u001b[J\u001b[J\u001b[J\u001b[J\u001b[J\u001b[J\u001b[J\u001b[J\u001b[J\u001b[J\u001b[J\u001b[J\u001b[J\u001b[J\u001b[J\u001b[J\u001b[J\u001b[J\u001b[J\u001b[J\u001b[J\u001b[J\u001b[J\u001b[J\u001b[J\u001b[J\u001b[J\u001b[J\u001b[J\u001b[J\u001b[J\u001b[J\u001b[J\u001b[J\u001b[J\u001b[J\u001b[J\u001b[J\u001b[J\u001b[J\u001b[J\u001b[J\u001b[J\u001b[J\u001b[J\u001b[J\u001b[J\u001b[J\u001b[J\u001b[J\u001b[J\u001b[J\u001b[J\u001b[J\u001b[J\u001b[J\u001b[J\u001b[J\u001b[J\u001b[J\u001b[J\u001b[J\u001b[J\u001b[J\u001b[J\u001b[J\u001b[J\u001b[J\u001b[J\u001b[J\u001b[J\u001b[J\u001b[J\u001b[J\u001b[J\u001b[J\u001b[J\u001b[J\u001b[J\u001b[J\u001b[J\u001b[J\u001b[J\u001b[J\u001b[J\u001b[J\u001b[J\u001b[J\u001b[J\u001b[J\u001b[J\u001b[J\u001b[J\u001b[J\u001b[J\u001b[J\u001b[J\u001b[J\u001b[J10          0.00883544  0.0930885             0.9978         0.9851                    \n",
      "\u001b[J     total [#########################.........................] 50.00%\n",
      "this epoch [..................................................]  0.00%\n",
      "      6000 iter, 10 epoch / 20 epochs\n",
      "    4.1569 iters/sec. Estimated time to finish: 0:24:03.380794.\n",
      "\u001b[4A\u001b[J\u001b[J\u001b[J\u001b[J\u001b[J\u001b[J\u001b[J\u001b[J\u001b[J\u001b[J\u001b[J\u001b[J\u001b[J\u001b[J\u001b[J\u001b[J\u001b[J\u001b[J\u001b[J\u001b[J\u001b[J\u001b[J\u001b[J\u001b[J\u001b[J\u001b[J\u001b[J\u001b[J\u001b[J\u001b[J\u001b[J\u001b[J\u001b[J\u001b[J\u001b[J\u001b[J\u001b[J\u001b[J\u001b[J\u001b[J\u001b[J\u001b[J\u001b[J\u001b[J\u001b[J\u001b[J\u001b[J\u001b[J\u001b[J\u001b[J\u001b[J\u001b[J\u001b[J\u001b[J\u001b[J\u001b[J\u001b[J\u001b[J\u001b[J\u001b[J\u001b[J\u001b[J\u001b[J\u001b[J\u001b[J\u001b[J\u001b[J\u001b[J\u001b[J\u001b[J\u001b[J\u001b[J\u001b[J\u001b[J\u001b[J\u001b[J\u001b[J\u001b[J\u001b[J\u001b[J\u001b[J\u001b[J\u001b[J\u001b[J\u001b[J\u001b[J\u001b[J\u001b[J\u001b[J\u001b[J\u001b[J\u001b[J\u001b[J\u001b[J\u001b[J\u001b[J\u001b[J\u001b[J\u001b[J\u001b[J\u001b[J     total [#########################.........................] 50.83%\n",
      "this epoch [########..........................................] 16.67%\n",
      "      6100 iter, 10 epoch / 20 epochs\n",
      "    4.1452 iters/sec. Estimated time to finish: 0:23:43.316162.\n",
      "\u001b[4A\u001b[J\u001b[J\u001b[J\u001b[J\u001b[J\u001b[J\u001b[J\u001b[J\u001b[J\u001b[J\u001b[J\u001b[J\u001b[J\u001b[J\u001b[J\u001b[J\u001b[J\u001b[J\u001b[J\u001b[J\u001b[J\u001b[J\u001b[J\u001b[J\u001b[J\u001b[J\u001b[J\u001b[J\u001b[J\u001b[J\u001b[J\u001b[J\u001b[J\u001b[J\u001b[J\u001b[J\u001b[J\u001b[J\u001b[J\u001b[J\u001b[J\u001b[J\u001b[J\u001b[J\u001b[J\u001b[J\u001b[J\u001b[J\u001b[J\u001b[J\u001b[J\u001b[J\u001b[J\u001b[J\u001b[J\u001b[J\u001b[J\u001b[J\u001b[J\u001b[J\u001b[J\u001b[J\u001b[J\u001b[J\u001b[J\u001b[J\u001b[J\u001b[J\u001b[J\u001b[J\u001b[J\u001b[J\u001b[J\u001b[J\u001b[J\u001b[J\u001b[J\u001b[J\u001b[J\u001b[J\u001b[J\u001b[J\u001b[J\u001b[J\u001b[J\u001b[J\u001b[J\u001b[J\u001b[J\u001b[J\u001b[J\u001b[J\u001b[J\u001b[J\u001b[J\u001b[J\u001b[J\u001b[J\u001b[J\u001b[J\u001b[J     total [#########################.........................] 51.67%\n",
      "this epoch [################..................................] 33.33%\n",
      "      6200 iter, 10 epoch / 20 epochs\n",
      "    4.1456 iters/sec. Estimated time to finish: 0:23:19.064132.\n",
      "\u001b[4A\u001b[J\u001b[J\u001b[J\u001b[J\u001b[J\u001b[J\u001b[J\u001b[J\u001b[J\u001b[J\u001b[J\u001b[J\u001b[J\u001b[J\u001b[J\u001b[J\u001b[J\u001b[J\u001b[J\u001b[J\u001b[J\u001b[J\u001b[J\u001b[J\u001b[J\u001b[J\u001b[J\u001b[J\u001b[J\u001b[J\u001b[J\u001b[J\u001b[J\u001b[J\u001b[J\u001b[J\u001b[J\u001b[J\u001b[J\u001b[J\u001b[J\u001b[J\u001b[J\u001b[J\u001b[J\u001b[J\u001b[J\u001b[J\u001b[J\u001b[J\u001b[J\u001b[J\u001b[J\u001b[J\u001b[J\u001b[J\u001b[J\u001b[J\u001b[J\u001b[J\u001b[J\u001b[J\u001b[J\u001b[J\u001b[J\u001b[J\u001b[J\u001b[J\u001b[J\u001b[J\u001b[J\u001b[J\u001b[J\u001b[J\u001b[J\u001b[J\u001b[J\u001b[J\u001b[J\u001b[J\u001b[J\u001b[J\u001b[J\u001b[J\u001b[J\u001b[J\u001b[J\u001b[J\u001b[J\u001b[J\u001b[J\u001b[J\u001b[J\u001b[J\u001b[J\u001b[J\u001b[J\u001b[J\u001b[J\u001b[J\u001b[J     total [##########################........................] 52.50%\n",
      "this epoch [#########################.........................] 50.00%\n",
      "      6300 iter, 10 epoch / 20 epochs\n",
      "    4.1461 iters/sec. Estimated time to finish: 0:22:54.781239.\n",
      "\u001b[4A\u001b[J\u001b[J\u001b[J\u001b[J\u001b[J\u001b[J\u001b[J\u001b[J\u001b[J\u001b[J\u001b[J\u001b[J\u001b[J\u001b[J\u001b[J\u001b[J\u001b[J\u001b[J\u001b[J\u001b[J\u001b[J\u001b[J\u001b[J\u001b[J\u001b[J\u001b[J\u001b[J\u001b[J\u001b[J\u001b[J\u001b[J\u001b[J\u001b[J\u001b[J\u001b[J\u001b[J\u001b[J\u001b[J\u001b[J\u001b[J\u001b[J\u001b[J\u001b[J\u001b[J\u001b[J\u001b[J\u001b[J\u001b[J\u001b[J\u001b[J\u001b[J\u001b[J\u001b[J\u001b[J\u001b[J\u001b[J\u001b[J\u001b[J\u001b[J\u001b[J\u001b[J\u001b[J\u001b[J\u001b[J\u001b[J\u001b[J\u001b[J\u001b[J\u001b[J\u001b[J\u001b[J\u001b[J\u001b[J\u001b[J\u001b[J\u001b[J\u001b[J\u001b[J\u001b[J\u001b[J\u001b[J\u001b[J\u001b[J\u001b[J\u001b[J\u001b[J\u001b[J\u001b[J\u001b[J\u001b[J\u001b[J\u001b[J\u001b[J\u001b[J\u001b[J\u001b[J\u001b[J\u001b[J\u001b[J\u001b[J\u001b[J     total [##########################........................] 53.33%\n",
      "this epoch [#################################.................] 66.67%\n",
      "      6400 iter, 10 epoch / 20 epochs\n",
      "    4.1462 iters/sec. Estimated time to finish: 0:22:30.631964.\n",
      "\u001b[4A\u001b[J\u001b[J\u001b[J\u001b[J\u001b[J\u001b[J\u001b[J\u001b[J\u001b[J\u001b[J\u001b[J\u001b[J\u001b[J\u001b[J\u001b[J\u001b[J\u001b[J\u001b[J\u001b[J\u001b[J\u001b[J\u001b[J\u001b[J\u001b[J\u001b[J\u001b[J\u001b[J\u001b[J\u001b[J\u001b[J\u001b[J\u001b[J\u001b[J\u001b[J\u001b[J\u001b[J\u001b[J\u001b[J\u001b[J\u001b[J\u001b[J\u001b[J\u001b[J\u001b[J\u001b[J\u001b[J\u001b[J\u001b[J\u001b[J\u001b[J\u001b[J\u001b[J\u001b[J\u001b[J\u001b[J\u001b[J\u001b[J\u001b[J\u001b[J\u001b[J\u001b[J\u001b[J\u001b[J\u001b[J\u001b[J\u001b[J\u001b[J\u001b[J\u001b[J\u001b[J\u001b[J\u001b[J\u001b[J\u001b[J\u001b[J\u001b[J\u001b[J\u001b[J\u001b[J\u001b[J\u001b[J\u001b[J\u001b[J\u001b[J\u001b[J\u001b[J\u001b[J\u001b[J\u001b[J\u001b[J\u001b[J\u001b[J\u001b[J\u001b[J\u001b[J\u001b[J\u001b[J\u001b[J\u001b[J\u001b[J\u001b[J     total [###########################.......................] 54.17%\n",
      "this epoch [#########################################.........] 83.33%\n",
      "      6500 iter, 10 epoch / 20 epochs\n",
      "    4.1481 iters/sec. Estimated time to finish: 0:22:05.919554.\n",
      "\u001b[4A\u001b[J\u001b[J\u001b[J\u001b[J\u001b[J\u001b[J\u001b[J\u001b[J\u001b[J\u001b[J\u001b[J\u001b[J\u001b[J\u001b[J\u001b[J\u001b[J\u001b[J\u001b[J\u001b[J\u001b[J\u001b[J\u001b[J\u001b[J\u001b[J\u001b[J\u001b[J\u001b[J\u001b[J\u001b[J\u001b[J\u001b[J\u001b[J\u001b[J\u001b[J\u001b[J\u001b[J\u001b[J\u001b[J\u001b[J\u001b[J\u001b[J\u001b[J\u001b[J\u001b[J\u001b[J\u001b[J\u001b[J\u001b[J\u001b[J\u001b[J\u001b[J\u001b[J\u001b[J\u001b[J\u001b[J\u001b[J\u001b[J\u001b[J\u001b[J\u001b[J\u001b[J\u001b[J\u001b[J\u001b[J\u001b[J\u001b[J\u001b[J\u001b[J\u001b[J\u001b[J\u001b[J\u001b[J\u001b[J\u001b[J\u001b[J\u001b[J\u001b[J\u001b[J\u001b[J\u001b[J\u001b[J\u001b[J\u001b[J\u001b[J\u001b[J\u001b[J\u001b[J\u001b[J\u001b[J\u001b[J\u001b[J\u001b[J\u001b[J\u001b[J\u001b[J\u001b[J\u001b[J\u001b[J\u001b[J\u001b[J11          0.00587056  0.121085              0.998717       0.9829                    \n",
      "\u001b[J     total [###########################.......................] 55.00%\n",
      "this epoch [..................................................]  0.00%\n",
      "      6600 iter, 11 epoch / 20 epochs\n",
      "    4.1429 iters/sec. Estimated time to finish: 0:21:43.445175.\n",
      "\u001b[4A\u001b[J\u001b[J\u001b[J\u001b[J\u001b[J\u001b[J\u001b[J\u001b[J\u001b[J\u001b[J\u001b[J\u001b[J\u001b[J\u001b[J\u001b[J\u001b[J\u001b[J\u001b[J\u001b[J\u001b[J\u001b[J\u001b[J\u001b[J\u001b[J\u001b[J\u001b[J\u001b[J\u001b[J\u001b[J\u001b[J\u001b[J\u001b[J\u001b[J\u001b[J\u001b[J\u001b[J\u001b[J\u001b[J\u001b[J\u001b[J\u001b[J\u001b[J\u001b[J\u001b[J\u001b[J\u001b[J\u001b[J\u001b[J\u001b[J\u001b[J\u001b[J\u001b[J\u001b[J\u001b[J\u001b[J\u001b[J\u001b[J\u001b[J\u001b[J\u001b[J\u001b[J\u001b[J\u001b[J\u001b[J\u001b[J\u001b[J\u001b[J\u001b[J\u001b[J\u001b[J\u001b[J\u001b[J\u001b[J\u001b[J\u001b[J\u001b[J\u001b[J\u001b[J\u001b[J\u001b[J\u001b[J\u001b[J\u001b[J\u001b[J\u001b[J\u001b[J\u001b[J\u001b[J\u001b[J\u001b[J\u001b[J\u001b[J\u001b[J\u001b[J\u001b[J\u001b[J\u001b[J\u001b[J\u001b[J\u001b[J\u001b[J     total [###########################.......................] 55.83%\n",
      "this epoch [########..........................................] 16.67%\n",
      "      6700 iter, 11 epoch / 20 epochs\n",
      "    4.1359 iters/sec. Estimated time to finish: 0:21:21.447605.\n",
      "\u001b[4A\u001b[J\u001b[J\u001b[J\u001b[J\u001b[J\u001b[J\u001b[J\u001b[J\u001b[J\u001b[J\u001b[J\u001b[J\u001b[J\u001b[J\u001b[J\u001b[J\u001b[J\u001b[J\u001b[J\u001b[J\u001b[J\u001b[J\u001b[J\u001b[J\u001b[J\u001b[J\u001b[J\u001b[J\u001b[J\u001b[J\u001b[J\u001b[J\u001b[J\u001b[J\u001b[J\u001b[J\u001b[J\u001b[J\u001b[J\u001b[J\u001b[J\u001b[J\u001b[J\u001b[J\u001b[J\u001b[J\u001b[J\u001b[J\u001b[J\u001b[J\u001b[J\u001b[J\u001b[J\u001b[J\u001b[J\u001b[J\u001b[J\u001b[J\u001b[J\u001b[J\u001b[J\u001b[J\u001b[J\u001b[J\u001b[J\u001b[J\u001b[J\u001b[J\u001b[J\u001b[J\u001b[J\u001b[J\u001b[J\u001b[J\u001b[J\u001b[J\u001b[J\u001b[J\u001b[J\u001b[J\u001b[J\u001b[J\u001b[J\u001b[J\u001b[J\u001b[J\u001b[J\u001b[J\u001b[J\u001b[J\u001b[J\u001b[J\u001b[J\u001b[J\u001b[J\u001b[J\u001b[J\u001b[J\u001b[J\u001b[J\u001b[J     total [############################......................] 56.67%\n",
      "this epoch [################..................................] 33.33%\n",
      "      6800 iter, 11 epoch / 20 epochs\n",
      "    4.1374 iters/sec. Estimated time to finish: 0:20:56.826038.\n",
      "\u001b[4A\u001b[J\u001b[J\u001b[J\u001b[J\u001b[J\u001b[J\u001b[J\u001b[J\u001b[J\u001b[J\u001b[J\u001b[J\u001b[J\u001b[J\u001b[J\u001b[J\u001b[J\u001b[J\u001b[J\u001b[J\u001b[J\u001b[J\u001b[J\u001b[J\u001b[J\u001b[J\u001b[J\u001b[J\u001b[J\u001b[J\u001b[J\u001b[J\u001b[J\u001b[J\u001b[J\u001b[J\u001b[J\u001b[J\u001b[J\u001b[J\u001b[J\u001b[J\u001b[J\u001b[J\u001b[J\u001b[J\u001b[J\u001b[J\u001b[J\u001b[J\u001b[J\u001b[J\u001b[J\u001b[J\u001b[J\u001b[J\u001b[J\u001b[J\u001b[J\u001b[J\u001b[J\u001b[J\u001b[J\u001b[J\u001b[J\u001b[J\u001b[J\u001b[J\u001b[J\u001b[J\u001b[J\u001b[J\u001b[J\u001b[J\u001b[J\u001b[J\u001b[J\u001b[J\u001b[J\u001b[J\u001b[J\u001b[J\u001b[J\u001b[J\u001b[J\u001b[J\u001b[J\u001b[J\u001b[J\u001b[J\u001b[J\u001b[J\u001b[J\u001b[J\u001b[J\u001b[J\u001b[J\u001b[J\u001b[J\u001b[J\u001b[J     total [############################......................] 57.50%\n",
      "this epoch [#########################.........................] 50.00%\n",
      "      6900 iter, 11 epoch / 20 epochs\n",
      "    4.1377 iters/sec. Estimated time to finish: 0:20:32.556366.\n",
      "\u001b[4A\u001b[J\u001b[J\u001b[J\u001b[J\u001b[J\u001b[J\u001b[J\u001b[J\u001b[J\u001b[J\u001b[J\u001b[J\u001b[J\u001b[J\u001b[J\u001b[J\u001b[J\u001b[J\u001b[J\u001b[J\u001b[J\u001b[J\u001b[J\u001b[J\u001b[J\u001b[J\u001b[J\u001b[J\u001b[J\u001b[J\u001b[J\u001b[J\u001b[J\u001b[J\u001b[J\u001b[J\u001b[J\u001b[J\u001b[J\u001b[J\u001b[J\u001b[J\u001b[J\u001b[J\u001b[J\u001b[J\u001b[J\u001b[J\u001b[J\u001b[J\u001b[J\u001b[J\u001b[J\u001b[J\u001b[J\u001b[J\u001b[J\u001b[J\u001b[J\u001b[J\u001b[J\u001b[J\u001b[J\u001b[J\u001b[J\u001b[J\u001b[J\u001b[J\u001b[J\u001b[J\u001b[J\u001b[J\u001b[J\u001b[J\u001b[J\u001b[J\u001b[J\u001b[J\u001b[J\u001b[J\u001b[J\u001b[J\u001b[J\u001b[J\u001b[J\u001b[J\u001b[J\u001b[J\u001b[J\u001b[J\u001b[J\u001b[J\u001b[J\u001b[J\u001b[J\u001b[J\u001b[J\u001b[J\u001b[J\u001b[J\u001b[J     total [#############################.....................] 58.33%\n",
      "this epoch [#################################.................] 66.67%\n",
      "      7000 iter, 11 epoch / 20 epochs\n",
      "    4.1391 iters/sec. Estimated time to finish: 0:20:07.991938.\n",
      "\u001b[4A\u001b[J\u001b[J\u001b[J\u001b[J\u001b[J\u001b[J\u001b[J\u001b[J\u001b[J\u001b[J\u001b[J\u001b[J\u001b[J\u001b[J\u001b[J\u001b[J\u001b[J\u001b[J\u001b[J\u001b[J\u001b[J\u001b[J\u001b[J\u001b[J\u001b[J\u001b[J\u001b[J\u001b[J\u001b[J\u001b[J\u001b[J\u001b[J\u001b[J\u001b[J\u001b[J\u001b[J\u001b[J\u001b[J\u001b[J\u001b[J\u001b[J\u001b[J\u001b[J\u001b[J\u001b[J\u001b[J\u001b[J\u001b[J\u001b[J\u001b[J\u001b[J\u001b[J\u001b[J\u001b[J\u001b[J\u001b[J\u001b[J\u001b[J\u001b[J\u001b[J\u001b[J\u001b[J\u001b[J\u001b[J\u001b[J\u001b[J\u001b[J\u001b[J\u001b[J\u001b[J\u001b[J\u001b[J\u001b[J\u001b[J\u001b[J\u001b[J\u001b[J\u001b[J\u001b[J\u001b[J\u001b[J\u001b[J\u001b[J\u001b[J\u001b[J\u001b[J\u001b[J\u001b[J\u001b[J\u001b[J\u001b[J\u001b[J\u001b[J\u001b[J\u001b[J\u001b[J\u001b[J\u001b[J\u001b[J\u001b[J\u001b[J     total [#############################.....................] 59.17%\n",
      "this epoch [#########################################.........] 83.33%\n",
      "      7100 iter, 11 epoch / 20 epochs\n",
      "    4.1396 iters/sec. Estimated time to finish: 0:19:43.683287.\n",
      "\u001b[4A\u001b[J\u001b[J\u001b[J\u001b[J\u001b[J\u001b[J\u001b[J\u001b[J\u001b[J\u001b[J\u001b[J\u001b[J\u001b[J\u001b[J\u001b[J\u001b[J\u001b[J\u001b[J\u001b[J\u001b[J\u001b[J\u001b[J\u001b[J\u001b[J\u001b[J\u001b[J\u001b[J\u001b[J\u001b[J\u001b[J\u001b[J\u001b[J\u001b[J\u001b[J\u001b[J\u001b[J\u001b[J\u001b[J\u001b[J\u001b[J\u001b[J\u001b[J\u001b[J\u001b[J\u001b[J\u001b[J\u001b[J\u001b[J\u001b[J\u001b[J\u001b[J\u001b[J\u001b[J\u001b[J\u001b[J\u001b[J\u001b[J\u001b[J\u001b[J\u001b[J\u001b[J\u001b[J\u001b[J\u001b[J\u001b[J\u001b[J\u001b[J\u001b[J\u001b[J\u001b[J\u001b[J\u001b[J\u001b[J\u001b[J\u001b[J\u001b[J\u001b[J\u001b[J\u001b[J\u001b[J\u001b[J\u001b[J\u001b[J\u001b[J\u001b[J\u001b[J\u001b[J\u001b[J\u001b[J\u001b[J\u001b[J\u001b[J\u001b[J\u001b[J\u001b[J\u001b[J\u001b[J\u001b[J\u001b[J\u001b[J12          0.0087917   0.146794              0.99755        0.9824                    \n",
      "\u001b[J     total [##############################....................] 60.00%\n",
      "this epoch [..................................................]  0.00%\n",
      "      7200 iter, 12 epoch / 20 epochs\n",
      "    4.1336 iters/sec. Estimated time to finish: 0:19:21.223925.\n",
      "\u001b[4A\u001b[J\u001b[J\u001b[J\u001b[J\u001b[J\u001b[J\u001b[J\u001b[J\u001b[J\u001b[J\u001b[J\u001b[J\u001b[J\u001b[J\u001b[J\u001b[J\u001b[J\u001b[J\u001b[J\u001b[J\u001b[J\u001b[J\u001b[J\u001b[J\u001b[J\u001b[J\u001b[J\u001b[J\u001b[J\u001b[J\u001b[J\u001b[J\u001b[J\u001b[J\u001b[J\u001b[J\u001b[J\u001b[J\u001b[J\u001b[J\u001b[J\u001b[J\u001b[J\u001b[J\u001b[J\u001b[J\u001b[J\u001b[J\u001b[J\u001b[J\u001b[J\u001b[J\u001b[J\u001b[J\u001b[J\u001b[J\u001b[J\u001b[J\u001b[J\u001b[J\u001b[J\u001b[J\u001b[J\u001b[J\u001b[J\u001b[J\u001b[J\u001b[J\u001b[J\u001b[J\u001b[J\u001b[J\u001b[J\u001b[J\u001b[J\u001b[J\u001b[J\u001b[J\u001b[J\u001b[J\u001b[J\u001b[J\u001b[J\u001b[J\u001b[J\u001b[J\u001b[J\u001b[J\u001b[J\u001b[J\u001b[J\u001b[J\u001b[J\u001b[J\u001b[J\u001b[J\u001b[J\u001b[J\u001b[J\u001b[J\u001b[J     total [##############################....................] 60.83%\n",
      "this epoch [########..........................................] 16.67%\n",
      "      7300 iter, 12 epoch / 20 epochs\n",
      "    4.1283 iters/sec. Estimated time to finish: 0:18:58.475128.\n",
      "\u001b[4A\u001b[J\u001b[J\u001b[J\u001b[J\u001b[J\u001b[J\u001b[J\u001b[J\u001b[J\u001b[J\u001b[J\u001b[J\u001b[J\u001b[J\u001b[J\u001b[J\u001b[J\u001b[J\u001b[J\u001b[J\u001b[J\u001b[J\u001b[J\u001b[J\u001b[J\u001b[J\u001b[J\u001b[J\u001b[J\u001b[J\u001b[J\u001b[J\u001b[J\u001b[J\u001b[J\u001b[J\u001b[J\u001b[J\u001b[J\u001b[J\u001b[J\u001b[J\u001b[J\u001b[J\u001b[J\u001b[J\u001b[J\u001b[J\u001b[J\u001b[J\u001b[J\u001b[J\u001b[J\u001b[J\u001b[J\u001b[J\u001b[J\u001b[J\u001b[J\u001b[J\u001b[J\u001b[J\u001b[J\u001b[J\u001b[J\u001b[J\u001b[J\u001b[J\u001b[J\u001b[J\u001b[J\u001b[J\u001b[J\u001b[J\u001b[J\u001b[J\u001b[J\u001b[J\u001b[J\u001b[J\u001b[J\u001b[J\u001b[J\u001b[J\u001b[J\u001b[J\u001b[J\u001b[J\u001b[J\u001b[J\u001b[J\u001b[J\u001b[J\u001b[J\u001b[J\u001b[J\u001b[J\u001b[J\u001b[J\u001b[J\u001b[J     total [##############################....................] 61.67%\n",
      "this epoch [################..................................] 33.33%\n",
      "      7400 iter, 12 epoch / 20 epochs\n",
      "    4.1289 iters/sec. Estimated time to finish: 0:18:34.089459.\n",
      "\u001b[4A\u001b[J\u001b[J\u001b[J\u001b[J\u001b[J\u001b[J\u001b[J\u001b[J\u001b[J\u001b[J\u001b[J\u001b[J\u001b[J\u001b[J\u001b[J\u001b[J\u001b[J\u001b[J\u001b[J\u001b[J\u001b[J\u001b[J\u001b[J\u001b[J\u001b[J\u001b[J\u001b[J\u001b[J\u001b[J\u001b[J\u001b[J\u001b[J\u001b[J\u001b[J\u001b[J\u001b[J\u001b[J\u001b[J\u001b[J\u001b[J\u001b[J\u001b[J\u001b[J\u001b[J\u001b[J\u001b[J\u001b[J\u001b[J\u001b[J\u001b[J\u001b[J\u001b[J\u001b[J\u001b[J\u001b[J\u001b[J\u001b[J\u001b[J\u001b[J\u001b[J\u001b[J\u001b[J\u001b[J\u001b[J\u001b[J\u001b[J\u001b[J\u001b[J\u001b[J\u001b[J\u001b[J\u001b[J\u001b[J\u001b[J\u001b[J\u001b[J\u001b[J\u001b[J\u001b[J\u001b[J\u001b[J\u001b[J\u001b[J\u001b[J\u001b[J\u001b[J\u001b[J\u001b[J\u001b[J\u001b[J\u001b[J\u001b[J\u001b[J\u001b[J\u001b[J\u001b[J\u001b[J\u001b[J\u001b[J\u001b[J\u001b[J     total [###############################...................] 62.50%\n",
      "this epoch [#########################.........................] 50.00%\n",
      "      7500 iter, 12 epoch / 20 epochs\n",
      "    4.1287 iters/sec. Estimated time to finish: 0:18:09.922104.\n",
      "\u001b[4A\u001b[J\u001b[J\u001b[J\u001b[J\u001b[J\u001b[J\u001b[J\u001b[J\u001b[J\u001b[J\u001b[J\u001b[J\u001b[J\u001b[J\u001b[J\u001b[J\u001b[J\u001b[J\u001b[J\u001b[J\u001b[J\u001b[J\u001b[J\u001b[J\u001b[J\u001b[J\u001b[J\u001b[J\u001b[J\u001b[J\u001b[J\u001b[J\u001b[J\u001b[J\u001b[J\u001b[J\u001b[J\u001b[J\u001b[J\u001b[J\u001b[J\u001b[J\u001b[J\u001b[J\u001b[J\u001b[J\u001b[J\u001b[J\u001b[J\u001b[J\u001b[J\u001b[J\u001b[J\u001b[J\u001b[J\u001b[J\u001b[J\u001b[J\u001b[J\u001b[J\u001b[J\u001b[J\u001b[J\u001b[J\u001b[J\u001b[J\u001b[J\u001b[J\u001b[J\u001b[J\u001b[J\u001b[J\u001b[J\u001b[J\u001b[J\u001b[J\u001b[J\u001b[J\u001b[J\u001b[J\u001b[J\u001b[J\u001b[J\u001b[J\u001b[J\u001b[J\u001b[J\u001b[J\u001b[J\u001b[J\u001b[J\u001b[J\u001b[J\u001b[J\u001b[J\u001b[J\u001b[J\u001b[J\u001b[J\u001b[J\u001b[J     total [###############################...................] 63.33%\n",
      "this epoch [#################################.................] 66.67%\n",
      "      7600 iter, 12 epoch / 20 epochs\n",
      "    4.1282 iters/sec. Estimated time to finish: 0:17:45.836084.\n",
      "\u001b[4A\u001b[J\u001b[J\u001b[J\u001b[J\u001b[J\u001b[J\u001b[J\u001b[J\u001b[J\u001b[J\u001b[J\u001b[J\u001b[J\u001b[J\u001b[J\u001b[J\u001b[J\u001b[J\u001b[J\u001b[J\u001b[J\u001b[J\u001b[J\u001b[J\u001b[J\u001b[J\u001b[J\u001b[J\u001b[J\u001b[J\u001b[J\u001b[J\u001b[J\u001b[J\u001b[J\u001b[J\u001b[J\u001b[J\u001b[J\u001b[J\u001b[J\u001b[J\u001b[J\u001b[J\u001b[J\u001b[J\u001b[J\u001b[J\u001b[J\u001b[J\u001b[J\u001b[J\u001b[J\u001b[J\u001b[J\u001b[J\u001b[J\u001b[J\u001b[J\u001b[J\u001b[J\u001b[J\u001b[J\u001b[J\u001b[J\u001b[J\u001b[J\u001b[J\u001b[J\u001b[J\u001b[J\u001b[J\u001b[J\u001b[J\u001b[J\u001b[J\u001b[J\u001b[J\u001b[J\u001b[J\u001b[J\u001b[J\u001b[J\u001b[J\u001b[J\u001b[J\u001b[J\u001b[J\u001b[J\u001b[J\u001b[J\u001b[J\u001b[J\u001b[J\u001b[J\u001b[J\u001b[J\u001b[J\u001b[J\u001b[J\u001b[J     total [################################..................] 64.17%\n",
      "this epoch [#########################################.........] 83.33%\n",
      "      7700 iter, 12 epoch / 20 epochs\n",
      "    4.1287 iters/sec. Estimated time to finish: 0:17:21.488041.\n",
      "\u001b[4A\u001b[J\u001b[J\u001b[J\u001b[J\u001b[J\u001b[J\u001b[J\u001b[J\u001b[J\u001b[J\u001b[J\u001b[J\u001b[J\u001b[J\u001b[J\u001b[J\u001b[J\u001b[J\u001b[J\u001b[J\u001b[J\u001b[J\u001b[J\u001b[J\u001b[J\u001b[J\u001b[J\u001b[J\u001b[J\u001b[J\u001b[J\u001b[J\u001b[J\u001b[J\u001b[J\u001b[J\u001b[J\u001b[J\u001b[J\u001b[J\u001b[J\u001b[J\u001b[J\u001b[J\u001b[J\u001b[J\u001b[J\u001b[J\u001b[J\u001b[J\u001b[J\u001b[J\u001b[J\u001b[J\u001b[J\u001b[J\u001b[J\u001b[J\u001b[J\u001b[J\u001b[J\u001b[J\u001b[J\u001b[J\u001b[J\u001b[J\u001b[J\u001b[J\u001b[J\u001b[J\u001b[J\u001b[J\u001b[J\u001b[J\u001b[J\u001b[J\u001b[J\u001b[J\u001b[J\u001b[J\u001b[J\u001b[J\u001b[J\u001b[J\u001b[J\u001b[J\u001b[J\u001b[J\u001b[J\u001b[J\u001b[J\u001b[J\u001b[J\u001b[J\u001b[J\u001b[J\u001b[J\u001b[J\u001b[J\u001b[J13          0.00740157  0.122134              0.998          0.9819                    \n",
      "\u001b[J     total [################################..................] 65.00%\n",
      "this epoch [..................................................]  0.00%\n",
      "      7800 iter, 13 epoch / 20 epochs\n",
      "    4.1243 iters/sec. Estimated time to finish: 0:16:58.348186.\n",
      "\u001b[4A\u001b[J\u001b[J\u001b[J\u001b[J\u001b[J\u001b[J\u001b[J\u001b[J\u001b[J\u001b[J\u001b[J\u001b[J\u001b[J\u001b[J\u001b[J\u001b[J\u001b[J\u001b[J\u001b[J\u001b[J\u001b[J\u001b[J\u001b[J\u001b[J\u001b[J\u001b[J\u001b[J\u001b[J\u001b[J\u001b[J\u001b[J\u001b[J\u001b[J\u001b[J\u001b[J\u001b[J\u001b[J\u001b[J\u001b[J\u001b[J\u001b[J\u001b[J\u001b[J\u001b[J\u001b[J\u001b[J\u001b[J\u001b[J\u001b[J\u001b[J\u001b[J\u001b[J\u001b[J\u001b[J\u001b[J\u001b[J\u001b[J\u001b[J\u001b[J\u001b[J\u001b[J\u001b[J\u001b[J\u001b[J\u001b[J\u001b[J\u001b[J\u001b[J\u001b[J\u001b[J\u001b[J\u001b[J\u001b[J\u001b[J\u001b[J\u001b[J\u001b[J\u001b[J\u001b[J\u001b[J\u001b[J\u001b[J\u001b[J\u001b[J\u001b[J\u001b[J\u001b[J\u001b[J\u001b[J\u001b[J\u001b[J\u001b[J\u001b[J\u001b[J\u001b[J\u001b[J\u001b[J\u001b[J\u001b[J\u001b[J\u001b[J     total [################################..................] 65.83%\n",
      "this epoch [########..........................................] 16.67%\n",
      "      7900 iter, 13 epoch / 20 epochs\n",
      "    4.1173 iters/sec. Estimated time to finish: 0:16:35.809504.\n",
      "\u001b[4A\u001b[J\u001b[J\u001b[J\u001b[J\u001b[J\u001b[J\u001b[J\u001b[J\u001b[J\u001b[J\u001b[J\u001b[J\u001b[J\u001b[J\u001b[J\u001b[J\u001b[J\u001b[J\u001b[J\u001b[J\u001b[J\u001b[J\u001b[J\u001b[J\u001b[J\u001b[J\u001b[J\u001b[J\u001b[J\u001b[J\u001b[J\u001b[J\u001b[J\u001b[J\u001b[J\u001b[J\u001b[J\u001b[J\u001b[J\u001b[J\u001b[J\u001b[J\u001b[J\u001b[J\u001b[J\u001b[J\u001b[J\u001b[J\u001b[J\u001b[J\u001b[J\u001b[J\u001b[J\u001b[J\u001b[J\u001b[J\u001b[J\u001b[J\u001b[J\u001b[J\u001b[J\u001b[J\u001b[J\u001b[J\u001b[J\u001b[J\u001b[J\u001b[J\u001b[J\u001b[J\u001b[J\u001b[J\u001b[J\u001b[J\u001b[J\u001b[J\u001b[J\u001b[J\u001b[J\u001b[J\u001b[J\u001b[J\u001b[J\u001b[J\u001b[J\u001b[J\u001b[J\u001b[J\u001b[J\u001b[J\u001b[J\u001b[J\u001b[J\u001b[J\u001b[J\u001b[J\u001b[J\u001b[J\u001b[J\u001b[J\u001b[J     total [#################################.................] 66.67%\n",
      "this epoch [################..................................] 33.33%\n",
      "      8000 iter, 13 epoch / 20 epochs\n",
      "    4.1191 iters/sec. Estimated time to finish: 0:16:11.089638.\n",
      "\u001b[4A\u001b[J\u001b[J\u001b[J\u001b[J\u001b[J\u001b[J\u001b[J\u001b[J\u001b[J\u001b[J\u001b[J\u001b[J\u001b[J\u001b[J\u001b[J\u001b[J\u001b[J\u001b[J\u001b[J\u001b[J\u001b[J\u001b[J\u001b[J\u001b[J\u001b[J\u001b[J\u001b[J\u001b[J\u001b[J\u001b[J\u001b[J\u001b[J\u001b[J\u001b[J\u001b[J\u001b[J\u001b[J\u001b[J\u001b[J\u001b[J\u001b[J\u001b[J\u001b[J\u001b[J\u001b[J\u001b[J\u001b[J\u001b[J\u001b[J\u001b[J\u001b[J\u001b[J\u001b[J\u001b[J\u001b[J\u001b[J\u001b[J\u001b[J\u001b[J\u001b[J\u001b[J\u001b[J\u001b[J\u001b[J\u001b[J\u001b[J\u001b[J\u001b[J\u001b[J\u001b[J\u001b[J\u001b[J\u001b[J\u001b[J\u001b[J\u001b[J\u001b[J\u001b[J\u001b[J\u001b[J\u001b[J\u001b[J\u001b[J\u001b[J\u001b[J\u001b[J\u001b[J\u001b[J\u001b[J\u001b[J\u001b[J\u001b[J\u001b[J\u001b[J\u001b[J\u001b[J\u001b[J\u001b[J\u001b[J\u001b[J\u001b[J     total [#################################.................] 67.50%\n",
      "this epoch [#########################.........................] 50.00%\n",
      "      8100 iter, 13 epoch / 20 epochs\n",
      "    4.1198 iters/sec. Estimated time to finish: 0:15:46.652007.\n",
      "\u001b[4A\u001b[J\u001b[J\u001b[J\u001b[J\u001b[J\u001b[J\u001b[J\u001b[J\u001b[J\u001b[J\u001b[J\u001b[J\u001b[J\u001b[J\u001b[J\u001b[J\u001b[J\u001b[J\u001b[J\u001b[J\u001b[J\u001b[J\u001b[J\u001b[J\u001b[J\u001b[J\u001b[J\u001b[J\u001b[J\u001b[J\u001b[J\u001b[J\u001b[J\u001b[J\u001b[J\u001b[J\u001b[J\u001b[J\u001b[J\u001b[J\u001b[J\u001b[J\u001b[J\u001b[J\u001b[J\u001b[J\u001b[J\u001b[J\u001b[J\u001b[J\u001b[J\u001b[J\u001b[J\u001b[J\u001b[J\u001b[J\u001b[J\u001b[J\u001b[J\u001b[J\u001b[J\u001b[J\u001b[J\u001b[J\u001b[J\u001b[J\u001b[J\u001b[J\u001b[J\u001b[J\u001b[J\u001b[J\u001b[J\u001b[J\u001b[J\u001b[J\u001b[J\u001b[J\u001b[J\u001b[J\u001b[J\u001b[J\u001b[J\u001b[J\u001b[J\u001b[J\u001b[J\u001b[J\u001b[J\u001b[J\u001b[J\u001b[J\u001b[J\u001b[J\u001b[J\u001b[J\u001b[J\u001b[J\u001b[J\u001b[J\u001b[J     total [##################################................] 68.33%\n",
      "this epoch [#################################.................] 66.67%\n",
      "      8200 iter, 13 epoch / 20 epochs\n",
      "    4.1195 iters/sec. Estimated time to finish: 0:15:22.442778.\n",
      "\u001b[4A\u001b[J\u001b[J\u001b[J\u001b[J\u001b[J\u001b[J\u001b[J\u001b[J\u001b[J\u001b[J\u001b[J\u001b[J\u001b[J\u001b[J\u001b[J\u001b[J\u001b[J\u001b[J\u001b[J\u001b[J\u001b[J\u001b[J\u001b[J\u001b[J\u001b[J\u001b[J\u001b[J\u001b[J\u001b[J\u001b[J\u001b[J\u001b[J\u001b[J\u001b[J\u001b[J\u001b[J\u001b[J\u001b[J\u001b[J\u001b[J\u001b[J\u001b[J\u001b[J\u001b[J\u001b[J\u001b[J\u001b[J\u001b[J\u001b[J\u001b[J\u001b[J\u001b[J\u001b[J\u001b[J\u001b[J\u001b[J\u001b[J\u001b[J\u001b[J\u001b[J\u001b[J\u001b[J\u001b[J\u001b[J\u001b[J\u001b[J\u001b[J\u001b[J\u001b[J\u001b[J\u001b[J\u001b[J\u001b[J\u001b[J\u001b[J\u001b[J\u001b[J\u001b[J\u001b[J\u001b[J\u001b[J\u001b[J\u001b[J\u001b[J\u001b[J\u001b[J\u001b[J\u001b[J\u001b[J\u001b[J\u001b[J\u001b[J\u001b[J\u001b[J\u001b[J\u001b[J\u001b[J\u001b[J\u001b[J\u001b[J\u001b[J     total [##################################................] 69.17%\n",
      "this epoch [#########################################.........] 83.33%\n",
      "      8300 iter, 13 epoch / 20 epochs\n",
      "    4.1198 iters/sec. Estimated time to finish: 0:14:58.107337.\n",
      "\u001b[4A\u001b[J\u001b[J\u001b[J\u001b[J\u001b[J\u001b[J\u001b[J\u001b[J\u001b[J\u001b[J\u001b[J\u001b[J\u001b[J\u001b[J\u001b[J\u001b[J\u001b[J\u001b[J\u001b[J\u001b[J\u001b[J\u001b[J\u001b[J\u001b[J\u001b[J\u001b[J\u001b[J\u001b[J\u001b[J\u001b[J\u001b[J\u001b[J\u001b[J\u001b[J\u001b[J\u001b[J\u001b[J\u001b[J\u001b[J\u001b[J\u001b[J\u001b[J\u001b[J\u001b[J\u001b[J\u001b[J\u001b[J\u001b[J\u001b[J\u001b[J\u001b[J\u001b[J\u001b[J\u001b[J\u001b[J\u001b[J\u001b[J\u001b[J\u001b[J\u001b[J\u001b[J\u001b[J\u001b[J\u001b[J\u001b[J\u001b[J\u001b[J\u001b[J\u001b[J\u001b[J\u001b[J\u001b[J\u001b[J\u001b[J\u001b[J\u001b[J\u001b[J\u001b[J\u001b[J\u001b[J\u001b[J\u001b[J\u001b[J\u001b[J\u001b[J\u001b[J\u001b[J\u001b[J\u001b[J\u001b[J\u001b[J\u001b[J\u001b[J\u001b[J\u001b[J\u001b[J\u001b[J\u001b[J\u001b[J\u001b[J14          0.00428655  0.13552               0.998867       0.9837                    \n",
      "\u001b[J     total [###################################...............] 70.00%\n",
      "this epoch [..................................................]  0.00%\n",
      "      8400 iter, 14 epoch / 20 epochs\n",
      "     4.115 iters/sec. Estimated time to finish: 0:14:34.842332.\n",
      "\u001b[4A\u001b[J\u001b[J\u001b[J\u001b[J\u001b[J\u001b[J\u001b[J\u001b[J\u001b[J\u001b[J\u001b[J\u001b[J\u001b[J\u001b[J\u001b[J\u001b[J\u001b[J\u001b[J\u001b[J\u001b[J\u001b[J\u001b[J\u001b[J\u001b[J\u001b[J\u001b[J\u001b[J\u001b[J\u001b[J\u001b[J\u001b[J\u001b[J\u001b[J\u001b[J\u001b[J\u001b[J\u001b[J\u001b[J\u001b[J\u001b[J\u001b[J\u001b[J\u001b[J\u001b[J\u001b[J\u001b[J\u001b[J\u001b[J\u001b[J\u001b[J\u001b[J\u001b[J\u001b[J\u001b[J\u001b[J\u001b[J\u001b[J\u001b[J\u001b[J\u001b[J\u001b[J\u001b[J\u001b[J\u001b[J\u001b[J\u001b[J\u001b[J\u001b[J\u001b[J\u001b[J\u001b[J\u001b[J\u001b[J\u001b[J\u001b[J\u001b[J\u001b[J\u001b[J\u001b[J\u001b[J\u001b[J\u001b[J\u001b[J\u001b[J\u001b[J\u001b[J\u001b[J\u001b[J\u001b[J\u001b[J\u001b[J\u001b[J\u001b[J\u001b[J\u001b[J\u001b[J\u001b[J\u001b[J\u001b[J\u001b[J\u001b[J     total [###################################...............] 70.83%\n",
      "this epoch [########..........................................] 16.67%\n",
      "      8500 iter, 14 epoch / 20 epochs\n",
      "    4.1088 iters/sec. Estimated time to finish: 0:14:11.839476.\n",
      "\u001b[4A\u001b[J\u001b[J\u001b[J\u001b[J\u001b[J\u001b[J\u001b[J\u001b[J\u001b[J\u001b[J\u001b[J\u001b[J\u001b[J\u001b[J\u001b[J\u001b[J\u001b[J\u001b[J\u001b[J\u001b[J\u001b[J\u001b[J\u001b[J\u001b[J\u001b[J\u001b[J\u001b[J\u001b[J\u001b[J\u001b[J\u001b[J\u001b[J\u001b[J\u001b[J\u001b[J\u001b[J\u001b[J\u001b[J\u001b[J\u001b[J\u001b[J\u001b[J\u001b[J\u001b[J\u001b[J\u001b[J\u001b[J\u001b[J\u001b[J\u001b[J\u001b[J\u001b[J\u001b[J\u001b[J\u001b[J\u001b[J\u001b[J\u001b[J\u001b[J\u001b[J\u001b[J\u001b[J\u001b[J\u001b[J\u001b[J\u001b[J\u001b[J\u001b[J\u001b[J\u001b[J\u001b[J\u001b[J\u001b[J\u001b[J\u001b[J\u001b[J\u001b[J\u001b[J\u001b[J\u001b[J\u001b[J\u001b[J\u001b[J\u001b[J\u001b[J\u001b[J\u001b[J\u001b[J\u001b[J\u001b[J\u001b[J\u001b[J\u001b[J\u001b[J\u001b[J\u001b[J\u001b[J\u001b[J\u001b[J\u001b[J\u001b[J     total [###################################...............] 71.67%\n",
      "this epoch [################..................................] 33.33%\n",
      "      8600 iter, 14 epoch / 20 epochs\n",
      "    4.1101 iters/sec. Estimated time to finish: 0:13:47.234772.\n",
      "\u001b[4A\u001b[J\u001b[J\u001b[J\u001b[J\u001b[J\u001b[J\u001b[J\u001b[J\u001b[J\u001b[J\u001b[J\u001b[J\u001b[J\u001b[J\u001b[J\u001b[J\u001b[J\u001b[J\u001b[J\u001b[J\u001b[J\u001b[J\u001b[J\u001b[J\u001b[J\u001b[J\u001b[J\u001b[J\u001b[J\u001b[J\u001b[J\u001b[J\u001b[J\u001b[J\u001b[J\u001b[J\u001b[J\u001b[J\u001b[J\u001b[J\u001b[J\u001b[J\u001b[J\u001b[J\u001b[J\u001b[J\u001b[J\u001b[J\u001b[J\u001b[J\u001b[J\u001b[J\u001b[J\u001b[J\u001b[J\u001b[J\u001b[J\u001b[J\u001b[J\u001b[J\u001b[J\u001b[J\u001b[J\u001b[J\u001b[J\u001b[J\u001b[J\u001b[J\u001b[J\u001b[J\u001b[J\u001b[J\u001b[J\u001b[J\u001b[J\u001b[J\u001b[J\u001b[J\u001b[J\u001b[J\u001b[J\u001b[J\u001b[J\u001b[J\u001b[J\u001b[J\u001b[J\u001b[J\u001b[J\u001b[J\u001b[J\u001b[J\u001b[J\u001b[J\u001b[J\u001b[J\u001b[J\u001b[J\u001b[J\u001b[J\u001b[J     total [####################################..............] 72.50%\n",
      "this epoch [#########################.........................] 50.00%\n",
      "      8700 iter, 14 epoch / 20 epochs\n",
      "    4.1117 iters/sec. Estimated time to finish: 0:13:22.580998.\n",
      "\u001b[4A\u001b[J\u001b[J\u001b[J\u001b[J\u001b[J\u001b[J\u001b[J\u001b[J\u001b[J\u001b[J\u001b[J\u001b[J\u001b[J\u001b[J\u001b[J\u001b[J\u001b[J\u001b[J\u001b[J\u001b[J\u001b[J\u001b[J\u001b[J\u001b[J\u001b[J\u001b[J\u001b[J\u001b[J\u001b[J\u001b[J\u001b[J\u001b[J\u001b[J\u001b[J\u001b[J\u001b[J\u001b[J\u001b[J\u001b[J\u001b[J\u001b[J\u001b[J\u001b[J\u001b[J\u001b[J\u001b[J\u001b[J\u001b[J\u001b[J\u001b[J\u001b[J\u001b[J\u001b[J\u001b[J\u001b[J\u001b[J\u001b[J\u001b[J\u001b[J\u001b[J\u001b[J\u001b[J\u001b[J\u001b[J\u001b[J\u001b[J\u001b[J\u001b[J\u001b[J\u001b[J\u001b[J\u001b[J\u001b[J\u001b[J\u001b[J\u001b[J\u001b[J\u001b[J\u001b[J\u001b[J\u001b[J\u001b[J\u001b[J\u001b[J\u001b[J\u001b[J\u001b[J\u001b[J\u001b[J\u001b[J\u001b[J\u001b[J\u001b[J\u001b[J\u001b[J\u001b[J\u001b[J\u001b[J\u001b[J\u001b[J\u001b[J     total [####################################..............] 73.33%\n",
      "this epoch [#################################.................] 66.67%\n",
      "      8800 iter, 14 epoch / 20 epochs\n",
      "    4.1109 iters/sec. Estimated time to finish: 0:12:58.413763.\n",
      "\u001b[4A\u001b[J\u001b[J\u001b[J\u001b[J\u001b[J\u001b[J\u001b[J\u001b[J\u001b[J\u001b[J\u001b[J\u001b[J\u001b[J\u001b[J\u001b[J\u001b[J\u001b[J\u001b[J\u001b[J\u001b[J\u001b[J\u001b[J\u001b[J\u001b[J\u001b[J\u001b[J\u001b[J\u001b[J\u001b[J\u001b[J\u001b[J\u001b[J\u001b[J\u001b[J\u001b[J\u001b[J\u001b[J\u001b[J\u001b[J\u001b[J\u001b[J\u001b[J\u001b[J\u001b[J\u001b[J\u001b[J\u001b[J\u001b[J\u001b[J\u001b[J\u001b[J\u001b[J\u001b[J\u001b[J\u001b[J\u001b[J\u001b[J\u001b[J\u001b[J\u001b[J\u001b[J\u001b[J\u001b[J\u001b[J\u001b[J\u001b[J\u001b[J\u001b[J\u001b[J\u001b[J\u001b[J\u001b[J\u001b[J\u001b[J\u001b[J\u001b[J\u001b[J\u001b[J\u001b[J\u001b[J\u001b[J\u001b[J\u001b[J\u001b[J\u001b[J\u001b[J\u001b[J\u001b[J\u001b[J\u001b[J\u001b[J\u001b[J\u001b[J\u001b[J\u001b[J\u001b[J\u001b[J\u001b[J\u001b[J\u001b[J\u001b[J     total [#####################################.............] 74.17%\n",
      "this epoch [#########################################.........] 83.33%\n",
      "      8900 iter, 14 epoch / 20 epochs\n",
      "    4.1095 iters/sec. Estimated time to finish: 0:12:34.342373.\n",
      "\u001b[4A\u001b[J\u001b[J\u001b[J\u001b[J\u001b[J\u001b[J\u001b[J\u001b[J\u001b[J\u001b[J\u001b[J\u001b[J\u001b[J\u001b[J\u001b[J\u001b[J\u001b[J\u001b[J\u001b[J\u001b[J\u001b[J\u001b[J\u001b[J\u001b[J\u001b[J\u001b[J\u001b[J\u001b[J\u001b[J\u001b[J\u001b[J\u001b[J\u001b[J\u001b[J\u001b[J\u001b[J\u001b[J\u001b[J\u001b[J\u001b[J\u001b[J\u001b[J\u001b[J\u001b[J\u001b[J\u001b[J\u001b[J\u001b[J\u001b[J\u001b[J\u001b[J\u001b[J\u001b[J\u001b[J\u001b[J\u001b[J\u001b[J\u001b[J\u001b[J\u001b[J\u001b[J\u001b[J\u001b[J\u001b[J\u001b[J\u001b[J\u001b[J\u001b[J\u001b[J\u001b[J\u001b[J\u001b[J\u001b[J\u001b[J\u001b[J\u001b[J\u001b[J\u001b[J\u001b[J\u001b[J\u001b[J\u001b[J\u001b[J\u001b[J\u001b[J\u001b[J\u001b[J\u001b[J\u001b[J\u001b[J\u001b[J\u001b[J\u001b[J\u001b[J\u001b[J\u001b[J\u001b[J\u001b[J\u001b[J\u001b[J15          0.00863869  0.141141              0.99795        0.9825                    \n",
      "\u001b[J     total [#####################################.............] 75.00%\n",
      "this epoch [..................................................]  0.00%\n",
      "      9000 iter, 15 epoch / 20 epochs\n",
      "     4.105 iters/sec. Estimated time to finish: 0:12:10.819177.\n",
      "\u001b[4A\u001b[J\u001b[J\u001b[J\u001b[J\u001b[J\u001b[J\u001b[J\u001b[J\u001b[J\u001b[J\u001b[J\u001b[J\u001b[J\u001b[J\u001b[J\u001b[J\u001b[J\u001b[J\u001b[J\u001b[J\u001b[J\u001b[J\u001b[J\u001b[J\u001b[J\u001b[J\u001b[J\u001b[J\u001b[J\u001b[J\u001b[J\u001b[J\u001b[J\u001b[J\u001b[J\u001b[J\u001b[J\u001b[J\u001b[J\u001b[J\u001b[J\u001b[J\u001b[J\u001b[J\u001b[J\u001b[J\u001b[J\u001b[J\u001b[J\u001b[J\u001b[J\u001b[J\u001b[J\u001b[J\u001b[J\u001b[J\u001b[J\u001b[J\u001b[J\u001b[J\u001b[J\u001b[J\u001b[J\u001b[J\u001b[J\u001b[J\u001b[J\u001b[J\u001b[J\u001b[J\u001b[J\u001b[J\u001b[J\u001b[J\u001b[J\u001b[J\u001b[J\u001b[J\u001b[J\u001b[J\u001b[J\u001b[J\u001b[J\u001b[J\u001b[J\u001b[J\u001b[J\u001b[J\u001b[J\u001b[J\u001b[J\u001b[J\u001b[J\u001b[J\u001b[J\u001b[J\u001b[J\u001b[J\u001b[J\u001b[J\u001b[J     total [#####################################.............] 75.83%\n",
      "this epoch [########..........................................] 16.67%\n",
      "      9100 iter, 15 epoch / 20 epochs\n",
      "    4.0987 iters/sec. Estimated time to finish: 0:11:47.539662.\n",
      "\u001b[4A\u001b[J\u001b[J\u001b[J\u001b[J\u001b[J\u001b[J\u001b[J\u001b[J\u001b[J\u001b[J\u001b[J\u001b[J\u001b[J\u001b[J\u001b[J\u001b[J\u001b[J\u001b[J\u001b[J\u001b[J\u001b[J\u001b[J\u001b[J\u001b[J\u001b[J\u001b[J\u001b[J\u001b[J\u001b[J\u001b[J\u001b[J\u001b[J\u001b[J\u001b[J\u001b[J\u001b[J\u001b[J\u001b[J\u001b[J\u001b[J\u001b[J\u001b[J\u001b[J\u001b[J\u001b[J\u001b[J\u001b[J\u001b[J\u001b[J\u001b[J\u001b[J\u001b[J\u001b[J\u001b[J\u001b[J\u001b[J\u001b[J\u001b[J\u001b[J\u001b[J\u001b[J\u001b[J\u001b[J\u001b[J\u001b[J\u001b[J\u001b[J\u001b[J\u001b[J\u001b[J\u001b[J\u001b[J\u001b[J\u001b[J\u001b[J\u001b[J\u001b[J\u001b[J\u001b[J\u001b[J\u001b[J\u001b[J\u001b[J\u001b[J\u001b[J\u001b[J\u001b[J\u001b[J\u001b[J\u001b[J\u001b[J\u001b[J\u001b[J\u001b[J\u001b[J\u001b[J\u001b[J\u001b[J\u001b[J\u001b[J\u001b[J     total [######################################............] 76.67%\n",
      "this epoch [################..................................] 33.33%\n",
      "      9200 iter, 15 epoch / 20 epochs\n",
      "    4.0997 iters/sec. Estimated time to finish: 0:11:22.973620.\n",
      "\u001b[4A\u001b[J\u001b[J\u001b[J\u001b[J\u001b[J\u001b[J\u001b[J\u001b[J\u001b[J\u001b[J\u001b[J\u001b[J\u001b[J\u001b[J\u001b[J\u001b[J\u001b[J\u001b[J\u001b[J\u001b[J\u001b[J\u001b[J\u001b[J\u001b[J\u001b[J\u001b[J\u001b[J\u001b[J\u001b[J\u001b[J\u001b[J\u001b[J\u001b[J\u001b[J\u001b[J\u001b[J\u001b[J\u001b[J\u001b[J\u001b[J\u001b[J\u001b[J\u001b[J\u001b[J\u001b[J\u001b[J\u001b[J\u001b[J\u001b[J\u001b[J\u001b[J\u001b[J\u001b[J\u001b[J\u001b[J\u001b[J\u001b[J\u001b[J\u001b[J\u001b[J\u001b[J\u001b[J\u001b[J\u001b[J\u001b[J\u001b[J\u001b[J\u001b[J\u001b[J\u001b[J\u001b[J\u001b[J\u001b[J\u001b[J\u001b[J\u001b[J\u001b[J\u001b[J\u001b[J\u001b[J\u001b[J\u001b[J\u001b[J\u001b[J\u001b[J\u001b[J\u001b[J\u001b[J\u001b[J\u001b[J\u001b[J\u001b[J\u001b[J\u001b[J\u001b[J\u001b[J\u001b[J\u001b[J\u001b[J\u001b[J\u001b[J     total [######################################............] 77.50%\n",
      "this epoch [#########################.........................] 50.00%\n",
      "      9300 iter, 15 epoch / 20 epochs\n",
      "    4.0994 iters/sec. Estimated time to finish: 0:10:58.634448.\n",
      "\u001b[4A\u001b[J\u001b[J\u001b[J\u001b[J\u001b[J\u001b[J\u001b[J\u001b[J\u001b[J\u001b[J\u001b[J\u001b[J\u001b[J\u001b[J\u001b[J\u001b[J\u001b[J\u001b[J\u001b[J\u001b[J\u001b[J\u001b[J\u001b[J\u001b[J\u001b[J\u001b[J\u001b[J\u001b[J\u001b[J\u001b[J\u001b[J\u001b[J\u001b[J\u001b[J\u001b[J\u001b[J\u001b[J\u001b[J\u001b[J\u001b[J\u001b[J\u001b[J\u001b[J\u001b[J\u001b[J\u001b[J\u001b[J\u001b[J\u001b[J\u001b[J\u001b[J\u001b[J\u001b[J\u001b[J\u001b[J\u001b[J\u001b[J\u001b[J\u001b[J\u001b[J\u001b[J\u001b[J\u001b[J\u001b[J\u001b[J\u001b[J\u001b[J\u001b[J\u001b[J\u001b[J\u001b[J\u001b[J\u001b[J\u001b[J\u001b[J\u001b[J\u001b[J\u001b[J\u001b[J\u001b[J\u001b[J\u001b[J\u001b[J\u001b[J\u001b[J\u001b[J\u001b[J\u001b[J\u001b[J\u001b[J\u001b[J\u001b[J\u001b[J\u001b[J\u001b[J\u001b[J\u001b[J\u001b[J\u001b[J\u001b[J\u001b[J     total [#######################################...........] 78.33%\n",
      "this epoch [#################################.................] 66.67%\n",
      "      9400 iter, 15 epoch / 20 epochs\n",
      "    4.0984 iters/sec. Estimated time to finish: 0:10:34.396307.\n",
      "\u001b[4A\u001b[J\u001b[J\u001b[J\u001b[J\u001b[J\u001b[J\u001b[J\u001b[J\u001b[J\u001b[J\u001b[J\u001b[J\u001b[J\u001b[J\u001b[J\u001b[J\u001b[J\u001b[J\u001b[J\u001b[J\u001b[J\u001b[J\u001b[J\u001b[J\u001b[J\u001b[J\u001b[J\u001b[J\u001b[J\u001b[J\u001b[J\u001b[J\u001b[J\u001b[J\u001b[J\u001b[J\u001b[J\u001b[J\u001b[J\u001b[J\u001b[J\u001b[J\u001b[J\u001b[J\u001b[J\u001b[J\u001b[J\u001b[J\u001b[J\u001b[J\u001b[J\u001b[J\u001b[J\u001b[J\u001b[J\u001b[J\u001b[J\u001b[J\u001b[J\u001b[J\u001b[J\u001b[J\u001b[J\u001b[J\u001b[J\u001b[J\u001b[J\u001b[J\u001b[J\u001b[J\u001b[J\u001b[J\u001b[J\u001b[J\u001b[J\u001b[J\u001b[J\u001b[J\u001b[J\u001b[J\u001b[J\u001b[J\u001b[J\u001b[J\u001b[J\u001b[J\u001b[J\u001b[J\u001b[J\u001b[J\u001b[J\u001b[J\u001b[J\u001b[J\u001b[J\u001b[J\u001b[J\u001b[J\u001b[J\u001b[J\u001b[J     total [#######################################...........] 79.17%\n",
      "this epoch [#########################################.........] 83.33%\n",
      "      9500 iter, 15 epoch / 20 epochs\n",
      "    4.0982 iters/sec. Estimated time to finish: 0:10:10.029246.\n",
      "\u001b[4A\u001b[J\u001b[J\u001b[J\u001b[J\u001b[J\u001b[J\u001b[J\u001b[J\u001b[J\u001b[J\u001b[J\u001b[J\u001b[J\u001b[J\u001b[J\u001b[J\u001b[J\u001b[J\u001b[J\u001b[J\u001b[J\u001b[J\u001b[J\u001b[J\u001b[J\u001b[J\u001b[J\u001b[J\u001b[J\u001b[J\u001b[J\u001b[J\u001b[J\u001b[J\u001b[J\u001b[J\u001b[J\u001b[J\u001b[J\u001b[J\u001b[J\u001b[J\u001b[J\u001b[J\u001b[J\u001b[J\u001b[J\u001b[J\u001b[J\u001b[J\u001b[J\u001b[J\u001b[J\u001b[J\u001b[J\u001b[J\u001b[J\u001b[J\u001b[J\u001b[J\u001b[J\u001b[J\u001b[J\u001b[J\u001b[J\u001b[J\u001b[J\u001b[J\u001b[J\u001b[J\u001b[J\u001b[J\u001b[J\u001b[J\u001b[J\u001b[J\u001b[J\u001b[J\u001b[J\u001b[J\u001b[J\u001b[J\u001b[J\u001b[J\u001b[J\u001b[J\u001b[J\u001b[J\u001b[J\u001b[J\u001b[J\u001b[J\u001b[J\u001b[J\u001b[J\u001b[J\u001b[J\u001b[J\u001b[J\u001b[J16          0.0068915   0.120253              0.9985         0.9846                    \n",
      "\u001b[J     total [########################################..........] 80.00%\n",
      "this epoch [..................................................]  0.00%\n",
      "      9600 iter, 16 epoch / 20 epochs\n",
      "    4.0927 iters/sec. Estimated time to finish: 0:09:46.406774.\n",
      "\u001b[4A\u001b[J\u001b[J\u001b[J\u001b[J\u001b[J\u001b[J\u001b[J\u001b[J\u001b[J\u001b[J\u001b[J\u001b[J\u001b[J\u001b[J\u001b[J\u001b[J\u001b[J\u001b[J\u001b[J\u001b[J\u001b[J\u001b[J\u001b[J\u001b[J\u001b[J\u001b[J\u001b[J\u001b[J\u001b[J\u001b[J\u001b[J\u001b[J\u001b[J\u001b[J\u001b[J\u001b[J\u001b[J\u001b[J\u001b[J\u001b[J\u001b[J\u001b[J\u001b[J\u001b[J\u001b[J\u001b[J\u001b[J\u001b[J\u001b[J\u001b[J\u001b[J\u001b[J\u001b[J\u001b[J\u001b[J\u001b[J\u001b[J\u001b[J\u001b[J\u001b[J\u001b[J\u001b[J\u001b[J\u001b[J\u001b[J\u001b[J\u001b[J\u001b[J\u001b[J\u001b[J\u001b[J\u001b[J\u001b[J\u001b[J\u001b[J\u001b[J\u001b[J\u001b[J\u001b[J\u001b[J\u001b[J\u001b[J\u001b[J\u001b[J\u001b[J\u001b[J\u001b[J\u001b[J\u001b[J\u001b[J\u001b[J\u001b[J\u001b[J\u001b[J\u001b[J\u001b[J\u001b[J\u001b[J\u001b[J\u001b[J\u001b[J     total [########################################..........] 80.83%\n",
      "this epoch [########..........................................] 16.67%\n",
      "      9700 iter, 16 epoch / 20 epochs\n",
      "    4.0861 iters/sec. Estimated time to finish: 0:09:22.890097.\n",
      "\u001b[4A\u001b[J\u001b[J\u001b[J\u001b[J\u001b[J\u001b[J\u001b[J\u001b[J\u001b[J\u001b[J\u001b[J\u001b[J\u001b[J\u001b[J\u001b[J\u001b[J\u001b[J\u001b[J\u001b[J\u001b[J\u001b[J\u001b[J\u001b[J\u001b[J\u001b[J\u001b[J\u001b[J\u001b[J\u001b[J\u001b[J\u001b[J\u001b[J\u001b[J\u001b[J\u001b[J\u001b[J\u001b[J\u001b[J\u001b[J\u001b[J\u001b[J\u001b[J\u001b[J\u001b[J\u001b[J\u001b[J\u001b[J\u001b[J\u001b[J\u001b[J\u001b[J\u001b[J\u001b[J\u001b[J\u001b[J\u001b[J\u001b[J\u001b[J\u001b[J\u001b[J\u001b[J\u001b[J\u001b[J\u001b[J\u001b[J\u001b[J\u001b[J\u001b[J\u001b[J\u001b[J\u001b[J\u001b[J\u001b[J\u001b[J\u001b[J\u001b[J\u001b[J\u001b[J\u001b[J\u001b[J\u001b[J\u001b[J\u001b[J\u001b[J\u001b[J\u001b[J\u001b[J\u001b[J\u001b[J\u001b[J\u001b[J\u001b[J\u001b[J\u001b[J\u001b[J\u001b[J\u001b[J\u001b[J\u001b[J\u001b[J\u001b[J     total [########################################..........] 81.67%\n",
      "this epoch [################..................................] 33.33%\n",
      "      9800 iter, 16 epoch / 20 epochs\n",
      "    4.0854 iters/sec. Estimated time to finish: 0:08:58.506864.\n",
      "\u001b[4A\u001b[J\u001b[J\u001b[J\u001b[J\u001b[J\u001b[J\u001b[J\u001b[J\u001b[J\u001b[J\u001b[J\u001b[J\u001b[J\u001b[J\u001b[J\u001b[J\u001b[J\u001b[J\u001b[J\u001b[J\u001b[J\u001b[J\u001b[J\u001b[J\u001b[J\u001b[J\u001b[J\u001b[J\u001b[J\u001b[J\u001b[J\u001b[J\u001b[J\u001b[J\u001b[J\u001b[J\u001b[J\u001b[J\u001b[J\u001b[J\u001b[J\u001b[J\u001b[J\u001b[J\u001b[J\u001b[J\u001b[J\u001b[J\u001b[J\u001b[J\u001b[J\u001b[J\u001b[J\u001b[J\u001b[J\u001b[J\u001b[J\u001b[J\u001b[J\u001b[J\u001b[J\u001b[J\u001b[J\u001b[J\u001b[J\u001b[J\u001b[J\u001b[J\u001b[J\u001b[J\u001b[J\u001b[J\u001b[J\u001b[J\u001b[J\u001b[J\u001b[J\u001b[J\u001b[J\u001b[J\u001b[J\u001b[J\u001b[J\u001b[J\u001b[J\u001b[J\u001b[J\u001b[J\u001b[J\u001b[J\u001b[J\u001b[J\u001b[J\u001b[J\u001b[J\u001b[J\u001b[J\u001b[J\u001b[J\u001b[J\u001b[J     total [#########################################.........] 82.50%\n",
      "this epoch [#########################.........................] 50.00%\n",
      "      9900 iter, 16 epoch / 20 epochs\n",
      "    4.0859 iters/sec. Estimated time to finish: 0:08:33.967871.\n",
      "\u001b[4A\u001b[J\u001b[J\u001b[J\u001b[J\u001b[J\u001b[J\u001b[J\u001b[J\u001b[J\u001b[J\u001b[J\u001b[J\u001b[J\u001b[J\u001b[J\u001b[J\u001b[J\u001b[J\u001b[J\u001b[J\u001b[J\u001b[J\u001b[J\u001b[J\u001b[J\u001b[J\u001b[J\u001b[J\u001b[J\u001b[J\u001b[J\u001b[J\u001b[J\u001b[J\u001b[J\u001b[J\u001b[J\u001b[J\u001b[J\u001b[J\u001b[J\u001b[J\u001b[J\u001b[J\u001b[J\u001b[J\u001b[J\u001b[J\u001b[J\u001b[J\u001b[J\u001b[J\u001b[J\u001b[J\u001b[J\u001b[J\u001b[J\u001b[J\u001b[J\u001b[J\u001b[J\u001b[J\u001b[J\u001b[J\u001b[J\u001b[J\u001b[J\u001b[J\u001b[J\u001b[J\u001b[J\u001b[J\u001b[J\u001b[J\u001b[J\u001b[J\u001b[J\u001b[J\u001b[J\u001b[J\u001b[J\u001b[J\u001b[J\u001b[J\u001b[J\u001b[J\u001b[J\u001b[J\u001b[J\u001b[J\u001b[J\u001b[J\u001b[J\u001b[J\u001b[J\u001b[J\u001b[J\u001b[J\u001b[J\u001b[J\u001b[J     total [#########################################.........] 83.33%\n",
      "this epoch [#################################.................] 66.67%\n",
      "     10000 iter, 16 epoch / 20 epochs\n",
      "     4.085 iters/sec. Estimated time to finish: 0:08:09.599495.\n",
      "\u001b[4A\u001b[J\u001b[J\u001b[J\u001b[J\u001b[J\u001b[J\u001b[J\u001b[J\u001b[J\u001b[J\u001b[J\u001b[J\u001b[J\u001b[J\u001b[J\u001b[J\u001b[J\u001b[J\u001b[J\u001b[J\u001b[J\u001b[J\u001b[J\u001b[J\u001b[J\u001b[J\u001b[J\u001b[J\u001b[J\u001b[J\u001b[J\u001b[J\u001b[J\u001b[J\u001b[J\u001b[J\u001b[J\u001b[J\u001b[J\u001b[J\u001b[J\u001b[J\u001b[J\u001b[J\u001b[J\u001b[J\u001b[J\u001b[J\u001b[J\u001b[J\u001b[J\u001b[J\u001b[J\u001b[J\u001b[J\u001b[J\u001b[J\u001b[J\u001b[J\u001b[J\u001b[J\u001b[J\u001b[J\u001b[J\u001b[J\u001b[J\u001b[J\u001b[J\u001b[J\u001b[J\u001b[J\u001b[J\u001b[J\u001b[J\u001b[J\u001b[J\u001b[J\u001b[J\u001b[J\u001b[J\u001b[J\u001b[J\u001b[J\u001b[J\u001b[J\u001b[J\u001b[J\u001b[J\u001b[J\u001b[J\u001b[J\u001b[J\u001b[J\u001b[J\u001b[J\u001b[J\u001b[J\u001b[J\u001b[J\u001b[J\u001b[J     total [##########################################........] 84.17%\n",
      "this epoch [#########################################.........] 83.33%\n",
      "     10100 iter, 16 epoch / 20 epochs\n",
      "    4.0837 iters/sec. Estimated time to finish: 0:07:45.263999.\n",
      "\u001b[4A\u001b[J\u001b[J\u001b[J\u001b[J\u001b[J\u001b[J\u001b[J\u001b[J\u001b[J\u001b[J\u001b[J\u001b[J\u001b[J\u001b[J\u001b[J\u001b[J\u001b[J\u001b[J\u001b[J\u001b[J\u001b[J\u001b[J\u001b[J\u001b[J\u001b[J\u001b[J\u001b[J\u001b[J\u001b[J\u001b[J\u001b[J\u001b[J\u001b[J\u001b[J\u001b[J\u001b[J\u001b[J\u001b[J\u001b[J\u001b[J\u001b[J\u001b[J\u001b[J\u001b[J\u001b[J\u001b[J\u001b[J\u001b[J\u001b[J\u001b[J\u001b[J\u001b[J\u001b[J\u001b[J\u001b[J\u001b[J\u001b[J\u001b[J\u001b[J\u001b[J\u001b[J\u001b[J\u001b[J\u001b[J\u001b[J\u001b[J\u001b[J\u001b[J\u001b[J\u001b[J\u001b[J\u001b[J\u001b[J\u001b[J\u001b[J\u001b[J\u001b[J\u001b[J\u001b[J\u001b[J\u001b[J\u001b[J\u001b[J\u001b[J\u001b[J\u001b[J\u001b[J\u001b[J\u001b[J\u001b[J\u001b[J\u001b[J\u001b[J\u001b[J\u001b[J\u001b[J\u001b[J\u001b[J\u001b[J\u001b[J17          0.00548251  0.140729              0.998567       0.9843                    \n",
      "\u001b[J     total [##########################################........] 85.00%\n",
      "this epoch [..................................................]  0.00%\n",
      "     10200 iter, 17 epoch / 20 epochs\n",
      "    4.0784 iters/sec. Estimated time to finish: 0:07:21.352346.\n",
      "\u001b[4A\u001b[J\u001b[J\u001b[J\u001b[J\u001b[J\u001b[J\u001b[J\u001b[J\u001b[J\u001b[J\u001b[J\u001b[J\u001b[J\u001b[J\u001b[J\u001b[J\u001b[J\u001b[J\u001b[J\u001b[J\u001b[J\u001b[J\u001b[J\u001b[J\u001b[J\u001b[J\u001b[J\u001b[J\u001b[J\u001b[J\u001b[J\u001b[J\u001b[J\u001b[J\u001b[J\u001b[J\u001b[J\u001b[J\u001b[J\u001b[J\u001b[J\u001b[J\u001b[J\u001b[J\u001b[J\u001b[J\u001b[J\u001b[J\u001b[J\u001b[J\u001b[J\u001b[J\u001b[J\u001b[J\u001b[J\u001b[J\u001b[J\u001b[J\u001b[J\u001b[J\u001b[J\u001b[J\u001b[J\u001b[J\u001b[J\u001b[J\u001b[J\u001b[J\u001b[J\u001b[J\u001b[J\u001b[J\u001b[J\u001b[J\u001b[J\u001b[J\u001b[J\u001b[J\u001b[J\u001b[J\u001b[J\u001b[J\u001b[J\u001b[J\u001b[J\u001b[J\u001b[J\u001b[J\u001b[J\u001b[J\u001b[J\u001b[J\u001b[J\u001b[J\u001b[J\u001b[J\u001b[J\u001b[J\u001b[J\u001b[J\u001b[J     total [##########################################........] 85.83%\n",
      "this epoch [########..........................................] 16.67%\n",
      "     10300 iter, 17 epoch / 20 epochs\n",
      "    4.0668 iters/sec. Estimated time to finish: 0:06:58.018229.\n",
      "\u001b[4A\u001b[J\u001b[J\u001b[J\u001b[J\u001b[J\u001b[J\u001b[J\u001b[J\u001b[J\u001b[J\u001b[J\u001b[J\u001b[J\u001b[J\u001b[J\u001b[J\u001b[J\u001b[J\u001b[J\u001b[J\u001b[J\u001b[J\u001b[J\u001b[J\u001b[J\u001b[J\u001b[J\u001b[J\u001b[J\u001b[J\u001b[J\u001b[J\u001b[J\u001b[J\u001b[J\u001b[J\u001b[J\u001b[J\u001b[J\u001b[J\u001b[J\u001b[J\u001b[J\u001b[J\u001b[J\u001b[J\u001b[J\u001b[J\u001b[J\u001b[J\u001b[J\u001b[J\u001b[J\u001b[J\u001b[J\u001b[J\u001b[J\u001b[J\u001b[J\u001b[J\u001b[J\u001b[J\u001b[J\u001b[J\u001b[J\u001b[J\u001b[J\u001b[J\u001b[J\u001b[J\u001b[J\u001b[J\u001b[J\u001b[J\u001b[J\u001b[J\u001b[J\u001b[J\u001b[J\u001b[J\u001b[J\u001b[J\u001b[J\u001b[J\u001b[J\u001b[J\u001b[J\u001b[J\u001b[J\u001b[J\u001b[J\u001b[J\u001b[J\u001b[J\u001b[J\u001b[J\u001b[J\u001b[J\u001b[J\u001b[J\u001b[J     total [###########################################.......] 86.67%\n",
      "this epoch [################..................................] 33.33%\n",
      "     10400 iter, 17 epoch / 20 epochs\n",
      "    4.0571 iters/sec. Estimated time to finish: 0:06:34.367440.\n",
      "\u001b[4A\u001b[J\u001b[J\u001b[J\u001b[J\u001b[J\u001b[J\u001b[J\u001b[J\u001b[J\u001b[J\u001b[J\u001b[J\u001b[J\u001b[J\u001b[J\u001b[J\u001b[J\u001b[J\u001b[J\u001b[J\u001b[J\u001b[J\u001b[J\u001b[J\u001b[J\u001b[J\u001b[J\u001b[J\u001b[J\u001b[J\u001b[J\u001b[J\u001b[J\u001b[J\u001b[J\u001b[J\u001b[J\u001b[J\u001b[J\u001b[J\u001b[J\u001b[J\u001b[J\u001b[J\u001b[J\u001b[J\u001b[J\u001b[J\u001b[J\u001b[J\u001b[J\u001b[J\u001b[J\u001b[J\u001b[J\u001b[J\u001b[J\u001b[J\u001b[J\u001b[J\u001b[J\u001b[J\u001b[J\u001b[J\u001b[J\u001b[J\u001b[J\u001b[J\u001b[J\u001b[J\u001b[J\u001b[J\u001b[J\u001b[J\u001b[J\u001b[J\u001b[J\u001b[J\u001b[J\u001b[J\u001b[J\u001b[J\u001b[J\u001b[J\u001b[J\u001b[J\u001b[J\u001b[J\u001b[J\u001b[J\u001b[J\u001b[J\u001b[J\u001b[J\u001b[J\u001b[J\u001b[J\u001b[J\u001b[J\u001b[J\u001b[J     total [###########################################.......] 87.50%\n",
      "this epoch [#########################.........................] 50.00%\n",
      "     10500 iter, 17 epoch / 20 epochs\n",
      "     4.046 iters/sec. Estimated time to finish: 0:06:10.739527.\n",
      "\u001b[4A\u001b[J\u001b[J\u001b[J\u001b[J\u001b[J\u001b[J\u001b[J\u001b[J\u001b[J\u001b[J\u001b[J\u001b[J\u001b[J\u001b[J\u001b[J\u001b[J\u001b[J\u001b[J\u001b[J\u001b[J\u001b[J\u001b[J\u001b[J\u001b[J\u001b[J\u001b[J\u001b[J\u001b[J\u001b[J\u001b[J\u001b[J\u001b[J\u001b[J\u001b[J\u001b[J\u001b[J\u001b[J\u001b[J\u001b[J\u001b[J\u001b[J\u001b[J\u001b[J\u001b[J\u001b[J\u001b[J\u001b[J\u001b[J\u001b[J\u001b[J\u001b[J\u001b[J\u001b[J\u001b[J\u001b[J\u001b[J\u001b[J\u001b[J\u001b[J\u001b[J\u001b[J\u001b[J\u001b[J\u001b[J\u001b[J\u001b[J\u001b[J\u001b[J\u001b[J\u001b[J\u001b[J\u001b[J\u001b[J\u001b[J\u001b[J\u001b[J\u001b[J\u001b[J\u001b[J\u001b[J\u001b[J\u001b[J\u001b[J\u001b[J\u001b[J\u001b[J\u001b[J\u001b[J\u001b[J\u001b[J\u001b[J\u001b[J\u001b[J\u001b[J\u001b[J\u001b[J\u001b[J\u001b[J\u001b[J\u001b[J\u001b[J     total [############################################......] 88.33%\n",
      "this epoch [#################################.................] 66.67%\n",
      "     10600 iter, 17 epoch / 20 epochs\n",
      "    4.0386 iters/sec. Estimated time to finish: 0:05:46.657708.\n",
      "\u001b[4A\u001b[J\u001b[J\u001b[J\u001b[J\u001b[J\u001b[J\u001b[J\u001b[J\u001b[J\u001b[J\u001b[J\u001b[J\u001b[J\u001b[J\u001b[J\u001b[J\u001b[J\u001b[J\u001b[J\u001b[J\u001b[J\u001b[J\u001b[J\u001b[J\u001b[J\u001b[J\u001b[J\u001b[J\u001b[J\u001b[J\u001b[J\u001b[J\u001b[J\u001b[J\u001b[J\u001b[J\u001b[J\u001b[J\u001b[J\u001b[J\u001b[J\u001b[J\u001b[J\u001b[J\u001b[J\u001b[J\u001b[J\u001b[J\u001b[J\u001b[J\u001b[J\u001b[J\u001b[J\u001b[J\u001b[J\u001b[J\u001b[J\u001b[J\u001b[J\u001b[J\u001b[J\u001b[J\u001b[J\u001b[J\u001b[J\u001b[J\u001b[J\u001b[J\u001b[J\u001b[J\u001b[J\u001b[J\u001b[J\u001b[J\u001b[J\u001b[J\u001b[J\u001b[J\u001b[J\u001b[J\u001b[J\u001b[J\u001b[J\u001b[J\u001b[J\u001b[J\u001b[J\u001b[J\u001b[J\u001b[J\u001b[J\u001b[J\u001b[J\u001b[J\u001b[J\u001b[J\u001b[J\u001b[J\u001b[J\u001b[J\u001b[J     total [############################################......] 89.17%\n",
      "this epoch [#########################################.........] 83.33%\n",
      "     10700 iter, 17 epoch / 20 epochs\n",
      "    4.0289 iters/sec. Estimated time to finish: 0:05:22.670732.\n",
      "\u001b[4A\u001b[J\u001b[J\u001b[J\u001b[J\u001b[J\u001b[J\u001b[J\u001b[J\u001b[J\u001b[J\u001b[J\u001b[J\u001b[J\u001b[J\u001b[J\u001b[J\u001b[J\u001b[J\u001b[J\u001b[J\u001b[J\u001b[J\u001b[J\u001b[J\u001b[J\u001b[J\u001b[J\u001b[J\u001b[J\u001b[J\u001b[J\u001b[J\u001b[J\u001b[J\u001b[J\u001b[J\u001b[J\u001b[J\u001b[J\u001b[J\u001b[J\u001b[J\u001b[J\u001b[J\u001b[J\u001b[J\u001b[J\u001b[J\u001b[J\u001b[J\u001b[J\u001b[J\u001b[J\u001b[J\u001b[J\u001b[J\u001b[J\u001b[J\u001b[J\u001b[J\u001b[J\u001b[J\u001b[J\u001b[J\u001b[J\u001b[J\u001b[J\u001b[J\u001b[J\u001b[J\u001b[J\u001b[J\u001b[J\u001b[J\u001b[J\u001b[J\u001b[J\u001b[J\u001b[J\u001b[J\u001b[J\u001b[J\u001b[J\u001b[J\u001b[J\u001b[J\u001b[J\u001b[J\u001b[J\u001b[J\u001b[J\u001b[J\u001b[J\u001b[J\u001b[J\u001b[J\u001b[J\u001b[J\u001b[J\u001b[J18          0.00538867  0.168365              0.998767       0.9799                    \n",
      "\u001b[J     total [#############################################.....] 90.00%\n",
      "this epoch [..................................................]  0.00%\n",
      "     10800 iter, 18 epoch / 20 epochs\n",
      "    4.0128 iters/sec. Estimated time to finish: 0:04:59.040383.\n",
      "\u001b[4A\u001b[J\u001b[J\u001b[J\u001b[J\u001b[J\u001b[J\u001b[J\u001b[J\u001b[J\u001b[J\u001b[J\u001b[J\u001b[J\u001b[J\u001b[J\u001b[J\u001b[J\u001b[J\u001b[J\u001b[J\u001b[J\u001b[J\u001b[J\u001b[J\u001b[J\u001b[J\u001b[J\u001b[J\u001b[J\u001b[J\u001b[J\u001b[J\u001b[J\u001b[J\u001b[J\u001b[J\u001b[J\u001b[J\u001b[J\u001b[J\u001b[J\u001b[J\u001b[J\u001b[J\u001b[J\u001b[J\u001b[J\u001b[J\u001b[J\u001b[J\u001b[J\u001b[J\u001b[J\u001b[J\u001b[J\u001b[J\u001b[J\u001b[J\u001b[J\u001b[J\u001b[J\u001b[J\u001b[J\u001b[J\u001b[J\u001b[J\u001b[J\u001b[J\u001b[J\u001b[J\u001b[J\u001b[J\u001b[J\u001b[J\u001b[J\u001b[J\u001b[J\u001b[J\u001b[J\u001b[J\u001b[J\u001b[J\u001b[J\u001b[J\u001b[J\u001b[J\u001b[J\u001b[J\u001b[J\u001b[J\u001b[J\u001b[J\u001b[J\u001b[J\u001b[J\u001b[J\u001b[J\u001b[J\u001b[J\u001b[J\u001b[J     total [#############################################.....] 90.83%\n",
      "this epoch [########..........................................] 16.67%\n",
      "     10900 iter, 18 epoch / 20 epochs\n",
      "    3.9947 iters/sec. Estimated time to finish: 0:04:35.363193.\n",
      "\u001b[4A\u001b[J\u001b[J\u001b[J\u001b[J\u001b[J\u001b[J\u001b[J\u001b[J\u001b[J\u001b[J\u001b[J\u001b[J\u001b[J\u001b[J\u001b[J\u001b[J\u001b[J\u001b[J\u001b[J\u001b[J\u001b[J\u001b[J\u001b[J\u001b[J\u001b[J\u001b[J\u001b[J\u001b[J\u001b[J\u001b[J\u001b[J\u001b[J\u001b[J\u001b[J\u001b[J\u001b[J\u001b[J\u001b[J\u001b[J\u001b[J\u001b[J\u001b[J\u001b[J\u001b[J\u001b[J\u001b[J\u001b[J\u001b[J\u001b[J\u001b[J\u001b[J\u001b[J\u001b[J\u001b[J\u001b[J\u001b[J\u001b[J\u001b[J\u001b[J\u001b[J\u001b[J\u001b[J\u001b[J\u001b[J\u001b[J\u001b[J\u001b[J\u001b[J\u001b[J\u001b[J\u001b[J\u001b[J\u001b[J\u001b[J\u001b[J\u001b[J\u001b[J\u001b[J\u001b[J\u001b[J\u001b[J\u001b[J\u001b[J\u001b[J\u001b[J\u001b[J\u001b[J\u001b[J\u001b[J\u001b[J\u001b[J\u001b[J\u001b[J\u001b[J\u001b[J\u001b[J\u001b[J\u001b[J\u001b[J\u001b[J\u001b[J     total [#############################################.....] 91.67%\n",
      "this epoch [################..................................] 33.33%\n",
      "     11000 iter, 18 epoch / 20 epochs\n",
      "    3.9826 iters/sec. Estimated time to finish: 0:04:11.094147.\n",
      "\u001b[4A\u001b[J\u001b[J\u001b[J\u001b[J\u001b[J\u001b[J\u001b[J\u001b[J\u001b[J\u001b[J\u001b[J\u001b[J\u001b[J\u001b[J\u001b[J\u001b[J\u001b[J\u001b[J\u001b[J\u001b[J\u001b[J\u001b[J\u001b[J\u001b[J\u001b[J\u001b[J\u001b[J\u001b[J\u001b[J\u001b[J\u001b[J\u001b[J\u001b[J\u001b[J\u001b[J\u001b[J\u001b[J\u001b[J\u001b[J\u001b[J\u001b[J\u001b[J\u001b[J\u001b[J\u001b[J\u001b[J\u001b[J\u001b[J\u001b[J\u001b[J\u001b[J\u001b[J\u001b[J\u001b[J\u001b[J\u001b[J\u001b[J\u001b[J\u001b[J\u001b[J\u001b[J\u001b[J\u001b[J\u001b[J\u001b[J\u001b[J\u001b[J\u001b[J\u001b[J\u001b[J\u001b[J\u001b[J\u001b[J\u001b[J\u001b[J\u001b[J\u001b[J\u001b[J\u001b[J\u001b[J\u001b[J\u001b[J\u001b[J\u001b[J\u001b[J\u001b[J\u001b[J\u001b[J\u001b[J\u001b[J\u001b[J\u001b[J\u001b[J\u001b[J\u001b[J\u001b[J\u001b[J\u001b[J\u001b[J\u001b[J\u001b[J     total [##############################################....] 92.50%\n",
      "this epoch [#########################.........................] 50.00%\n",
      "     11100 iter, 18 epoch / 20 epochs\n",
      "     3.974 iters/sec. Estimated time to finish: 0:03:46.473406.\n",
      "\u001b[4A\u001b[J\u001b[J\u001b[J\u001b[J\u001b[J\u001b[J\u001b[J\u001b[J\u001b[J\u001b[J\u001b[J\u001b[J\u001b[J\u001b[J\u001b[J\u001b[J\u001b[J\u001b[J\u001b[J\u001b[J\u001b[J\u001b[J\u001b[J\u001b[J\u001b[J\u001b[J\u001b[J\u001b[J\u001b[J\u001b[J\u001b[J\u001b[J\u001b[J\u001b[J\u001b[J\u001b[J\u001b[J\u001b[J\u001b[J\u001b[J\u001b[J\u001b[J\u001b[J\u001b[J\u001b[J\u001b[J\u001b[J\u001b[J\u001b[J\u001b[J\u001b[J\u001b[J\u001b[J\u001b[J\u001b[J\u001b[J\u001b[J\u001b[J\u001b[J\u001b[J\u001b[J\u001b[J\u001b[J\u001b[J\u001b[J\u001b[J\u001b[J\u001b[J\u001b[J\u001b[J\u001b[J\u001b[J\u001b[J\u001b[J\u001b[J\u001b[J\u001b[J\u001b[J\u001b[J\u001b[J\u001b[J\u001b[J\u001b[J\u001b[J\u001b[J\u001b[J\u001b[J\u001b[J\u001b[J\u001b[J\u001b[J\u001b[J\u001b[J\u001b[J\u001b[J\u001b[J\u001b[J\u001b[J\u001b[J\u001b[J\u001b[J     total [##############################################....] 93.33%\n",
      "this epoch [#################################.................] 66.67%\n",
      "     11200 iter, 18 epoch / 20 epochs\n",
      "    3.9638 iters/sec. Estimated time to finish: 0:03:21.827385.\n",
      "\u001b[4A\u001b[J\u001b[J\u001b[J\u001b[J\u001b[J\u001b[J\u001b[J\u001b[J\u001b[J\u001b[J\u001b[J\u001b[J\u001b[J\u001b[J\u001b[J\u001b[J\u001b[J\u001b[J\u001b[J\u001b[J\u001b[J\u001b[J\u001b[J\u001b[J\u001b[J\u001b[J\u001b[J\u001b[J\u001b[J\u001b[J\u001b[J\u001b[J\u001b[J\u001b[J\u001b[J\u001b[J\u001b[J\u001b[J\u001b[J\u001b[J\u001b[J\u001b[J\u001b[J\u001b[J\u001b[J\u001b[J\u001b[J\u001b[J\u001b[J\u001b[J\u001b[J\u001b[J\u001b[J\u001b[J\u001b[J\u001b[J\u001b[J\u001b[J\u001b[J\u001b[J\u001b[J\u001b[J\u001b[J\u001b[J\u001b[J\u001b[J\u001b[J\u001b[J\u001b[J\u001b[J\u001b[J\u001b[J\u001b[J\u001b[J\u001b[J\u001b[J\u001b[J\u001b[J\u001b[J\u001b[J\u001b[J\u001b[J\u001b[J\u001b[J\u001b[J\u001b[J\u001b[J\u001b[J\u001b[J\u001b[J\u001b[J\u001b[J\u001b[J\u001b[J\u001b[J\u001b[J\u001b[J\u001b[J\u001b[J\u001b[J\u001b[J     total [###############################################...] 94.17%\n",
      "this epoch [#########################################.........] 83.33%\n",
      "     11300 iter, 18 epoch / 20 epochs\n",
      "    3.9578 iters/sec. Estimated time to finish: 0:02:56.867754.\n",
      "\u001b[4A\u001b[J\u001b[J\u001b[J\u001b[J\u001b[J\u001b[J\u001b[J\u001b[J\u001b[J\u001b[J\u001b[J\u001b[J\u001b[J\u001b[J\u001b[J\u001b[J\u001b[J\u001b[J\u001b[J\u001b[J\u001b[J\u001b[J\u001b[J\u001b[J\u001b[J\u001b[J\u001b[J\u001b[J\u001b[J\u001b[J\u001b[J\u001b[J\u001b[J\u001b[J\u001b[J\u001b[J\u001b[J\u001b[J\u001b[J\u001b[J\u001b[J\u001b[J\u001b[J\u001b[J\u001b[J\u001b[J\u001b[J\u001b[J\u001b[J\u001b[J\u001b[J\u001b[J\u001b[J\u001b[J\u001b[J\u001b[J\u001b[J\u001b[J\u001b[J\u001b[J\u001b[J\u001b[J\u001b[J\u001b[J\u001b[J\u001b[J\u001b[J\u001b[J\u001b[J\u001b[J\u001b[J\u001b[J\u001b[J\u001b[J\u001b[J\u001b[J\u001b[J\u001b[J\u001b[J\u001b[J\u001b[J\u001b[J\u001b[J\u001b[J\u001b[J\u001b[J\u001b[J\u001b[J\u001b[J\u001b[J\u001b[J\u001b[J\u001b[J\u001b[J\u001b[J\u001b[J\u001b[J\u001b[J\u001b[J\u001b[J19          0.00702099  0.16049               0.99835        0.9812                    \n",
      "\u001b[J     total [###############################################...] 95.00%\n",
      "this epoch [..................................................]  0.00%\n",
      "     11400 iter, 19 epoch / 20 epochs\n",
      "    3.9474 iters/sec. Estimated time to finish: 0:02:31.998299.\n",
      "\u001b[4A\u001b[J\u001b[J\u001b[J\u001b[J\u001b[J\u001b[J\u001b[J\u001b[J\u001b[J\u001b[J\u001b[J\u001b[J\u001b[J\u001b[J\u001b[J\u001b[J\u001b[J\u001b[J\u001b[J\u001b[J\u001b[J\u001b[J\u001b[J\u001b[J\u001b[J\u001b[J\u001b[J\u001b[J\u001b[J\u001b[J\u001b[J\u001b[J\u001b[J\u001b[J\u001b[J\u001b[J\u001b[J\u001b[J\u001b[J\u001b[J\u001b[J\u001b[J\u001b[J\u001b[J\u001b[J\u001b[J\u001b[J\u001b[J\u001b[J\u001b[J\u001b[J\u001b[J\u001b[J\u001b[J\u001b[J\u001b[J\u001b[J\u001b[J\u001b[J\u001b[J\u001b[J\u001b[J\u001b[J\u001b[J\u001b[J\u001b[J\u001b[J\u001b[J\u001b[J\u001b[J\u001b[J\u001b[J\u001b[J\u001b[J\u001b[J\u001b[J\u001b[J\u001b[J\u001b[J\u001b[J\u001b[J\u001b[J\u001b[J\u001b[J\u001b[J\u001b[J\u001b[J\u001b[J\u001b[J\u001b[J\u001b[J\u001b[J\u001b[J\u001b[J\u001b[J\u001b[J\u001b[J\u001b[J\u001b[J\u001b[J\u001b[J     total [###############################################...] 95.83%\n",
      "this epoch [########..........................................] 16.67%\n",
      "     11500 iter, 19 epoch / 20 epochs\n",
      "      3.93 iters/sec. Estimated time to finish: 0:02:07.227281.\n",
      "\u001b[4A\u001b[J\u001b[J\u001b[J\u001b[J\u001b[J\u001b[J\u001b[J\u001b[J\u001b[J\u001b[J\u001b[J\u001b[J\u001b[J\u001b[J\u001b[J\u001b[J\u001b[J\u001b[J\u001b[J\u001b[J\u001b[J\u001b[J\u001b[J\u001b[J\u001b[J\u001b[J\u001b[J\u001b[J\u001b[J\u001b[J\u001b[J\u001b[J\u001b[J\u001b[J\u001b[J\u001b[J\u001b[J\u001b[J\u001b[J\u001b[J\u001b[J\u001b[J\u001b[J\u001b[J\u001b[J\u001b[J\u001b[J\u001b[J\u001b[J\u001b[J\u001b[J\u001b[J\u001b[J\u001b[J\u001b[J\u001b[J\u001b[J\u001b[J\u001b[J\u001b[J\u001b[J\u001b[J\u001b[J\u001b[J\u001b[J\u001b[J\u001b[J\u001b[J\u001b[J\u001b[J\u001b[J\u001b[J\u001b[J\u001b[J\u001b[J\u001b[J\u001b[J\u001b[J\u001b[J\u001b[J\u001b[J\u001b[J\u001b[J\u001b[J\u001b[J\u001b[J\u001b[J\u001b[J\u001b[J\u001b[J\u001b[J\u001b[J\u001b[J\u001b[J\u001b[J\u001b[J\u001b[J\u001b[J\u001b[J\u001b[J\u001b[J     total [################################################..] 96.67%\n",
      "this epoch [################..................................] 33.33%\n",
      "     11600 iter, 19 epoch / 20 epochs\n",
      "    3.9181 iters/sec. Estimated time to finish: 0:01:42.090507.\n",
      "\u001b[4A\u001b[J\u001b[J\u001b[J\u001b[J\u001b[J\u001b[J\u001b[J\u001b[J\u001b[J\u001b[J\u001b[J\u001b[J\u001b[J\u001b[J\u001b[J\u001b[J\u001b[J\u001b[J\u001b[J\u001b[J\u001b[J\u001b[J\u001b[J\u001b[J\u001b[J\u001b[J\u001b[J\u001b[J\u001b[J\u001b[J\u001b[J\u001b[J\u001b[J\u001b[J\u001b[J\u001b[J\u001b[J\u001b[J\u001b[J\u001b[J\u001b[J\u001b[J\u001b[J\u001b[J\u001b[J\u001b[J\u001b[J\u001b[J\u001b[J\u001b[J\u001b[J\u001b[J\u001b[J\u001b[J\u001b[J\u001b[J\u001b[J\u001b[J\u001b[J\u001b[J\u001b[J\u001b[J\u001b[J\u001b[J\u001b[J\u001b[J\u001b[J\u001b[J\u001b[J\u001b[J\u001b[J\u001b[J\u001b[J\u001b[J\u001b[J\u001b[J\u001b[J\u001b[J\u001b[J\u001b[J\u001b[J\u001b[J\u001b[J\u001b[J\u001b[J\u001b[J\u001b[J\u001b[J\u001b[J\u001b[J\u001b[J\u001b[J\u001b[J\u001b[J\u001b[J\u001b[J\u001b[J\u001b[J\u001b[J\u001b[J\u001b[J     total [################################################..] 97.50%\n",
      "this epoch [#########################.........................] 50.00%\n",
      "     11700 iter, 19 epoch / 20 epochs\n",
      "    3.9081 iters/sec. Estimated time to finish: 0:01:16.762879.\n",
      "\u001b[4A\u001b[J\u001b[J\u001b[J\u001b[J\u001b[J\u001b[J\u001b[J\u001b[J\u001b[J\u001b[J\u001b[J\u001b[J\u001b[J\u001b[J\u001b[J\u001b[J\u001b[J\u001b[J\u001b[J\u001b[J\u001b[J\u001b[J\u001b[J\u001b[J\u001b[J\u001b[J\u001b[J\u001b[J\u001b[J\u001b[J\u001b[J\u001b[J\u001b[J\u001b[J\u001b[J\u001b[J\u001b[J\u001b[J\u001b[J\u001b[J\u001b[J\u001b[J\u001b[J\u001b[J\u001b[J\u001b[J\u001b[J\u001b[J\u001b[J\u001b[J\u001b[J\u001b[J\u001b[J\u001b[J\u001b[J\u001b[J\u001b[J\u001b[J\u001b[J\u001b[J\u001b[J\u001b[J\u001b[J\u001b[J\u001b[J\u001b[J\u001b[J\u001b[J\u001b[J\u001b[J\u001b[J\u001b[J\u001b[J\u001b[J\u001b[J\u001b[J\u001b[J\u001b[J\u001b[J\u001b[J\u001b[J\u001b[J\u001b[J\u001b[J\u001b[J\u001b[J\u001b[J\u001b[J\u001b[J\u001b[J\u001b[J\u001b[J\u001b[J\u001b[J\u001b[J\u001b[J\u001b[J\u001b[J\u001b[J\u001b[J\u001b[J     total [#################################################.] 98.33%\n",
      "this epoch [#################################.................] 66.67%\n",
      "     11800 iter, 19 epoch / 20 epochs\n",
      "    3.8972 iters/sec. Estimated time to finish: 0:00:51.319554.\n",
      "\u001b[4A\u001b[J\u001b[J\u001b[J\u001b[J\u001b[J\u001b[J\u001b[J\u001b[J\u001b[J\u001b[J\u001b[J\u001b[J\u001b[J\u001b[J\u001b[J\u001b[J\u001b[J\u001b[J\u001b[J\u001b[J\u001b[J\u001b[J\u001b[J\u001b[J\u001b[J\u001b[J\u001b[J\u001b[J\u001b[J\u001b[J\u001b[J\u001b[J\u001b[J\u001b[J\u001b[J\u001b[J\u001b[J\u001b[J\u001b[J\u001b[J\u001b[J\u001b[J\u001b[J\u001b[J\u001b[J\u001b[J\u001b[J\u001b[J\u001b[J\u001b[J\u001b[J\u001b[J\u001b[J\u001b[J\u001b[J\u001b[J\u001b[J\u001b[J\u001b[J\u001b[J\u001b[J\u001b[J\u001b[J\u001b[J\u001b[J\u001b[J\u001b[J\u001b[J\u001b[J\u001b[J\u001b[J\u001b[J\u001b[J\u001b[J\u001b[J\u001b[J\u001b[J\u001b[J\u001b[J\u001b[J\u001b[J\u001b[J\u001b[J\u001b[J\u001b[J\u001b[J\u001b[J\u001b[J\u001b[J\u001b[J\u001b[J\u001b[J\u001b[J\u001b[J\u001b[J\u001b[J\u001b[J\u001b[J\u001b[J\u001b[J\u001b[J     total [#################################################.] 99.17%\n",
      "this epoch [#########################################.........] 83.33%\n",
      "     11900 iter, 19 epoch / 20 epochs\n",
      "    3.8888 iters/sec. Estimated time to finish: 0:00:25.714634.\n",
      "\u001b[4A\u001b[J\u001b[J\u001b[J\u001b[J\u001b[J\u001b[J\u001b[J\u001b[J\u001b[J\u001b[J\u001b[J\u001b[J\u001b[J\u001b[J\u001b[J\u001b[J\u001b[J\u001b[J\u001b[J\u001b[J\u001b[J\u001b[J\u001b[J\u001b[J\u001b[J\u001b[J\u001b[J\u001b[J\u001b[J\u001b[J\u001b[J\u001b[J\u001b[J\u001b[J\u001b[J\u001b[J\u001b[J\u001b[J\u001b[J\u001b[J\u001b[J\u001b[J\u001b[J\u001b[J\u001b[J\u001b[J\u001b[J\u001b[J\u001b[J\u001b[J\u001b[J\u001b[J\u001b[J\u001b[J\u001b[J\u001b[J\u001b[J\u001b[J\u001b[J\u001b[J\u001b[J\u001b[J\u001b[J\u001b[J\u001b[J\u001b[J\u001b[J\u001b[J\u001b[J\u001b[J\u001b[J\u001b[J\u001b[J\u001b[J\u001b[J\u001b[J\u001b[J\u001b[J\u001b[J\u001b[J\u001b[J\u001b[J\u001b[J\u001b[J\u001b[J\u001b[J\u001b[J\u001b[J\u001b[J\u001b[J\u001b[J\u001b[J\u001b[J\u001b[J\u001b[J\u001b[J\u001b[J\u001b[J\u001b[J\u001b[J20          0.00366776  0.167475              0.99885        0.9809                    \n",
      "\u001b[J     total [##################################################] 100.00%\n",
      "this epoch [..................................................]  0.00%\n",
      "     12000 iter, 20 epoch / 20 epochs\n",
      "    3.8781 iters/sec. Estimated time to finish: 0:00:00.\n",
      "\u001b[4A\u001b[J"
     ]
    }
   ],
   "source": [
    "trainer.run()"
   ]
  },
  {
   "cell_type": "markdown",
   "metadata": {},
   "source": [
    "## 畳込みニューラルネットワーク(CNN)によるMNISTの学習"
   ]
  },
  {
   "cell_type": "code",
   "execution_count": null,
   "metadata": {
    "collapsed": true
   },
   "outputs": [],
   "source": []
  }
 ],
 "metadata": {
  "anaconda-cloud": {},
  "kernelspec": {
   "display_name": "Python 2",
   "language": "python",
   "name": "python2"
  },
  "language_info": {
   "codemirror_mode": {
    "name": "ipython",
    "version": 2
   },
   "file_extension": ".py",
   "mimetype": "text/x-python",
   "name": "python",
   "nbconvert_exporter": "python",
   "pygments_lexer": "ipython2",
   "version": "2.7.6"
  }
 },
 "nbformat": 4,
 "nbformat_minor": 0
}
